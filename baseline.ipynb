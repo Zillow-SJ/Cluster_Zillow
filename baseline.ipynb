{
 "cells": [
  {
   "cell_type": "code",
   "execution_count": 28,
   "metadata": {},
   "outputs": [],
   "source": [
    "import warnings\n",
    "warnings.filterwarnings(\"ignore\")\n",
    "\n",
    "import pandas as pd\n",
    "import numpy as np\n",
    "from sklearn.preprocessing import StandardScaler, MinMaxScaler\n",
    "#import wrangle\n",
    "import env\n",
    "import seaborn as sns\n",
    "import acquire\n",
    "import prep\n",
    "import scipy.stats as stats\n",
    "import matplotlib.pyplot as plt\n",
    "\n",
    "from sklearn.linear_model import LinearRegression\n",
    "\n",
    "from sklearn.model_selection import train_test_split\n",
    "\n",
    "\n",
    "import prep\n",
    "import seaborn as sns\n",
    "from sklearn.cluster import KMeans\n",
    "\n",
    "\n",
    "import matplotlib.pyplot as plt\n",
    "\n",
    "from sklearn.preprocessing import StandardScaler, MinMaxScaler\n",
    "from sklearn.metrics import mean_squared_error, r2_score, explained_variance_score\n",
    "from math import sqrt\n",
    "import warnings\n",
    "from statsmodels.formula.api import ols"
   ]
  },
  {
   "cell_type": "code",
   "execution_count": 2,
   "metadata": {},
   "outputs": [],
   "source": [
    "#single family residence from zillow DB\n",
    "df = prep.prep_df()"
   ]
  },
  {
   "cell_type": "code",
   "execution_count": 3,
   "metadata": {},
   "outputs": [
    {
     "data": {
      "text/html": [
       "<div>\n",
       "<style scoped>\n",
       "    .dataframe tbody tr th:only-of-type {\n",
       "        vertical-align: middle;\n",
       "    }\n",
       "\n",
       "    .dataframe tbody tr th {\n",
       "        vertical-align: top;\n",
       "    }\n",
       "\n",
       "    .dataframe thead th {\n",
       "        text-align: right;\n",
       "    }\n",
       "</style>\n",
       "<table border=\"1\" class=\"dataframe\">\n",
       "  <thead>\n",
       "    <tr style=\"text-align: right;\">\n",
       "      <th></th>\n",
       "      <th>0</th>\n",
       "      <th>1</th>\n",
       "      <th>2</th>\n",
       "      <th>3</th>\n",
       "      <th>4</th>\n",
       "    </tr>\n",
       "  </thead>\n",
       "  <tbody>\n",
       "    <tr>\n",
       "      <th>bathrooms</th>\n",
       "      <td>2.000000e+00</td>\n",
       "      <td>4.000000e+00</td>\n",
       "      <td>2.000000e+00</td>\n",
       "      <td>1.000000e+00</td>\n",
       "      <td>2.000000e+00</td>\n",
       "    </tr>\n",
       "    <tr>\n",
       "      <th>bedrooms</th>\n",
       "      <td>4.000000e+00</td>\n",
       "      <td>3.000000e+00</td>\n",
       "      <td>3.000000e+00</td>\n",
       "      <td>3.000000e+00</td>\n",
       "      <td>3.000000e+00</td>\n",
       "    </tr>\n",
       "    <tr>\n",
       "      <th>sqft</th>\n",
       "      <td>3.633000e+03</td>\n",
       "      <td>1.620000e+03</td>\n",
       "      <td>2.077000e+03</td>\n",
       "      <td>1.244000e+03</td>\n",
       "      <td>1.300000e+03</td>\n",
       "    </tr>\n",
       "    <tr>\n",
       "      <th>tax_value</th>\n",
       "      <td>2.964250e+05</td>\n",
       "      <td>8.477700e+05</td>\n",
       "      <td>6.467600e+05</td>\n",
       "      <td>1.694710e+05</td>\n",
       "      <td>2.332660e+05</td>\n",
       "    </tr>\n",
       "    <tr>\n",
       "      <th>fips</th>\n",
       "      <td>6.037000e+03</td>\n",
       "      <td>6.037000e+03</td>\n",
       "      <td>6.037000e+03</td>\n",
       "      <td>6.037000e+03</td>\n",
       "      <td>6.037000e+03</td>\n",
       "    </tr>\n",
       "    <tr>\n",
       "      <th>latitude</th>\n",
       "      <td>3.456002e+07</td>\n",
       "      <td>3.399620e+07</td>\n",
       "      <td>3.401298e+07</td>\n",
       "      <td>3.395356e+07</td>\n",
       "      <td>3.389713e+07</td>\n",
       "    </tr>\n",
       "    <tr>\n",
       "      <th>longitude</th>\n",
       "      <td>-1.181698e+08</td>\n",
       "      <td>-1.184380e+08</td>\n",
       "      <td>-1.184792e+08</td>\n",
       "      <td>-1.180839e+08</td>\n",
       "      <td>-1.181030e+08</td>\n",
       "    </tr>\n",
       "    <tr>\n",
       "      <th>lotsizesquarefeet</th>\n",
       "      <td>9.826000e+03</td>\n",
       "      <td>1.284275e+04</td>\n",
       "      <td>6.490000e+03</td>\n",
       "      <td>6.021000e+03</td>\n",
       "      <td>4.917000e+03</td>\n",
       "    </tr>\n",
       "    <tr>\n",
       "      <th>regionidcity</th>\n",
       "      <td>4.022700e+04</td>\n",
       "      <td>1.244700e+04</td>\n",
       "      <td>2.696400e+04</td>\n",
       "      <td>1.371600e+04</td>\n",
       "      <td>5.363600e+04</td>\n",
       "    </tr>\n",
       "    <tr>\n",
       "      <th>regionidcounty</th>\n",
       "      <td>3.101000e+03</td>\n",
       "      <td>3.101000e+03</td>\n",
       "      <td>3.101000e+03</td>\n",
       "      <td>3.101000e+03</td>\n",
       "      <td>3.101000e+03</td>\n",
       "    </tr>\n",
       "    <tr>\n",
       "      <th>regionidzip</th>\n",
       "      <td>9.732900e+04</td>\n",
       "      <td>9.604700e+04</td>\n",
       "      <td>9.615200e+04</td>\n",
       "      <td>9.620100e+04</td>\n",
       "      <td>9.619300e+04</td>\n",
       "    </tr>\n",
       "    <tr>\n",
       "      <th>yearbuilt</th>\n",
       "      <td>2.005000e+03</td>\n",
       "      <td>2.011000e+03</td>\n",
       "      <td>1.926000e+03</td>\n",
       "      <td>1.950000e+03</td>\n",
       "      <td>1.950000e+03</td>\n",
       "    </tr>\n",
       "    <tr>\n",
       "      <th>structuretaxvaluedollarcnt</th>\n",
       "      <td>2.223210e+05</td>\n",
       "      <td>3.395320e+05</td>\n",
       "      <td>2.101920e+05</td>\n",
       "      <td>1.080400e+05</td>\n",
       "      <td>7.741500e+04</td>\n",
       "    </tr>\n",
       "    <tr>\n",
       "      <th>logerror</th>\n",
       "      <td>4.246290e-02</td>\n",
       "      <td>-1.954560e-02</td>\n",
       "      <td>-4.080656e-02</td>\n",
       "      <td>4.241206e-02</td>\n",
       "      <td>-9.080771e-04</td>\n",
       "    </tr>\n",
       "  </tbody>\n",
       "</table>\n",
       "</div>"
      ],
      "text/plain": [
       "                                       0             1             2  \\\n",
       "bathrooms                   2.000000e+00  4.000000e+00  2.000000e+00   \n",
       "bedrooms                    4.000000e+00  3.000000e+00  3.000000e+00   \n",
       "sqft                        3.633000e+03  1.620000e+03  2.077000e+03   \n",
       "tax_value                   2.964250e+05  8.477700e+05  6.467600e+05   \n",
       "fips                        6.037000e+03  6.037000e+03  6.037000e+03   \n",
       "latitude                    3.456002e+07  3.399620e+07  3.401298e+07   \n",
       "longitude                  -1.181698e+08 -1.184380e+08 -1.184792e+08   \n",
       "lotsizesquarefeet           9.826000e+03  1.284275e+04  6.490000e+03   \n",
       "regionidcity                4.022700e+04  1.244700e+04  2.696400e+04   \n",
       "regionidcounty              3.101000e+03  3.101000e+03  3.101000e+03   \n",
       "regionidzip                 9.732900e+04  9.604700e+04  9.615200e+04   \n",
       "yearbuilt                   2.005000e+03  2.011000e+03  1.926000e+03   \n",
       "structuretaxvaluedollarcnt  2.223210e+05  3.395320e+05  2.101920e+05   \n",
       "logerror                    4.246290e-02 -1.954560e-02 -4.080656e-02   \n",
       "\n",
       "                                       3             4  \n",
       "bathrooms                   1.000000e+00  2.000000e+00  \n",
       "bedrooms                    3.000000e+00  3.000000e+00  \n",
       "sqft                        1.244000e+03  1.300000e+03  \n",
       "tax_value                   1.694710e+05  2.332660e+05  \n",
       "fips                        6.037000e+03  6.037000e+03  \n",
       "latitude                    3.395356e+07  3.389713e+07  \n",
       "longitude                  -1.180839e+08 -1.181030e+08  \n",
       "lotsizesquarefeet           6.021000e+03  4.917000e+03  \n",
       "regionidcity                1.371600e+04  5.363600e+04  \n",
       "regionidcounty              3.101000e+03  3.101000e+03  \n",
       "regionidzip                 9.620100e+04  9.619300e+04  \n",
       "yearbuilt                   1.950000e+03  1.950000e+03  \n",
       "structuretaxvaluedollarcnt  1.080400e+05  7.741500e+04  \n",
       "logerror                    4.241206e-02 -9.080771e-04  "
      ]
     },
     "execution_count": 3,
     "metadata": {},
     "output_type": "execute_result"
    }
   ],
   "source": [
    "df.head().T"
   ]
  },
  {
   "cell_type": "code",
   "execution_count": 54,
   "metadata": {},
   "outputs": [],
   "source": [
    "train, test = train_test_split(df, train_size = .75, random_state = 123)\n",
    "train['tax_per_sqft'] = train.tax_value/train.sqft"
   ]
  },
  {
   "cell_type": "code",
   "execution_count": 55,
   "metadata": {},
   "outputs": [],
   "source": [
    "X_train = train.drop(columns=['logerror','fips','latitude','longitude','regionidcity','regionidcounty','regionidzip'])\n",
    "y_train = train[['logerror']]\n",
    "X_test = test.drop(columns=['logerror','fips','latitude','longitude','regionidcity','regionidcounty','regionidzip'])\n",
    "y_test = test[['logerror']]\n",
    "X_train.tax_value = X_train.tax_value /1000\n",
    "X_train.structuretaxvaluedollarcnt = X_train.structuretaxvaluedollarcnt/1000\n"
   ]
  },
  {
   "cell_type": "code",
   "execution_count": 56,
   "metadata": {},
   "outputs": [],
   "source": [
    "#adding a baseline yhat as mean of log error\n",
    "train['mean_logerror'] = train.logerror.mean()\n",
    "train['residual'] = train['logerror']- train['mean_logerror']"
   ]
  },
  {
   "cell_type": "code",
   "execution_count": 57,
   "metadata": {},
   "outputs": [
    {
     "data": {
      "image/png": "[encoded data removed]",
      "text/plain": [
       "<Figure size 864x720 with 2 Axes>"
      ]
     },
     "metadata": {
      "needs_background": "light"
     },
     "output_type": "display_data"
    }
   ],
   "source": [
    "plt.figure(figsize=(12,10))\n",
    "subset = train[['bathrooms','bedrooms','sqft','tax_value','logerror']]\n",
    "cor = subset.corr()\n",
    "sns.heatmap(cor,annot=True,cmap=plt.cm.Blues)\n",
    "plt.show()"
   ]
  },
  {
   "cell_type": "code",
   "execution_count": 58,
   "metadata": {},
   "outputs": [
    {
     "name": "stdout",
     "output_type": "stream",
     "text": [
      "MSE =  0.028226598428296255\n"
     ]
    }
   ],
   "source": [
    "# MSE of baseline\n",
    "train['residual^2'] = train.residual ** 2\n",
    "SSE = sum(train['residual^2'])\n",
    "MSE = SSE/len(train)\n",
    "print(\"MSE = \", MSE)"
   ]
  },
  {
   "cell_type": "code",
   "execution_count": 59,
   "metadata": {},
   "outputs": [
    {
     "name": "stdout",
     "output_type": "stream",
     "text": [
      "r squared =  5.88e-05\n"
     ]
    }
   ],
   "source": [
    "x = train[['sqft','bedrooms']]\n",
    "y = train[['logerror']]\n",
    "ols_model = ols('y ~ x', data=train).fit()\n",
    "train['yhat'] = ols_model.predict(x)\n",
    "r2 = ols_model.rsquared\n",
    "print('r squared = ',round(r2,7))"
   ]
  },
  {
   "cell_type": "code",
   "execution_count": 60,
   "metadata": {},
   "outputs": [
    {
     "name": "stdout",
     "output_type": "stream",
     "text": [
      "MSE =  0.028226598428296255\n"
     ]
    }
   ],
   "source": [
    "#MSE of sqft and bedrooms as x variables\n",
    "train['residual^2'] = train.residual ** 2\n",
    "SSE = sum(train['residual^2'])\n",
    "MSE = SSE/len(train)\n",
    "print(\"MSE = \", MSE)"
   ]
  },
  {
   "cell_type": "code",
   "execution_count": 61,
   "metadata": {},
   "outputs": [
    {
     "name": "stdout",
     "output_type": "stream",
     "text": [
      "Baseline:  0.028226598428296407\n",
      "Model1:  0.028224938702324065\n"
     ]
    },
    {
     "data": {
      "text/plain": [
       "False"
      ]
     },
     "execution_count": 61,
     "metadata": {},
     "output_type": "execute_result"
    }
   ],
   "source": [
    "#Model1 performs very slightly better than the baseline\n",
    "baseline = mean_squared_error(train.logerror,train.mean_logerror)\n",
    "model1 = mean_squared_error(train.logerror,train.yhat)\n",
    "print(\"Baseline: \",baseline)\n",
    "print(\"Model1: \",model1)\n",
    "baseline<model1"
   ]
  },
  {
   "cell_type": "code",
   "execution_count": 62,
   "metadata": {},
   "outputs": [],
   "source": [
    "def target_cluster(y_train,X_train):\n",
    "    kmeans =KMeans(n_clusters=5)\n",
    "    kmeans.fit(y_train)\n",
    "    y_train['cluster'] = kmeans.predict(y_train)\n",
    "    train = X_train.merge(y_train,left_index=True,right_index=True)\n",
    "    return train"
   ]
  },
  {
   "cell_type": "code",
   "execution_count": 46,
   "metadata": {},
   "outputs": [],
   "source": []
  },
  {
   "cell_type": "code",
   "execution_count": 47,
   "metadata": {},
   "outputs": [
    {
     "data": {
      "text/plain": [
       "True"
      ]
     },
     "execution_count": 47,
     "metadata": {},
     "output_type": "execute_result"
    }
   ],
   "source": []
  },
  {
   "cell_type": "code",
   "execution_count": null,
   "metadata": {},
   "outputs": [],
   "source": []
  }
 ],
 "metadata": {
  "kernelspec": {
   "display_name": "Python 3",
   "language": "python",
   "name": "python3"
  },
  "language_info": {
   "codemirror_mode": {
    "name": "ipython",
    "version": 3
   },
   "file_extension": ".py",
   "mimetype": "text/x-python",
   "name": "python",
   "nbconvert_exporter": "python",
   "pygments_lexer": "ipython3",
   "version": "3.7.3"
  }
 },
 "nbformat": 4,
 "nbformat_minor": 2
}

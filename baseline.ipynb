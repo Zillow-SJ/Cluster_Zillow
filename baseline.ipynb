{
 "cells": [
  {
   "cell_type": "code",
   "execution_count": 64,
   "metadata": {},
   "outputs": [],
   "source": [
    "import warnings\n",
    "warnings.filterwarnings(\"ignore\")\n",
    "\n",
    "import pandas as pd\n",
    "import numpy as np\n",
    "from sklearn.preprocessing import StandardScaler, MinMaxScaler\n",
    "#import wrangle\n",
    "import env\n",
    "import seaborn as sns\n",
    "import acquire\n",
    "import prep\n",
    "import scipy.stats as stats\n",
    "import matplotlib.pyplot as plt\n",
    "\n",
    "from sklearn.linear_model import LinearRegression\n",
    "\n",
    "from sklearn.model_selection import train_test_split\n",
    "\n",
    "\n",
    "import prep\n",
    "import seaborn as sns\n",
    "from sklearn.cluster import KMeans\n",
    "\n",
    "\n",
    "import matplotlib.pyplot as plt\n",
    "\n",
    "from sklearn.preprocessing import StandardScaler, MinMaxScaler\n",
    "from sklearn.metrics import mean_squared_error, r2_score, explained_variance_score\n",
    "from math import sqrt\n",
    "import warnings\n",
    "from statsmodels.formula.api import ols"
   ]
  },
  {
   "cell_type": "code",
   "execution_count": 65,
   "metadata": {},
   "outputs": [],
   "source": [
    "#single family residence from zillow DB\n",
    "df = prep.prep_df()"
   ]
  },
  {
   "cell_type": "code",
   "execution_count": 66,
   "metadata": {},
   "outputs": [
    {
     "data": {
      "text/html": [
       "<div>\n",
       "<style scoped>\n",
       "    .dataframe tbody tr th:only-of-type {\n",
       "        vertical-align: middle;\n",
       "    }\n",
       "\n",
       "    .dataframe tbody tr th {\n",
       "        vertical-align: top;\n",
       "    }\n",
       "\n",
       "    .dataframe thead th {\n",
       "        text-align: right;\n",
       "    }\n",
       "</style>\n",
       "<table border=\"1\" class=\"dataframe\">\n",
       "  <thead>\n",
       "    <tr style=\"text-align: right;\">\n",
       "      <th></th>\n",
       "      <th>0</th>\n",
       "      <th>1</th>\n",
       "      <th>2</th>\n",
       "      <th>3</th>\n",
       "      <th>4</th>\n",
       "    </tr>\n",
       "  </thead>\n",
       "  <tbody>\n",
       "    <tr>\n",
       "      <th>bathrooms</th>\n",
       "      <td>2.000000e+00</td>\n",
       "      <td>4.000000e+00</td>\n",
       "      <td>2.000000e+00</td>\n",
       "      <td>1.000000e+00</td>\n",
       "      <td>2.000000e+00</td>\n",
       "    </tr>\n",
       "    <tr>\n",
       "      <th>bedrooms</th>\n",
       "      <td>4.000000e+00</td>\n",
       "      <td>3.000000e+00</td>\n",
       "      <td>3.000000e+00</td>\n",
       "      <td>3.000000e+00</td>\n",
       "      <td>3.000000e+00</td>\n",
       "    </tr>\n",
       "    <tr>\n",
       "      <th>sqft</th>\n",
       "      <td>3.633000e+03</td>\n",
       "      <td>1.620000e+03</td>\n",
       "      <td>2.077000e+03</td>\n",
       "      <td>1.244000e+03</td>\n",
       "      <td>1.300000e+03</td>\n",
       "    </tr>\n",
       "    <tr>\n",
       "      <th>tax_value</th>\n",
       "      <td>2.964250e+05</td>\n",
       "      <td>8.477700e+05</td>\n",
       "      <td>6.467600e+05</td>\n",
       "      <td>1.694710e+05</td>\n",
       "      <td>2.332660e+05</td>\n",
       "    </tr>\n",
       "    <tr>\n",
       "      <th>fips</th>\n",
       "      <td>6.037000e+03</td>\n",
       "      <td>6.037000e+03</td>\n",
       "      <td>6.037000e+03</td>\n",
       "      <td>6.037000e+03</td>\n",
       "      <td>6.037000e+03</td>\n",
       "    </tr>\n",
       "    <tr>\n",
       "      <th>latitude</th>\n",
       "      <td>3.456002e+07</td>\n",
       "      <td>3.399620e+07</td>\n",
       "      <td>3.401298e+07</td>\n",
       "      <td>3.395356e+07</td>\n",
       "      <td>3.389713e+07</td>\n",
       "    </tr>\n",
       "    <tr>\n",
       "      <th>longitude</th>\n",
       "      <td>-1.181698e+08</td>\n",
       "      <td>-1.184380e+08</td>\n",
       "      <td>-1.184792e+08</td>\n",
       "      <td>-1.180839e+08</td>\n",
       "      <td>-1.181030e+08</td>\n",
       "    </tr>\n",
       "    <tr>\n",
       "      <th>lotsizesquarefeet</th>\n",
       "      <td>9.826000e+03</td>\n",
       "      <td>1.284275e+04</td>\n",
       "      <td>6.490000e+03</td>\n",
       "      <td>6.021000e+03</td>\n",
       "      <td>4.917000e+03</td>\n",
       "    </tr>\n",
       "    <tr>\n",
       "      <th>regionidcity</th>\n",
       "      <td>4.022700e+04</td>\n",
       "      <td>1.244700e+04</td>\n",
       "      <td>2.696400e+04</td>\n",
       "      <td>1.371600e+04</td>\n",
       "      <td>5.363600e+04</td>\n",
       "    </tr>\n",
       "    <tr>\n",
       "      <th>regionidcounty</th>\n",
       "      <td>3.101000e+03</td>\n",
       "      <td>3.101000e+03</td>\n",
       "      <td>3.101000e+03</td>\n",
       "      <td>3.101000e+03</td>\n",
       "      <td>3.101000e+03</td>\n",
       "    </tr>\n",
       "    <tr>\n",
       "      <th>regionidzip</th>\n",
       "      <td>9.732900e+04</td>\n",
       "      <td>9.604700e+04</td>\n",
       "      <td>9.615200e+04</td>\n",
       "      <td>9.620100e+04</td>\n",
       "      <td>9.619300e+04</td>\n",
       "    </tr>\n",
       "    <tr>\n",
       "      <th>yearbuilt</th>\n",
       "      <td>2.005000e+03</td>\n",
       "      <td>2.011000e+03</td>\n",
       "      <td>1.926000e+03</td>\n",
       "      <td>1.950000e+03</td>\n",
       "      <td>1.950000e+03</td>\n",
       "    </tr>\n",
       "    <tr>\n",
       "      <th>structuretaxvaluedollarcnt</th>\n",
       "      <td>2.223210e+05</td>\n",
       "      <td>3.395320e+05</td>\n",
       "      <td>2.101920e+05</td>\n",
       "      <td>1.080400e+05</td>\n",
       "      <td>7.741500e+04</td>\n",
       "    </tr>\n",
       "    <tr>\n",
       "      <th>logerror</th>\n",
       "      <td>4.246290e-02</td>\n",
       "      <td>-1.954560e-02</td>\n",
       "      <td>-4.080656e-02</td>\n",
       "      <td>4.241206e-02</td>\n",
       "      <td>-9.080771e-04</td>\n",
       "    </tr>\n",
       "  </tbody>\n",
       "</table>\n",
       "</div>"
      ],
      "text/plain": [
       "                                       0             1             2  \\\n",
       "bathrooms                   2.000000e+00  4.000000e+00  2.000000e+00   \n",
       "bedrooms                    4.000000e+00  3.000000e+00  3.000000e+00   \n",
       "sqft                        3.633000e+03  1.620000e+03  2.077000e+03   \n",
       "tax_value                   2.964250e+05  8.477700e+05  6.467600e+05   \n",
       "fips                        6.037000e+03  6.037000e+03  6.037000e+03   \n",
       "latitude                    3.456002e+07  3.399620e+07  3.401298e+07   \n",
       "longitude                  -1.181698e+08 -1.184380e+08 -1.184792e+08   \n",
       "lotsizesquarefeet           9.826000e+03  1.284275e+04  6.490000e+03   \n",
       "regionidcity                4.022700e+04  1.244700e+04  2.696400e+04   \n",
       "regionidcounty              3.101000e+03  3.101000e+03  3.101000e+03   \n",
       "regionidzip                 9.732900e+04  9.604700e+04  9.615200e+04   \n",
       "yearbuilt                   2.005000e+03  2.011000e+03  1.926000e+03   \n",
       "structuretaxvaluedollarcnt  2.223210e+05  3.395320e+05  2.101920e+05   \n",
       "logerror                    4.246290e-02 -1.954560e-02 -4.080656e-02   \n",
       "\n",
       "                                       3             4  \n",
       "bathrooms                   1.000000e+00  2.000000e+00  \n",
       "bedrooms                    3.000000e+00  3.000000e+00  \n",
       "sqft                        1.244000e+03  1.300000e+03  \n",
       "tax_value                   1.694710e+05  2.332660e+05  \n",
       "fips                        6.037000e+03  6.037000e+03  \n",
       "latitude                    3.395356e+07  3.389713e+07  \n",
       "longitude                  -1.180839e+08 -1.181030e+08  \n",
       "lotsizesquarefeet           6.021000e+03  4.917000e+03  \n",
       "regionidcity                1.371600e+04  5.363600e+04  \n",
       "regionidcounty              3.101000e+03  3.101000e+03  \n",
       "regionidzip                 9.620100e+04  9.619300e+04  \n",
       "yearbuilt                   1.950000e+03  1.950000e+03  \n",
       "structuretaxvaluedollarcnt  1.080400e+05  7.741500e+04  \n",
       "logerror                    4.241206e-02 -9.080771e-04  "
      ]
     },
     "execution_count": 66,
     "metadata": {},
     "output_type": "execute_result"
    }
   ],
   "source": [
    "df.head().T"
   ]
  },
  {
   "cell_type": "code",
   "execution_count": 67,
   "metadata": {},
   "outputs": [],
   "source": [
    "train, test = train_test_split(df, train_size = .75, random_state = 123)\n",
    "train['tax_per_sqft'] = train.tax_value/train.sqft"
   ]
  },
  {
   "cell_type": "code",
   "execution_count": 68,
   "metadata": {},
   "outputs": [],
   "source": [
    "X_train = train.drop(columns=['logerror','fips','latitude','longitude','regionidcity','regionidcounty','regionidzip'])\n",
    "y_train = train[['logerror']]\n",
    "X_test = test.drop(columns=['logerror','fips','latitude','longitude','regionidcity','regionidcounty','regionidzip'])\n",
    "y_test = test[['logerror']]\n",
    "X_train.tax_value = X_train.tax_value /1000\n",
    "X_train.structuretaxvaluedollarcnt = X_train.structuretaxvaluedollarcnt/1000\n"
   ]
  },
  {
   "cell_type": "code",
   "execution_count": 69,
   "metadata": {},
   "outputs": [],
   "source": [
    "#adding a baseline yhat as mean of log error\n",
    "train['mean_logerror'] = train.logerror.mean()\n",
    "train['residual'] = train['logerror']- train['mean_logerror']"
   ]
  },
  {
   "cell_type": "code",
   "execution_count": 70,
   "metadata": {
    "scrolled": true
   },
   "outputs": [
    {
     "data": {
      "image/png": "[encoded data removed]",
      "text/plain": [
       "<Figure size 864x720 with 2 Axes>"
      ]
     },
     "metadata": {
      "needs_background": "light"
     },
     "output_type": "display_data"
    }
   ],
   "source": [
    "plt.figure(figsize=(12,10))\n",
    "subset = train[['bathrooms','bedrooms','sqft','tax_value','logerror']]\n",
    "cor = subset.corr()\n",
    "sns.heatmap(cor,annot=True,cmap=plt.cm.Blues)\n",
    "plt.show()"
   ]
  },
  {
   "cell_type": "code",
   "execution_count": 71,
   "metadata": {},
   "outputs": [
    {
     "name": "stdout",
     "output_type": "stream",
     "text": [
      "MSE =  0.028226598428296255\n"
     ]
    }
   ],
   "source": [
    "# MSE of baseline\n",
    "train['residual^2'] = train.residual ** 2\n",
    "SSE = sum(train['residual^2'])\n",
    "MSE = SSE/len(train)\n",
    "print(\"MSE = \", MSE)"
   ]
  },
  {
   "cell_type": "code",
   "execution_count": 72,
   "metadata": {},
   "outputs": [
    {
     "name": "stdout",
     "output_type": "stream",
     "text": [
      "r squared =  5.88e-05\n"
     ]
    }
   ],
   "source": [
    "#MSE of sqft and bedrooms as x variables\n",
    "x = train[['sqft','bedrooms']]\n",
    "y = train[['logerror']]\n",
    "ols_model = ols('y ~ x', data=train).fit()\n",
    "train['yhat'] = ols_model.predict(x)\n",
    "r2 = ols_model.rsquared\n",
    "print('r squared = ',round(r2,7))"
   ]
  },
  {
   "cell_type": "code",
   "execution_count": 73,
   "metadata": {},
   "outputs": [
    {
     "name": "stdout",
     "output_type": "stream",
     "text": [
      "MSE =  0.028226598428296255\n"
     ]
    }
   ],
   "source": [
    "\n",
    "train['residual^2'] = train.residual ** 2\n",
    "SSE = sum(train['residual^2'])\n",
    "MSE = SSE/len(train)\n",
    "print(\"MSE = \", MSE)"
   ]
  },
  {
   "cell_type": "code",
   "execution_count": 104,
   "metadata": {},
   "outputs": [
    {
     "data": {
      "text/html": [
       "<div>\n",
       "<style scoped>\n",
       "    .dataframe tbody tr th:only-of-type {\n",
       "        vertical-align: middle;\n",
       "    }\n",
       "\n",
       "    .dataframe tbody tr th {\n",
       "        vertical-align: top;\n",
       "    }\n",
       "\n",
       "    .dataframe thead th {\n",
       "        text-align: right;\n",
       "    }\n",
       "</style>\n",
       "<table border=\"1\" class=\"dataframe\">\n",
       "  <thead>\n",
       "    <tr style=\"text-align: right;\">\n",
       "      <th></th>\n",
       "      <th>bathrooms</th>\n",
       "      <th>bedrooms</th>\n",
       "      <th>sqft</th>\n",
       "      <th>tax_value</th>\n",
       "      <th>lotsizesquarefeet</th>\n",
       "      <th>yearbuilt</th>\n",
       "      <th>structuretaxvaluedollarcnt</th>\n",
       "      <th>tax_per_sqft</th>\n",
       "      <th>logerror</th>\n",
       "    </tr>\n",
       "    <tr>\n",
       "      <th>cluster</th>\n",
       "      <th></th>\n",
       "      <th></th>\n",
       "      <th></th>\n",
       "      <th></th>\n",
       "      <th></th>\n",
       "      <th></th>\n",
       "      <th></th>\n",
       "      <th></th>\n",
       "      <th></th>\n",
       "    </tr>\n",
       "  </thead>\n",
       "  <tbody>\n",
       "    <tr>\n",
       "      <th>3</th>\n",
       "      <td>2.202970</td>\n",
       "      <td>3.178218</td>\n",
       "      <td>1861.089109</td>\n",
       "      <td>491.927634</td>\n",
       "      <td>10199.396040</td>\n",
       "      <td>1958.336634</td>\n",
       "      <td>175.277515</td>\n",
       "      <td>237.834107</td>\n",
       "      <td>-1.206134</td>\n",
       "    </tr>\n",
       "    <tr>\n",
       "      <th>4</th>\n",
       "      <td>2.227214</td>\n",
       "      <td>3.297066</td>\n",
       "      <td>1858.762399</td>\n",
       "      <td>448.783292</td>\n",
       "      <td>10404.345081</td>\n",
       "      <td>1960.708907</td>\n",
       "      <td>174.930372</td>\n",
       "      <td>229.479309</td>\n",
       "      <td>-0.162711</td>\n",
       "    </tr>\n",
       "    <tr>\n",
       "      <th>1</th>\n",
       "      <td>2.248233</td>\n",
       "      <td>3.308396</td>\n",
       "      <td>1862.110864</td>\n",
       "      <td>455.408657</td>\n",
       "      <td>9970.128799</td>\n",
       "      <td>1960.999601</td>\n",
       "      <td>176.786122</td>\n",
       "      <td>232.485294</td>\n",
       "      <td>0.015527</td>\n",
       "    </tr>\n",
       "    <tr>\n",
       "      <th>0</th>\n",
       "      <td>2.292669</td>\n",
       "      <td>3.334479</td>\n",
       "      <td>1898.924399</td>\n",
       "      <td>460.900275</td>\n",
       "      <td>9847.796136</td>\n",
       "      <td>1961.163230</td>\n",
       "      <td>187.861656</td>\n",
       "      <td>229.040928</td>\n",
       "      <td>0.367101</td>\n",
       "    </tr>\n",
       "    <tr>\n",
       "      <th>2</th>\n",
       "      <td>2.241803</td>\n",
       "      <td>3.352459</td>\n",
       "      <td>1799.959016</td>\n",
       "      <td>385.694328</td>\n",
       "      <td>7538.578448</td>\n",
       "      <td>1958.762295</td>\n",
       "      <td>150.343418</td>\n",
       "      <td>220.943611</td>\n",
       "      <td>1.860403</td>\n",
       "    </tr>\n",
       "  </tbody>\n",
       "</table>\n",
       "</div>"
      ],
      "text/plain": [
       "         bathrooms  bedrooms         sqft   tax_value  lotsizesquarefeet  \\\n",
       "cluster                                                                    \n",
       "3         2.202970  3.178218  1861.089109  491.927634       10199.396040   \n",
       "4         2.227214  3.297066  1858.762399  448.783292       10404.345081   \n",
       "1         2.248233  3.308396  1862.110864  455.408657        9970.128799   \n",
       "0         2.292669  3.334479  1898.924399  460.900275        9847.796136   \n",
       "2         2.241803  3.352459  1799.959016  385.694328        7538.578448   \n",
       "\n",
       "           yearbuilt  structuretaxvaluedollarcnt  tax_per_sqft  logerror  \n",
       "cluster                                                                   \n",
       "3        1958.336634                  175.277515    237.834107 -1.206134  \n",
       "4        1960.708907                  174.930372    229.479309 -0.162711  \n",
       "1        1960.999601                  176.786122    232.485294  0.015527  \n",
       "0        1961.163230                  187.861656    229.040928  0.367101  \n",
       "2        1958.762295                  150.343418    220.943611  1.860403  "
      ]
     },
     "execution_count": 104,
     "metadata": {},
     "output_type": "execute_result"
    }
   ],
   "source": [
    "train.groupby('cluster').mean().sort_values(by='logerror')"
   ]
  },
  {
   "cell_type": "code",
   "execution_count": 108,
   "metadata": {},
   "outputs": [
    {
     "data": {
      "text/plain": [
       "<matplotlib.axes._subplots.AxesSubplot at 0x1a21c47f98>"
      ]
     },
     "execution_count": 108,
     "metadata": {},
     "output_type": "execute_result"
    },
    {
     "data": {
      "image/png": "[encoded data removed]",
      "text/plain": [
       "<Figure size 720x1008 with 1 Axes>"
      ]
     },
     "metadata": {
      "needs_background": "light"
     },
     "output_type": "display_data"
    }
   ],
   "source": [
    "train.cluster = \"C: \" + train.cluster.astype('str')\n",
    "figsize = plt.figure(figsize=(10,14))\n",
    "sns.scatterplot(x='bathrooms',y='tax_per_sqft',data=train,hue='cluster',palette='Set2')"
   ]
  },
  {
   "cell_type": "code",
   "execution_count": 74,
   "metadata": {},
   "outputs": [
    {
     "name": "stdout",
     "output_type": "stream",
     "text": [
      "Baseline:  0.028226598428296407\n",
      "Model1:  0.028224938702324065\n"
     ]
    },
    {
     "data": {
      "text/plain": [
       "False"
      ]
     },
     "execution_count": 74,
     "metadata": {},
     "output_type": "execute_result"
    }
   ],
   "source": [
    "#Model1 performs very slightly better than the baseline\n",
    "baseline = mean_squared_error(train.logerror,train.mean_logerror)\n",
    "model1 = mean_squared_error(train.logerror,train.yhat)\n",
    "print(\"Baseline: \",baseline)\n",
    "print(\"Model1: \",model1)\n",
    "baseline<model1"
   ]
  },
  {
   "cell_type": "code",
   "execution_count": 82,
   "metadata": {},
   "outputs": [
    {
     "name": "stdout",
     "output_type": "stream",
     "text": [
      "   k           sse\n",
      "0  1  35576.718402\n",
      "1  2   2864.795319\n",
      "2  3    991.530414\n",
      "3  4    456.156781\n",
      "4  5    250.586414\n",
      "5  6    203.075677\n",
      "6  7    160.072531\n",
      "7  8    128.896168\n",
      "8  9     99.121863\n"
     ]
    },
    {
     "data": {
      "image/png": "[encoded data removed]",
      "text/plain": [
       "<Figure size 432x288 with 1 Axes>"
      ]
     },
     "metadata": {
      "needs_background": "light"
     },
     "output_type": "display_data"
    }
   ],
   "source": [
    "ks = range(1,10)\n",
    "sse = []\n",
    "for k in ks:\n",
    "    kmeans = KMeans(n_clusters=k)\n",
    "    kmeans.fit(y_train)\n",
    "\n",
    "    # inertia: Sum of squared distances of samples to their closest cluster center.\n",
    "    sse.append(kmeans.inertia_)\n",
    "\n",
    "print(pd.DataFrame(dict(k=ks, sse=sse)))\n",
    "\n",
    "plt.plot(ks, sse, 'bx-')\n",
    "plt.xlabel('k')\n",
    "plt.ylabel('SSE')\n",
    "plt.title('The Elbow Method to find the optimal k')\n",
    "plt.show()"
   ]
  },
  {
   "cell_type": "code",
   "execution_count": 118,
   "metadata": {},
   "outputs": [],
   "source": [
    "def target_cluster(y_train,X_train):\n",
    "    kmeans =KMeans(n_clusters=3)\n",
    "    kmeans.fit(y_train)\n",
    "    y_train['cluster'] = kmeans.predict(y_train)\n",
    "    train = X_train.merge(y_train,left_index=True,right_index=True)\n",
    "    return train"
   ]
  },
  {
   "cell_type": "code",
   "execution_count": 119,
   "metadata": {},
   "outputs": [],
   "source": [
    "#Clustered by logerror\n",
    "train = target_cluster(y_train,X_train)"
   ]
  },
  {
   "cell_type": "code",
   "execution_count": 120,
   "metadata": {},
   "outputs": [
    {
     "data": {
      "text/plain": [
       "0    35088\n",
       "1     3952\n",
       "2     1868\n",
       "Name: cluster, dtype: int64"
      ]
     },
     "execution_count": 120,
     "metadata": {},
     "output_type": "execute_result"
    }
   ],
   "source": [
    "train.cluster.value_counts()"
   ]
  },
  {
   "cell_type": "code",
   "execution_count": 88,
   "metadata": {},
   "outputs": [
    {
     "data": {
      "text/plain": [
       "cluster\n",
       "0    0.367101\n",
       "1    0.015527\n",
       "2    1.860403\n",
       "3   -1.206134\n",
       "4   -0.162711\n",
       "Name: logerror, dtype: float64"
      ]
     },
     "execution_count": 88,
     "metadata": {},
     "output_type": "execute_result"
    }
   ],
   "source": [
    "train.groupby('cluster').logerror.mean()"
   ]
  },
  {
   "cell_type": "code",
   "execution_count": 90,
   "metadata": {},
   "outputs": [],
   "source": [
    "from sklearn.model_selection import train_test_split\n",
    "from sklearn.ensemble import RandomForestClassifier\n",
    "from sklearn.metrics import classification_report\n",
    "from sklearn.metrics import confusion_matrix"
   ]
  },
  {
   "cell_type": "code",
   "execution_count": 91,
   "metadata": {},
   "outputs": [],
   "source": [
    "rf = RandomForestClassifier(bootstrap=True, class_weight=None, criterion='gini',min_samples_leaf=3,n_estimators=100,max_depth=3, random_state=123)"
   ]
  },
  {
   "cell_type": "code",
   "execution_count": 96,
   "metadata": {},
   "outputs": [],
   "source": [
    "X = train[['bathrooms','sqft','bedrooms']]\n",
    "y = train.cluster\n",
    "X = train[['bathrooms','sqft','bedrooms']]\n",
    "y = train.cluster"
   ]
  },
  {
   "cell_type": "code",
   "execution_count": 97,
   "metadata": {},
   "outputs": [
    {
     "data": {
      "text/plain": [
       "RandomForestClassifier(bootstrap=True, class_weight=None, criterion='gini',\n",
       "                       max_depth=3, max_features='auto', max_leaf_nodes=None,\n",
       "                       min_impurity_decrease=0.0, min_impurity_split=None,\n",
       "                       min_samples_leaf=3, min_samples_split=2,\n",
       "                       min_weight_fraction_leaf=0.0, n_estimators=100,\n",
       "                       n_jobs=None, oob_score=False, random_state=123,\n",
       "                       verbose=0, warm_start=False)"
      ]
     },
     "execution_count": 97,
     "metadata": {},
     "output_type": "execute_result"
    }
   ],
   "source": [
    "rf.fit(X,y)"
   ]
  },
  {
   "cell_type": "code",
   "execution_count": 98,
   "metadata": {},
   "outputs": [
    {
     "name": "stdout",
     "output_type": "stream",
     "text": [
      "[0.29597126 0.51010841 0.19392034]\n"
     ]
    }
   ],
   "source": [
    "print(rf.feature_importances_)"
   ]
  },
  {
   "cell_type": "code",
   "execution_count": 110,
   "metadata": {},
   "outputs": [],
   "source": [
    "y_pred = pd.DataFrame(rf.predict(X))\n",
    "y_pred_proba = rf.predict_proba(X)"
   ]
  },
  {
   "cell_type": "code",
   "execution_count": 100,
   "metadata": {},
   "outputs": [
    {
     "data": {
      "text/plain": [
       "0.8577295394543855"
      ]
     },
     "execution_count": 100,
     "metadata": {},
     "output_type": "execute_result"
    }
   ],
   "source": [
    "rf.score(X,y)"
   ]
  },
  {
   "cell_type": "code",
   "execution_count": 102,
   "metadata": {},
   "outputs": [
    {
     "name": "stdout",
     "output_type": "stream",
     "text": [
      "              precision    recall  f1-score   support\n",
      "\n",
      "           0       0.00      0.00      0.00      1746\n",
      "           1       0.86      1.00      0.92     35088\n",
      "           2       0.00      0.00      0.00       122\n",
      "           3       0.00      0.00      0.00       101\n",
      "           4       0.00      0.00      0.00      3851\n",
      "\n",
      "    accuracy                           0.86     40908\n",
      "   macro avg       0.17      0.20      0.18     40908\n",
      "weighted avg       0.74      0.86      0.79     40908\n",
      "\n"
     ]
    }
   ],
   "source": [
    "print(classification_report(y,y_pred))"
   ]
  },
  {
   "cell_type": "code",
   "execution_count": 114,
   "metadata": {},
   "outputs": [
    {
     "data": {
      "text/plain": [
       "1    40908\n",
       "Name: 0, dtype: int64"
      ]
     },
     "execution_count": 114,
     "metadata": {},
     "output_type": "execute_result"
    }
   ],
   "source": [
    "y_pred[0].value_counts()"
   ]
  },
  {
   "cell_type": "code",
   "execution_count": null,
   "metadata": {},
   "outputs": [],
   "source": []
  }
 ],
 "metadata": {
  "kernelspec": {
   "display_name": "Python 3",
   "language": "python",
   "name": "python3"
  },
  "language_info": {
   "codemirror_mode": {
    "name": "ipython",
    "version": 3
   },
   "file_extension": ".py",
   "mimetype": "text/x-python",
   "name": "python",
   "nbconvert_exporter": "python",
   "pygments_lexer": "ipython3",
   "version": "3.7.3"
  }
 },
 "nbformat": 4,
 "nbformat_minor": 2
}

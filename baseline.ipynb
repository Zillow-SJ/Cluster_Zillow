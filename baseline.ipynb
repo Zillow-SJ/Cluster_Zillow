{
 "cells": [
  {
   "cell_type": "code",
   "execution_count": 140,
   "metadata": {},
   "outputs": [],
   "source": [
    "import warnings\n",
    "warnings.filterwarnings(\"ignore\")\n",
    "\n",
    "import pandas as pd\n",
    "import numpy as np\n",
    "from sklearn.preprocessing import StandardScaler, MinMaxScaler\n",
    "#import wrangle\n",
    "import env\n",
    "import seaborn as sns\n",
    "import acquire\n",
    "import prep\n",
    "import scipy.stats as stats\n",
    "import matplotlib.pyplot as plt\n",
    "\n",
    "from sklearn.linear_model import LinearRegression\n",
    "\n",
    "from sklearn.model_selection import train_test_split\n",
    "\n",
    "\n",
    "import prep\n",
    "import seaborn as sns\n",
    "from sklearn.cluster import KMeans\n",
    "\n",
    "\n",
    "import matplotlib.pyplot as plt\n",
    "\n",
    "from sklearn.preprocessing import StandardScaler, MinMaxScaler\n",
    "from sklearn.metrics import mean_squared_error, r2_score, explained_variance_score\n",
    "from math import sqrt\n",
    "import warnings\n",
    "from statsmodels.formula.api import ols"
   ]
  },
  {
   "cell_type": "code",
   "execution_count": 219,
   "metadata": {},
   "outputs": [],
   "source": [
    "#single family residence from zillow DB\n",
    "df = prep.prep_df()"
   ]
  },
  {
   "cell_type": "code",
   "execution_count": 220,
   "metadata": {},
   "outputs": [
    {
     "data": {
      "text/html": [
       "<div>\n",
       "<style scoped>\n",
       "    .dataframe tbody tr th:only-of-type {\n",
       "        vertical-align: middle;\n",
       "    }\n",
       "\n",
       "    .dataframe tbody tr th {\n",
       "        vertical-align: top;\n",
       "    }\n",
       "\n",
       "    .dataframe thead th {\n",
       "        text-align: right;\n",
       "    }\n",
       "</style>\n",
       "<table border=\"1\" class=\"dataframe\">\n",
       "  <thead>\n",
       "    <tr style=\"text-align: right;\">\n",
       "      <th></th>\n",
       "      <th>0</th>\n",
       "      <th>1</th>\n",
       "      <th>2</th>\n",
       "      <th>3</th>\n",
       "      <th>4</th>\n",
       "    </tr>\n",
       "  </thead>\n",
       "  <tbody>\n",
       "    <tr>\n",
       "      <th>bathrooms</th>\n",
       "      <td>2.000000e+00</td>\n",
       "      <td>4.000000e+00</td>\n",
       "      <td>2.000000e+00</td>\n",
       "      <td>1.000000e+00</td>\n",
       "      <td>2.000000e+00</td>\n",
       "    </tr>\n",
       "    <tr>\n",
       "      <th>bedrooms</th>\n",
       "      <td>4.000000e+00</td>\n",
       "      <td>3.000000e+00</td>\n",
       "      <td>3.000000e+00</td>\n",
       "      <td>3.000000e+00</td>\n",
       "      <td>3.000000e+00</td>\n",
       "    </tr>\n",
       "    <tr>\n",
       "      <th>sqft</th>\n",
       "      <td>3.633000e+03</td>\n",
       "      <td>1.620000e+03</td>\n",
       "      <td>2.077000e+03</td>\n",
       "      <td>1.244000e+03</td>\n",
       "      <td>1.300000e+03</td>\n",
       "    </tr>\n",
       "    <tr>\n",
       "      <th>tax_value</th>\n",
       "      <td>2.964250e+05</td>\n",
       "      <td>8.477700e+05</td>\n",
       "      <td>6.467600e+05</td>\n",
       "      <td>1.694710e+05</td>\n",
       "      <td>2.332660e+05</td>\n",
       "    </tr>\n",
       "    <tr>\n",
       "      <th>fips</th>\n",
       "      <td>6.037000e+03</td>\n",
       "      <td>6.037000e+03</td>\n",
       "      <td>6.037000e+03</td>\n",
       "      <td>6.037000e+03</td>\n",
       "      <td>6.037000e+03</td>\n",
       "    </tr>\n",
       "    <tr>\n",
       "      <th>latitude</th>\n",
       "      <td>3.456002e+07</td>\n",
       "      <td>3.399620e+07</td>\n",
       "      <td>3.401298e+07</td>\n",
       "      <td>3.395356e+07</td>\n",
       "      <td>3.389713e+07</td>\n",
       "    </tr>\n",
       "    <tr>\n",
       "      <th>longitude</th>\n",
       "      <td>-1.181698e+08</td>\n",
       "      <td>-1.184380e+08</td>\n",
       "      <td>-1.184792e+08</td>\n",
       "      <td>-1.180839e+08</td>\n",
       "      <td>-1.181030e+08</td>\n",
       "    </tr>\n",
       "    <tr>\n",
       "      <th>lotsizesquarefeet</th>\n",
       "      <td>9.826000e+03</td>\n",
       "      <td>1.284275e+04</td>\n",
       "      <td>6.490000e+03</td>\n",
       "      <td>6.021000e+03</td>\n",
       "      <td>4.917000e+03</td>\n",
       "    </tr>\n",
       "    <tr>\n",
       "      <th>regionidcity</th>\n",
       "      <td>4.022700e+04</td>\n",
       "      <td>1.244700e+04</td>\n",
       "      <td>2.696400e+04</td>\n",
       "      <td>1.371600e+04</td>\n",
       "      <td>5.363600e+04</td>\n",
       "    </tr>\n",
       "    <tr>\n",
       "      <th>regionidcounty</th>\n",
       "      <td>3.101000e+03</td>\n",
       "      <td>3.101000e+03</td>\n",
       "      <td>3.101000e+03</td>\n",
       "      <td>3.101000e+03</td>\n",
       "      <td>3.101000e+03</td>\n",
       "    </tr>\n",
       "    <tr>\n",
       "      <th>regionidzip</th>\n",
       "      <td>9.732900e+04</td>\n",
       "      <td>9.604700e+04</td>\n",
       "      <td>9.615200e+04</td>\n",
       "      <td>9.620100e+04</td>\n",
       "      <td>9.619300e+04</td>\n",
       "    </tr>\n",
       "    <tr>\n",
       "      <th>yearbuilt</th>\n",
       "      <td>2.005000e+03</td>\n",
       "      <td>2.011000e+03</td>\n",
       "      <td>1.926000e+03</td>\n",
       "      <td>1.950000e+03</td>\n",
       "      <td>1.950000e+03</td>\n",
       "    </tr>\n",
       "    <tr>\n",
       "      <th>structuretaxvaluedollarcnt</th>\n",
       "      <td>2.223210e+05</td>\n",
       "      <td>3.395320e+05</td>\n",
       "      <td>2.101920e+05</td>\n",
       "      <td>1.080400e+05</td>\n",
       "      <td>7.741500e+04</td>\n",
       "    </tr>\n",
       "    <tr>\n",
       "      <th>logerror</th>\n",
       "      <td>4.246290e-02</td>\n",
       "      <td>-1.954560e-02</td>\n",
       "      <td>-4.080656e-02</td>\n",
       "      <td>4.241206e-02</td>\n",
       "      <td>-9.080771e-04</td>\n",
       "    </tr>\n",
       "  </tbody>\n",
       "</table>\n",
       "</div>"
      ],
      "text/plain": [
       "                                       0             1             2  \\\n",
       "bathrooms                   2.000000e+00  4.000000e+00  2.000000e+00   \n",
       "bedrooms                    4.000000e+00  3.000000e+00  3.000000e+00   \n",
       "sqft                        3.633000e+03  1.620000e+03  2.077000e+03   \n",
       "tax_value                   2.964250e+05  8.477700e+05  6.467600e+05   \n",
       "fips                        6.037000e+03  6.037000e+03  6.037000e+03   \n",
       "latitude                    3.456002e+07  3.399620e+07  3.401298e+07   \n",
       "longitude                  -1.181698e+08 -1.184380e+08 -1.184792e+08   \n",
       "lotsizesquarefeet           9.826000e+03  1.284275e+04  6.490000e+03   \n",
       "regionidcity                4.022700e+04  1.244700e+04  2.696400e+04   \n",
       "regionidcounty              3.101000e+03  3.101000e+03  3.101000e+03   \n",
       "regionidzip                 9.732900e+04  9.604700e+04  9.615200e+04   \n",
       "yearbuilt                   2.005000e+03  2.011000e+03  1.926000e+03   \n",
       "structuretaxvaluedollarcnt  2.223210e+05  3.395320e+05  2.101920e+05   \n",
       "logerror                    4.246290e-02 -1.954560e-02 -4.080656e-02   \n",
       "\n",
       "                                       3             4  \n",
       "bathrooms                   1.000000e+00  2.000000e+00  \n",
       "bedrooms                    3.000000e+00  3.000000e+00  \n",
       "sqft                        1.244000e+03  1.300000e+03  \n",
       "tax_value                   1.694710e+05  2.332660e+05  \n",
       "fips                        6.037000e+03  6.037000e+03  \n",
       "latitude                    3.395356e+07  3.389713e+07  \n",
       "longitude                  -1.180839e+08 -1.181030e+08  \n",
       "lotsizesquarefeet           6.021000e+03  4.917000e+03  \n",
       "regionidcity                1.371600e+04  5.363600e+04  \n",
       "regionidcounty              3.101000e+03  3.101000e+03  \n",
       "regionidzip                 9.620100e+04  9.619300e+04  \n",
       "yearbuilt                   1.950000e+03  1.950000e+03  \n",
       "structuretaxvaluedollarcnt  1.080400e+05  7.741500e+04  \n",
       "logerror                    4.241206e-02 -9.080771e-04  "
      ]
     },
     "execution_count": 220,
     "metadata": {},
     "output_type": "execute_result"
    }
   ],
   "source": [
    "df.head().T"
   ]
  },
  {
   "cell_type": "code",
   "execution_count": 222,
   "metadata": {},
   "outputs": [],
   "source": [
    "train, test = train_test_split(df, train_size = .75, random_state = 123)\n",
    "train['tax_per_sqft'] = train.tax_value/train.sqft\n",
    "test['tax_per_sqft'] = test.tax_value/test.sqft"
   ]
  },
  {
   "cell_type": "code",
   "execution_count": 223,
   "metadata": {},
   "outputs": [
    {
     "data": {
      "text/html": [
       "<div>\n",
       "<style scoped>\n",
       "    .dataframe tbody tr th:only-of-type {\n",
       "        vertical-align: middle;\n",
       "    }\n",
       "\n",
       "    .dataframe tbody tr th {\n",
       "        vertical-align: top;\n",
       "    }\n",
       "\n",
       "    .dataframe thead th {\n",
       "        text-align: right;\n",
       "    }\n",
       "</style>\n",
       "<table border=\"1\" class=\"dataframe\">\n",
       "  <thead>\n",
       "    <tr style=\"text-align: right;\">\n",
       "      <th></th>\n",
       "      <th>bathrooms</th>\n",
       "      <th>bedrooms</th>\n",
       "      <th>sqft</th>\n",
       "      <th>tax_value</th>\n",
       "      <th>fips</th>\n",
       "      <th>latitude</th>\n",
       "      <th>longitude</th>\n",
       "      <th>lotsizesquarefeet</th>\n",
       "      <th>regionidcity</th>\n",
       "      <th>regionidcounty</th>\n",
       "      <th>regionidzip</th>\n",
       "      <th>yearbuilt</th>\n",
       "      <th>structuretaxvaluedollarcnt</th>\n",
       "      <th>logerror</th>\n",
       "      <th>tax_per_sqft</th>\n",
       "    </tr>\n",
       "  </thead>\n",
       "  <tbody>\n",
       "    <tr>\n",
       "      <th>12854</th>\n",
       "      <td>2.0</td>\n",
       "      <td>3.0</td>\n",
       "      <td>1838.0</td>\n",
       "      <td>216159.0</td>\n",
       "      <td>6037.0</td>\n",
       "      <td>34613754.0</td>\n",
       "      <td>-118209598.0</td>\n",
       "      <td>9796.0</td>\n",
       "      <td>40227.0</td>\n",
       "      <td>3101.0</td>\n",
       "      <td>97329.0</td>\n",
       "      <td>1999.0</td>\n",
       "      <td>172934.0</td>\n",
       "      <td>0.051355</td>\n",
       "      <td>117.605550</td>\n",
       "    </tr>\n",
       "    <tr>\n",
       "      <th>6103</th>\n",
       "      <td>2.0</td>\n",
       "      <td>3.0</td>\n",
       "      <td>2306.0</td>\n",
       "      <td>181378.0</td>\n",
       "      <td>6037.0</td>\n",
       "      <td>33764859.0</td>\n",
       "      <td>-118414326.0</td>\n",
       "      <td>10306.0</td>\n",
       "      <td>33311.0</td>\n",
       "      <td>3101.0</td>\n",
       "      <td>96121.0</td>\n",
       "      <td>1968.0</td>\n",
       "      <td>109124.0</td>\n",
       "      <td>0.005659</td>\n",
       "      <td>78.654814</td>\n",
       "    </tr>\n",
       "  </tbody>\n",
       "</table>\n",
       "</div>"
      ],
      "text/plain": [
       "       bathrooms  bedrooms    sqft  tax_value    fips    latitude  \\\n",
       "12854        2.0       3.0  1838.0   216159.0  6037.0  34613754.0   \n",
       "6103         2.0       3.0  2306.0   181378.0  6037.0  33764859.0   \n",
       "\n",
       "         longitude  lotsizesquarefeet  regionidcity  regionidcounty  \\\n",
       "12854 -118209598.0             9796.0       40227.0          3101.0   \n",
       "6103  -118414326.0            10306.0       33311.0          3101.0   \n",
       "\n",
       "       regionidzip  yearbuilt  structuretaxvaluedollarcnt  logerror  \\\n",
       "12854      97329.0     1999.0                    172934.0  0.051355   \n",
       "6103       96121.0     1968.0                    109124.0  0.005659   \n",
       "\n",
       "       tax_per_sqft  \n",
       "12854    117.605550  \n",
       "6103      78.654814  "
      ]
     },
     "execution_count": 223,
     "metadata": {},
     "output_type": "execute_result"
    }
   ],
   "source": [
    "train.head(2)"
   ]
  },
  {
   "cell_type": "code",
   "execution_count": 224,
   "metadata": {},
   "outputs": [],
   "source": [
    "X_train = train.drop(columns=['logerror','fips','latitude','longitude','regionidcity','regionidcounty','regionidzip'])\n",
    "y_train = train[['logerror']]\n",
    "X_test = test.drop(columns=['logerror','fips','latitude','longitude','regionidcity','regionidcounty','regionidzip'])\n",
    "y_test = test[['logerror']]\n",
    "X_train.tax_value = X_train.tax_value /1000\n",
    "X_train.structuretaxvaluedollarcnt = X_train.structuretaxvaluedollarcnt/1000\n"
   ]
  },
  {
   "cell_type": "code",
   "execution_count": 225,
   "metadata": {},
   "outputs": [],
   "source": [
    "#adding a baseline yhat as mean of log error\n",
    "train['mean_logerror'] = train.logerror.mean()\n",
    "train['residual'] = train['logerror']- train['mean_logerror']"
   ]
  },
  {
   "cell_type": "code",
   "execution_count": 226,
   "metadata": {
    "scrolled": true
   },
   "outputs": [
    {
     "data": {
      "image/png": "[encoded data removed]",
      "text/plain": [
       "<Figure size 864x720 with 2 Axes>"
      ]
     },
     "metadata": {
      "needs_background": "light"
     },
     "output_type": "display_data"
    }
   ],
   "source": [
    "plt.figure(figsize=(12,10))\n",
    "subset = train[['bathrooms','bedrooms','sqft','tax_value','logerror']]\n",
    "cor = subset.corr()\n",
    "sns.heatmap(cor,annot=True,cmap=plt.cm.Blues)\n",
    "plt.show()"
   ]
  },
  {
   "cell_type": "code",
   "execution_count": null,
   "metadata": {},
   "outputs": [],
   "source": []
  },
  {
   "cell_type": "code",
   "execution_count": 227,
   "metadata": {},
   "outputs": [
    {
     "name": "stdout",
     "output_type": "stream",
     "text": [
      "MSE =  0.028226598428296255\n"
     ]
    }
   ],
   "source": [
    "# MSE of baseline\n",
    "train['residual^2'] = train.residual ** 2\n",
    "SSE = sum(train['residual^2'])\n",
    "MSE = SSE/len(train)\n",
    "print(\"MSE = \", MSE)"
   ]
  },
  {
   "cell_type": "code",
   "execution_count": 228,
   "metadata": {},
   "outputs": [
    {
     "name": "stdout",
     "output_type": "stream",
     "text": [
      "r squared =  5.88e-05\n"
     ]
    }
   ],
   "source": [
    "#MSE of sqft and bedrooms as x variables\n",
    "x = train[['sqft','bedrooms']]\n",
    "y = train[['logerror']]\n",
    "ols_model = ols('y ~ x', data=train).fit()\n",
    "train['yhat'] = ols_model.predict(x)\n",
    "r2 = ols_model.rsquared\n",
    "print('r squared = ',round(r2,7))"
   ]
  },
  {
   "cell_type": "code",
   "execution_count": 229,
   "metadata": {},
   "outputs": [
    {
     "name": "stdout",
     "output_type": "stream",
     "text": [
      "MSE =  0.028226598428296255\n"
     ]
    }
   ],
   "source": [
    "\n",
    "train['residual^2'] = train.residual ** 2\n",
    "SSE = sum(train['residual^2'])\n",
    "MSE = SSE/len(train)\n",
    "print(\"MSE = \", MSE)"
   ]
  },
  {
   "cell_type": "code",
   "execution_count": 230,
   "metadata": {},
   "outputs": [],
   "source": [
    "#Clustered by logerror\n",
    "train = target_cluster(y_train,X_train)"
   ]
  },
  {
   "cell_type": "code",
   "execution_count": 231,
   "metadata": {},
   "outputs": [
    {
     "data": {
      "text/html": [
       "<div>\n",
       "<style scoped>\n",
       "    .dataframe tbody tr th:only-of-type {\n",
       "        vertical-align: middle;\n",
       "    }\n",
       "\n",
       "    .dataframe tbody tr th {\n",
       "        vertical-align: top;\n",
       "    }\n",
       "\n",
       "    .dataframe thead th {\n",
       "        text-align: right;\n",
       "    }\n",
       "</style>\n",
       "<table border=\"1\" class=\"dataframe\">\n",
       "  <thead>\n",
       "    <tr style=\"text-align: right;\">\n",
       "      <th></th>\n",
       "      <th>bathrooms</th>\n",
       "      <th>bedrooms</th>\n",
       "      <th>sqft</th>\n",
       "      <th>tax_value</th>\n",
       "      <th>lotsizesquarefeet</th>\n",
       "      <th>yearbuilt</th>\n",
       "      <th>structuretaxvaluedollarcnt</th>\n",
       "      <th>tax_per_sqft</th>\n",
       "      <th>logerror</th>\n",
       "    </tr>\n",
       "    <tr>\n",
       "      <th>cluster</th>\n",
       "      <th></th>\n",
       "      <th></th>\n",
       "      <th></th>\n",
       "      <th></th>\n",
       "      <th></th>\n",
       "      <th></th>\n",
       "      <th></th>\n",
       "      <th></th>\n",
       "      <th></th>\n",
       "    </tr>\n",
       "  </thead>\n",
       "  <tbody>\n",
       "    <tr>\n",
       "      <th>0</th>\n",
       "      <td>2.246101</td>\n",
       "      <td>3.307139</td>\n",
       "      <td>1861.576104</td>\n",
       "      <td>454.714035</td>\n",
       "      <td>10005.093945</td>\n",
       "      <td>1960.977059</td>\n",
       "      <td>176.426342</td>\n",
       "      <td>232.251601</td>\n",
       "      <td>-0.007564</td>\n",
       "    </tr>\n",
       "    <tr>\n",
       "      <th>1</th>\n",
       "      <td>2.281556</td>\n",
       "      <td>3.325333</td>\n",
       "      <td>1894.887556</td>\n",
       "      <td>462.203628</td>\n",
       "      <td>10036.023672</td>\n",
       "      <td>1960.898222</td>\n",
       "      <td>188.416226</td>\n",
       "      <td>228.970173</td>\n",
       "      <td>0.322445</td>\n",
       "    </tr>\n",
       "    <tr>\n",
       "      <th>2</th>\n",
       "      <td>2.236000</td>\n",
       "      <td>3.344000</td>\n",
       "      <td>1786.544000</td>\n",
       "      <td>381.285104</td>\n",
       "      <td>7486.172565</td>\n",
       "      <td>1958.768000</td>\n",
       "      <td>148.855376</td>\n",
       "      <td>220.134419</td>\n",
       "      <td>1.842071</td>\n",
       "    </tr>\n",
       "  </tbody>\n",
       "</table>\n",
       "</div>"
      ],
      "text/plain": [
       "         bathrooms  bedrooms         sqft   tax_value  lotsizesquarefeet  \\\n",
       "cluster                                                                    \n",
       "0         2.246101  3.307139  1861.576104  454.714035       10005.093945   \n",
       "1         2.281556  3.325333  1894.887556  462.203628       10036.023672   \n",
       "2         2.236000  3.344000  1786.544000  381.285104        7486.172565   \n",
       "\n",
       "           yearbuilt  structuretaxvaluedollarcnt  tax_per_sqft  logerror  \n",
       "cluster                                                                   \n",
       "0        1960.977059                  176.426342    232.251601 -0.007564  \n",
       "1        1960.898222                  188.416226    228.970173  0.322445  \n",
       "2        1958.768000                  148.855376    220.134419  1.842071  "
      ]
     },
     "execution_count": 231,
     "metadata": {},
     "output_type": "execute_result"
    }
   ],
   "source": [
    "train.groupby('cluster').mean().sort_values(by='logerror')"
   ]
  },
  {
   "cell_type": "code",
   "execution_count": null,
   "metadata": {},
   "outputs": [],
   "source": []
  },
  {
   "cell_type": "code",
   "execution_count": 232,
   "metadata": {},
   "outputs": [
    {
     "ename": "AttributeError",
     "evalue": "'DataFrame' object has no attribute 'mean_logerror'",
     "output_type": "error",
     "traceback": [
      "\u001b[0;31m---------------------------------------------------------------------------\u001b[0m",
      "\u001b[0;31mAttributeError\u001b[0m                            Traceback (most recent call last)",
      "\u001b[0;32m<ipython-input-232-add8a5501142>\u001b[0m in \u001b[0;36m<module>\u001b[0;34m\u001b[0m\n\u001b[1;32m      1\u001b[0m \u001b[0;31m#Model1 performs very slightly better than the baseline\u001b[0m\u001b[0;34m\u001b[0m\u001b[0;34m\u001b[0m\u001b[0;34m\u001b[0m\u001b[0m\n\u001b[0;32m----> 2\u001b[0;31m \u001b[0mbaseline\u001b[0m \u001b[0;34m=\u001b[0m \u001b[0mmean_squared_error\u001b[0m\u001b[0;34m(\u001b[0m\u001b[0mtrain\u001b[0m\u001b[0;34m.\u001b[0m\u001b[0mlogerror\u001b[0m\u001b[0;34m,\u001b[0m\u001b[0mtrain\u001b[0m\u001b[0;34m.\u001b[0m\u001b[0mmean_logerror\u001b[0m\u001b[0;34m)\u001b[0m\u001b[0;34m\u001b[0m\u001b[0;34m\u001b[0m\u001b[0m\n\u001b[0m\u001b[1;32m      3\u001b[0m \u001b[0mmodel1\u001b[0m \u001b[0;34m=\u001b[0m \u001b[0mmean_squared_error\u001b[0m\u001b[0;34m(\u001b[0m\u001b[0mtrain\u001b[0m\u001b[0;34m.\u001b[0m\u001b[0mlogerror\u001b[0m\u001b[0;34m,\u001b[0m\u001b[0mtrain\u001b[0m\u001b[0;34m.\u001b[0m\u001b[0myhat\u001b[0m\u001b[0;34m)\u001b[0m\u001b[0;34m\u001b[0m\u001b[0;34m\u001b[0m\u001b[0m\n\u001b[1;32m      4\u001b[0m \u001b[0mprint\u001b[0m\u001b[0;34m(\u001b[0m\u001b[0;34m\"Baseline: \"\u001b[0m\u001b[0;34m,\u001b[0m\u001b[0mbaseline\u001b[0m\u001b[0;34m)\u001b[0m\u001b[0;34m\u001b[0m\u001b[0;34m\u001b[0m\u001b[0m\n\u001b[1;32m      5\u001b[0m \u001b[0mprint\u001b[0m\u001b[0;34m(\u001b[0m\u001b[0;34m\"Model1: \"\u001b[0m\u001b[0;34m,\u001b[0m\u001b[0mmodel1\u001b[0m\u001b[0;34m)\u001b[0m\u001b[0;34m\u001b[0m\u001b[0;34m\u001b[0m\u001b[0m\n",
      "\u001b[0;32m/usr/local/anaconda3/lib/python3.7/site-packages/pandas/core/generic.py\u001b[0m in \u001b[0;36m__getattr__\u001b[0;34m(self, name)\u001b[0m\n\u001b[1;32m   5065\u001b[0m             \u001b[0;32mif\u001b[0m \u001b[0mself\u001b[0m\u001b[0;34m.\u001b[0m\u001b[0m_info_axis\u001b[0m\u001b[0;34m.\u001b[0m\u001b[0m_can_hold_identifiers_and_holds_name\u001b[0m\u001b[0;34m(\u001b[0m\u001b[0mname\u001b[0m\u001b[0;34m)\u001b[0m\u001b[0;34m:\u001b[0m\u001b[0;34m\u001b[0m\u001b[0;34m\u001b[0m\u001b[0m\n\u001b[1;32m   5066\u001b[0m                 \u001b[0;32mreturn\u001b[0m \u001b[0mself\u001b[0m\u001b[0;34m[\u001b[0m\u001b[0mname\u001b[0m\u001b[0;34m]\u001b[0m\u001b[0;34m\u001b[0m\u001b[0;34m\u001b[0m\u001b[0m\n\u001b[0;32m-> 5067\u001b[0;31m             \u001b[0;32mreturn\u001b[0m \u001b[0mobject\u001b[0m\u001b[0;34m.\u001b[0m\u001b[0m__getattribute__\u001b[0m\u001b[0;34m(\u001b[0m\u001b[0mself\u001b[0m\u001b[0;34m,\u001b[0m \u001b[0mname\u001b[0m\u001b[0;34m)\u001b[0m\u001b[0;34m\u001b[0m\u001b[0;34m\u001b[0m\u001b[0m\n\u001b[0m\u001b[1;32m   5068\u001b[0m \u001b[0;34m\u001b[0m\u001b[0m\n\u001b[1;32m   5069\u001b[0m     \u001b[0;32mdef\u001b[0m \u001b[0m__setattr__\u001b[0m\u001b[0;34m(\u001b[0m\u001b[0mself\u001b[0m\u001b[0;34m,\u001b[0m \u001b[0mname\u001b[0m\u001b[0;34m,\u001b[0m \u001b[0mvalue\u001b[0m\u001b[0;34m)\u001b[0m\u001b[0;34m:\u001b[0m\u001b[0;34m\u001b[0m\u001b[0;34m\u001b[0m\u001b[0m\n",
      "\u001b[0;31mAttributeError\u001b[0m: 'DataFrame' object has no attribute 'mean_logerror'"
     ]
    }
   ],
   "source": [
    "#Model1 performs very slightly better than the baseline\n",
    "baseline = mean_squared_error(train.logerror,train.mean_logerror)\n",
    "model1 = mean_squared_error(train.logerror,train.yhat)\n",
    "print(\"Baseline: \",baseline)\n",
    "print(\"Model1: \",model1)\n",
    "baseline<model1"
   ]
  },
  {
   "cell_type": "code",
   "execution_count": 233,
   "metadata": {},
   "outputs": [
    {
     "name": "stdout",
     "output_type": "stream",
     "text": [
      "   k          sse\n",
      "0  1  3751.911837\n",
      "1  2   897.075588\n",
      "2  3   505.189168\n",
      "3  4   340.287732\n",
      "4  5   252.072017\n",
      "5  6   198.233074\n",
      "6  7   145.947344\n",
      "7  8   112.997069\n",
      "8  9    88.101579\n"
     ]
    },
    {
     "data": {
      "image/png": "[encoded data removed]",
      "text/plain": [
       "<Figure size 432x288 with 1 Axes>"
      ]
     },
     "metadata": {
      "needs_background": "light"
     },
     "output_type": "display_data"
    }
   ],
   "source": [
    "ks = range(1,10)\n",
    "sse = []\n",
    "for k in ks:\n",
    "    kmeans = KMeans(n_clusters=k)\n",
    "    kmeans.fit(y_train)\n",
    "\n",
    "    # inertia: Sum of squared distances of samples to their closest cluster center.\n",
    "    sse.append(kmeans.inertia_)\n",
    "\n",
    "print(pd.DataFrame(dict(k=ks, sse=sse)))\n",
    "\n",
    "plt.plot(ks, sse, 'bx-')\n",
    "plt.xlabel('k')\n",
    "plt.ylabel('SSE')\n",
    "plt.title('The Elbow Method to find the optimal k')\n",
    "plt.show()"
   ]
  },
  {
   "cell_type": "code",
   "execution_count": 234,
   "metadata": {},
   "outputs": [],
   "source": [
    "def target_cluster(y_train,X_train):\n",
    "    kmeans =KMeans(n_clusters=3)\n",
    "    kmeans.fit(y_train)\n",
    "    y_train['cluster'] = kmeans.predict(y_train)\n",
    "    train = X_train.merge(y_train,left_index=True,right_index=True)\n",
    "    return train"
   ]
  },
  {
   "cell_type": "code",
   "execution_count": 119,
   "metadata": {},
   "outputs": [],
   "source": []
  },
  {
   "cell_type": "code",
   "execution_count": 120,
   "metadata": {},
   "outputs": [
    {
     "data": {
      "text/plain": [
       "0    35088\n",
       "1     3952\n",
       "2     1868\n",
       "Name: cluster, dtype: int64"
      ]
     },
     "execution_count": 120,
     "metadata": {},
     "output_type": "execute_result"
    }
   ],
   "source": [
    "train.cluster.value_counts()"
   ]
  },
  {
   "cell_type": "code",
   "execution_count": 88,
   "metadata": {},
   "outputs": [
    {
     "data": {
      "text/plain": [
       "cluster\n",
       "0    0.367101\n",
       "1    0.015527\n",
       "2    1.860403\n",
       "3   -1.206134\n",
       "4   -0.162711\n",
       "Name: logerror, dtype: float64"
      ]
     },
     "execution_count": 88,
     "metadata": {},
     "output_type": "execute_result"
    }
   ],
   "source": [
    "train.groupby('cluster').logerror.mean()"
   ]
  },
  {
   "cell_type": "code",
   "execution_count": 90,
   "metadata": {},
   "outputs": [],
   "source": [
    "from sklearn.model_selection import train_test_split\n",
    "from sklearn.ensemble import RandomForestClassifier\n",
    "from sklearn.metrics import classification_report\n",
    "from sklearn.metrics import confusion_matrix"
   ]
  },
  {
   "cell_type": "code",
   "execution_count": 91,
   "metadata": {},
   "outputs": [],
   "source": [
    "rf = RandomForestClassifier(bootstrap=True, class_weight=None, criterion='gini',min_samples_leaf=3,n_estimators=100,max_depth=3, random_state=123)"
   ]
  },
  {
   "cell_type": "code",
   "execution_count": 96,
   "metadata": {},
   "outputs": [],
   "source": [
    "X = train[['bathrooms','sqft','bedrooms']]\n",
    "y = train.cluster\n",
    "X = train[['bathrooms','sqft','bedrooms']]\n",
    "y = train.cluster"
   ]
  },
  {
   "cell_type": "code",
   "execution_count": 97,
   "metadata": {},
   "outputs": [
    {
     "data": {
      "text/plain": [
       "RandomForestClassifier(bootstrap=True, class_weight=None, criterion='gini',\n",
       "                       max_depth=3, max_features='auto', max_leaf_nodes=None,\n",
       "                       min_impurity_decrease=0.0, min_impurity_split=None,\n",
       "                       min_samples_leaf=3, min_samples_split=2,\n",
       "                       min_weight_fraction_leaf=0.0, n_estimators=100,\n",
       "                       n_jobs=None, oob_score=False, random_state=123,\n",
       "                       verbose=0, warm_start=False)"
      ]
     },
     "execution_count": 97,
     "metadata": {},
     "output_type": "execute_result"
    }
   ],
   "source": [
    "rf.fit(X,y)"
   ]
  },
  {
   "cell_type": "code",
   "execution_count": 98,
   "metadata": {},
   "outputs": [
    {
     "name": "stdout",
     "output_type": "stream",
     "text": [
      "[0.29597126 0.51010841 0.19392034]\n"
     ]
    }
   ],
   "source": [
    "print(rf.feature_importances_)"
   ]
  },
  {
   "cell_type": "code",
   "execution_count": 110,
   "metadata": {},
   "outputs": [],
   "source": [
    "y_pred = pd.DataFrame(rf.predict(X))\n",
    "y_pred_proba = rf.predict_proba(X)"
   ]
  },
  {
   "cell_type": "code",
   "execution_count": 100,
   "metadata": {},
   "outputs": [
    {
     "data": {
      "text/plain": [
       "0.8577295394543855"
      ]
     },
     "execution_count": 100,
     "metadata": {},
     "output_type": "execute_result"
    }
   ],
   "source": [
    "rf.score(X,y)"
   ]
  },
  {
   "cell_type": "code",
   "execution_count": 102,
   "metadata": {},
   "outputs": [
    {
     "name": "stdout",
     "output_type": "stream",
     "text": [
      "              precision    recall  f1-score   support\n",
      "\n",
      "           0       0.00      0.00      0.00      1746\n",
      "           1       0.86      1.00      0.92     35088\n",
      "           2       0.00      0.00      0.00       122\n",
      "           3       0.00      0.00      0.00       101\n",
      "           4       0.00      0.00      0.00      3851\n",
      "\n",
      "    accuracy                           0.86     40908\n",
      "   macro avg       0.17      0.20      0.18     40908\n",
      "weighted avg       0.74      0.86      0.79     40908\n",
      "\n"
     ]
    }
   ],
   "source": [
    "print(classification_report(y,y_pred))"
   ]
  },
  {
   "cell_type": "code",
   "execution_count": 235,
   "metadata": {},
   "outputs": [],
   "source": [
    "def x_cluster(X_train,X_test):\n",
    "    \n",
    "    kmeans = KMeans(n_clusters=4)\n",
    "    kmeans.fit(X_train)\n",
    "    X_train['x_cluster'] = kmeans.predict(X_train)\n",
    "    X_test['x_cluster'] = kmeans.predict(X_test)\n",
    "\n",
    "    return X_train, X_test, kmeans\n",
    "\n"
   ]
  },
  {
   "cell_type": "code",
   "execution_count": 236,
   "metadata": {},
   "outputs": [],
   "source": [
    "X_train = train[['tax_per_sqft','structuretaxvaluedollarcnt','lotsizesquarefeet']]\n",
    "X_test = test[['tax_per_sqft','structuretaxvaluedollarcnt','lotsizesquarefeet']]"
   ]
  },
  {
   "cell_type": "code",
   "execution_count": 237,
   "metadata": {},
   "outputs": [],
   "source": [
    "X_train, X_test, kmeans = x_cluster(X_train,X_test)"
   ]
  },
  {
   "cell_type": "code",
   "execution_count": 241,
   "metadata": {},
   "outputs": [
    {
     "data": {
      "text/plain": [
       "array([[2.31656740e+02, 1.75350401e+02, 8.78295388e+03],\n",
       "       [4.07255295e+02, 7.74711625e+02, 1.68733400e+06],\n",
       "       [7.59337000e+02, 1.64180000e+01, 6.84566600e+06],\n",
       "       [3.37989468e+02, 6.70700969e+02, 2.40946270e+05]])"
      ]
     },
     "execution_count": 241,
     "metadata": {},
     "output_type": "execute_result"
    }
   ],
   "source": [
    "kmeans.cluster_centers_"
   ]
  },
  {
   "cell_type": "code",
   "execution_count": 139,
   "metadata": {},
   "outputs": [
    {
     "name": "stdout",
     "output_type": "stream",
     "text": [
      "   k           sse\n",
      "0  1  8.613849e+13\n",
      "1  2  3.282311e+13\n",
      "2  3  1.612231e+13\n",
      "3  4  9.880539e+12\n",
      "4  5  5.261816e+12\n",
      "5  6  3.508222e+12\n",
      "6  7  2.148090e+12\n",
      "7  8  1.379083e+12\n",
      "8  9  8.840040e+11\n"
     ]
    },
    {
     "data": {
      "image/png": "[encoded data removed]",
      "text/plain": [
       "<Figure size 432x288 with 1 Axes>"
      ]
     },
     "metadata": {
      "needs_background": "light"
     },
     "output_type": "display_data"
    }
   ],
   "source": [
    "ks = range(1,10)\n",
    "sse = []\n",
    "for k in ks:\n",
    "    kmeans = KMeans(n_clusters=k)\n",
    "    kmeans.fit(train[['tax_per_sqft_y','structuretaxvaluedollarcnt_y','lotsizesquarefeet_y']])\n",
    "\n",
    "    # inertia: Sum of squared distances of samples to their closest cluster center.\n",
    "    sse.append(kmeans.inertia_)\n",
    "\n",
    "print(pd.DataFrame(dict(k=ks, sse=sse)))\n",
    "\n",
    "plt.plot(ks, sse, 'bx-')\n",
    "plt.xlabel('k')\n",
    "plt.ylabel('SSE')\n",
    "plt.title('The Elbow Method to find the optimal k')\n",
    "plt.show()"
   ]
  },
  {
   "cell_type": "code",
   "execution_count": 182,
   "metadata": {},
   "outputs": [],
   "source": [
    "train = x_cluster(train[['tax_per_sqft','structuretaxvaluedollarcnt','lotsizesquarefeet']],train)"
   ]
  },
  {
   "cell_type": "code",
   "execution_count": 183,
   "metadata": {},
   "outputs": [
    {
     "data": {
      "text/html": [
       "<div>\n",
       "<style scoped>\n",
       "    .dataframe tbody tr th:only-of-type {\n",
       "        vertical-align: middle;\n",
       "    }\n",
       "\n",
       "    .dataframe tbody tr th {\n",
       "        vertical-align: top;\n",
       "    }\n",
       "\n",
       "    .dataframe thead th {\n",
       "        text-align: right;\n",
       "    }\n",
       "</style>\n",
       "<table border=\"1\" class=\"dataframe\">\n",
       "  <thead>\n",
       "    <tr style=\"text-align: right;\">\n",
       "      <th></th>\n",
       "      <th>bathrooms</th>\n",
       "      <th>bedrooms</th>\n",
       "      <th>sqft</th>\n",
       "      <th>tax_value</th>\n",
       "      <th>lotsizesquarefeet</th>\n",
       "      <th>yearbuilt</th>\n",
       "      <th>structuretaxvaluedollarcnt</th>\n",
       "      <th>tax_per_sqft</th>\n",
       "      <th>logerror</th>\n",
       "      <th>cluster</th>\n",
       "      <th>mean_logerror</th>\n",
       "      <th>residual</th>\n",
       "      <th>residual^2</th>\n",
       "      <th>yhat</th>\n",
       "      <th>x_cluster</th>\n",
       "    </tr>\n",
       "  </thead>\n",
       "  <tbody>\n",
       "    <tr>\n",
       "      <th>12854</th>\n",
       "      <td>2.0</td>\n",
       "      <td>3.0</td>\n",
       "      <td>1838.0</td>\n",
       "      <td>216.159</td>\n",
       "      <td>9796.0</td>\n",
       "      <td>1999.0</td>\n",
       "      <td>172.934</td>\n",
       "      <td>117.605550</td>\n",
       "      <td>0.051355</td>\n",
       "      <td>0</td>\n",
       "      <td>0.016239</td>\n",
       "      <td>0.035115</td>\n",
       "      <td>0.001233</td>\n",
       "      <td>0.015716</td>\n",
       "      <td>0</td>\n",
       "    </tr>\n",
       "    <tr>\n",
       "      <th>6103</th>\n",
       "      <td>2.0</td>\n",
       "      <td>3.0</td>\n",
       "      <td>2306.0</td>\n",
       "      <td>181.378</td>\n",
       "      <td>10306.0</td>\n",
       "      <td>1968.0</td>\n",
       "      <td>109.124</td>\n",
       "      <td>78.654814</td>\n",
       "      <td>0.005659</td>\n",
       "      <td>0</td>\n",
       "      <td>0.016239</td>\n",
       "      <td>-0.010581</td>\n",
       "      <td>0.000112</td>\n",
       "      <td>0.015307</td>\n",
       "      <td>0</td>\n",
       "    </tr>\n",
       "    <tr>\n",
       "      <th>46884</th>\n",
       "      <td>2.0</td>\n",
       "      <td>3.0</td>\n",
       "      <td>1482.0</td>\n",
       "      <td>304.562</td>\n",
       "      <td>6461.0</td>\n",
       "      <td>1924.0</td>\n",
       "      <td>196.565</td>\n",
       "      <td>205.507422</td>\n",
       "      <td>0.052020</td>\n",
       "      <td>0</td>\n",
       "      <td>0.016239</td>\n",
       "      <td>0.035781</td>\n",
       "      <td>0.001280</td>\n",
       "      <td>0.016028</td>\n",
       "      <td>0</td>\n",
       "    </tr>\n",
       "    <tr>\n",
       "      <th>33177</th>\n",
       "      <td>3.0</td>\n",
       "      <td>4.0</td>\n",
       "      <td>1548.0</td>\n",
       "      <td>220.704</td>\n",
       "      <td>7113.0</td>\n",
       "      <td>1954.0</td>\n",
       "      <td>122.037</td>\n",
       "      <td>142.573643</td>\n",
       "      <td>0.093799</td>\n",
       "      <td>0</td>\n",
       "      <td>0.016239</td>\n",
       "      <td>0.077560</td>\n",
       "      <td>0.006016</td>\n",
       "      <td>0.017738</td>\n",
       "      <td>0</td>\n",
       "    </tr>\n",
       "    <tr>\n",
       "      <th>43799</th>\n",
       "      <td>2.0</td>\n",
       "      <td>3.0</td>\n",
       "      <td>1338.0</td>\n",
       "      <td>354.795</td>\n",
       "      <td>5998.0</td>\n",
       "      <td>1950.0</td>\n",
       "      <td>89.675</td>\n",
       "      <td>265.168161</td>\n",
       "      <td>-0.066423</td>\n",
       "      <td>0</td>\n",
       "      <td>0.016239</td>\n",
       "      <td>-0.082662</td>\n",
       "      <td>0.006833</td>\n",
       "      <td>0.016154</td>\n",
       "      <td>0</td>\n",
       "    </tr>\n",
       "  </tbody>\n",
       "</table>\n",
       "</div>"
      ],
      "text/plain": [
       "       bathrooms  bedrooms    sqft  tax_value  lotsizesquarefeet  yearbuilt  \\\n",
       "12854        2.0       3.0  1838.0    216.159             9796.0     1999.0   \n",
       "6103         2.0       3.0  2306.0    181.378            10306.0     1968.0   \n",
       "46884        2.0       3.0  1482.0    304.562             6461.0     1924.0   \n",
       "33177        3.0       4.0  1548.0    220.704             7113.0     1954.0   \n",
       "43799        2.0       3.0  1338.0    354.795             5998.0     1950.0   \n",
       "\n",
       "       structuretaxvaluedollarcnt  tax_per_sqft  logerror  cluster  \\\n",
       "12854                     172.934    117.605550  0.051355        0   \n",
       "6103                      109.124     78.654814  0.005659        0   \n",
       "46884                     196.565    205.507422  0.052020        0   \n",
       "33177                     122.037    142.573643  0.093799        0   \n",
       "43799                      89.675    265.168161 -0.066423        0   \n",
       "\n",
       "       mean_logerror  residual  residual^2      yhat  x_cluster  \n",
       "12854       0.016239  0.035115    0.001233  0.015716          0  \n",
       "6103        0.016239 -0.010581    0.000112  0.015307          0  \n",
       "46884       0.016239  0.035781    0.001280  0.016028          0  \n",
       "33177       0.016239  0.077560    0.006016  0.017738          0  \n",
       "43799       0.016239 -0.082662    0.006833  0.016154          0  "
      ]
     },
     "execution_count": 183,
     "metadata": {},
     "output_type": "execute_result"
    }
   ],
   "source": [
    "train.head()"
   ]
  },
  {
   "cell_type": "code",
   "execution_count": 208,
   "metadata": {},
   "outputs": [],
   "source": [
    "X_train = train[['tax_per_sqft','structuretaxvaluedollarcnt','lotsizesquarefeet','x_cluster']]"
   ]
  },
  {
   "cell_type": "code",
   "execution_count": 247,
   "metadata": {},
   "outputs": [
    {
     "ename": "AttributeError",
     "evalue": "'DataFrame' object has no attribute 'value_counts'",
     "output_type": "error",
     "traceback": [
      "\u001b[0;31m---------------------------------------------------------------------------\u001b[0m",
      "\u001b[0;31mAttributeError\u001b[0m                            Traceback (most recent call last)",
      "\u001b[0;32m<ipython-input-247-a980dbde3c56>\u001b[0m in \u001b[0;36m<module>\u001b[0;34m\u001b[0m\n\u001b[0;32m----> 1\u001b[0;31m \u001b[0mX_train\u001b[0m\u001b[0;34m.\u001b[0m\u001b[0mvalue_counts\u001b[0m\u001b[0;34m(\u001b[0m\u001b[0;34m)\u001b[0m\u001b[0;34m\u001b[0m\u001b[0;34m\u001b[0m\u001b[0m\n\u001b[0m",
      "\u001b[0;32m/usr/local/anaconda3/lib/python3.7/site-packages/pandas/core/generic.py\u001b[0m in \u001b[0;36m__getattr__\u001b[0;34m(self, name)\u001b[0m\n\u001b[1;32m   5065\u001b[0m             \u001b[0;32mif\u001b[0m \u001b[0mself\u001b[0m\u001b[0;34m.\u001b[0m\u001b[0m_info_axis\u001b[0m\u001b[0;34m.\u001b[0m\u001b[0m_can_hold_identifiers_and_holds_name\u001b[0m\u001b[0;34m(\u001b[0m\u001b[0mname\u001b[0m\u001b[0;34m)\u001b[0m\u001b[0;34m:\u001b[0m\u001b[0;34m\u001b[0m\u001b[0;34m\u001b[0m\u001b[0m\n\u001b[1;32m   5066\u001b[0m                 \u001b[0;32mreturn\u001b[0m \u001b[0mself\u001b[0m\u001b[0;34m[\u001b[0m\u001b[0mname\u001b[0m\u001b[0;34m]\u001b[0m\u001b[0;34m\u001b[0m\u001b[0;34m\u001b[0m\u001b[0m\n\u001b[0;32m-> 5067\u001b[0;31m             \u001b[0;32mreturn\u001b[0m \u001b[0mobject\u001b[0m\u001b[0;34m.\u001b[0m\u001b[0m__getattribute__\u001b[0m\u001b[0;34m(\u001b[0m\u001b[0mself\u001b[0m\u001b[0;34m,\u001b[0m \u001b[0mname\u001b[0m\u001b[0;34m)\u001b[0m\u001b[0;34m\u001b[0m\u001b[0;34m\u001b[0m\u001b[0m\n\u001b[0m\u001b[1;32m   5068\u001b[0m \u001b[0;34m\u001b[0m\u001b[0m\n\u001b[1;32m   5069\u001b[0m     \u001b[0;32mdef\u001b[0m \u001b[0m__setattr__\u001b[0m\u001b[0;34m(\u001b[0m\u001b[0mself\u001b[0m\u001b[0;34m,\u001b[0m \u001b[0mname\u001b[0m\u001b[0;34m,\u001b[0m \u001b[0mvalue\u001b[0m\u001b[0;34m)\u001b[0m\u001b[0;34m:\u001b[0m\u001b[0;34m\u001b[0m\u001b[0;34m\u001b[0m\u001b[0m\n",
      "\u001b[0;31mAttributeError\u001b[0m: 'DataFrame' object has no attribute 'value_counts'"
     ]
    }
   ],
   "source": [
    "X_train.value_counts()"
   ]
  },
  {
   "cell_type": "code",
   "execution_count": 210,
   "metadata": {},
   "outputs": [
    {
     "data": {
      "text/plain": [
       "0    40619\n",
       "3      280\n",
       "1        8\n",
       "2        1\n",
       "Name: x_cluster, dtype: int64"
      ]
     },
     "execution_count": 210,
     "metadata": {},
     "output_type": "execute_result"
    }
   ],
   "source": [
    "X_train.x_cluster.value_counts()"
   ]
  },
  {
   "cell_type": "code",
   "execution_count": 250,
   "metadata": {},
   "outputs": [
    {
     "data": {
      "text/plain": [
       "0    0\n",
       "Name: x_cluster, dtype: int32"
      ]
     },
     "execution_count": 250,
     "metadata": {},
     "output_type": "execute_result"
    }
   ],
   "source": [
    "X_train = X_train.x_cluster"
   ]
  },
  {
   "cell_type": "code",
   "execution_count": null,
   "metadata": {},
   "outputs": [],
   "source": []
  }
 ],
 "metadata": {
  "kernelspec": {
   "display_name": "Python 3",
   "language": "python",
   "name": "python3"
  },
  "language_info": {
   "codemirror_mode": {
    "name": "ipython",
    "version": 3
   },
   "file_extension": ".py",
   "mimetype": "text/x-python",
   "name": "python",
   "nbconvert_exporter": "python",
   "pygments_lexer": "ipython3",
   "version": "3.7.3"
  }
 },
 "nbformat": 4,
 "nbformat_minor": 2
}

{
 "cells": [
  {
   "cell_type": "code",
   "execution_count": 1,
   "metadata": {},
   "outputs": [],
   "source": [
    "import warnings\n",
    "warnings.filterwarnings(\"ignore\")\n",
    "\n",
    "import pandas as pd\n",
    "import numpy as np\n",
    "from sklearn.preprocessing import StandardScaler, MinMaxScaler\n",
    "#import wrangle\n",
    "import env\n",
    "import seaborn as sns\n",
    "import acquire\n",
    "import prep"
   ]
  },
  {
   "cell_type": "code",
   "execution_count": 34,
   "metadata": {},
   "outputs": [],
   "source": [
    "#single family residence from zillow DB\n",
    "df = acquire.wrangle_zillow()"
   ]
  },
  {
   "cell_type": "code",
   "execution_count": 35,
   "metadata": {},
   "outputs": [],
   "source": [
    "#drops columns with < 80% of values filled in\n",
    "df = prep.drop_columns(df)"
   ]
  },
  {
   "cell_type": "code",
   "execution_count": 36,
   "metadata": {},
   "outputs": [
    {
     "data": {
      "text/plain": [
       "300"
      ]
     },
     "execution_count": 36,
     "metadata": {},
     "output_type": "execute_result"
    }
   ],
   "source": [
    "df.lotsizesquarefeet.isnull().sum()"
   ]
  },
  {
   "cell_type": "code",
   "execution_count": 10,
   "metadata": {},
   "outputs": [
    {
     "data": {
      "text/plain": [
       "(55686, 32)"
      ]
     },
     "execution_count": 10,
     "metadata": {},
     "output_type": "execute_result"
    }
   ],
   "source": []
  },
  {
   "cell_type": "code",
   "execution_count": 7,
   "metadata": {},
   "outputs": [
    {
     "data": {
      "text/plain": [
       "regionidcity                    1008\n",
       "lotsizesquarefeet                300\n",
       "censustractandblock              263\n",
       "finishedsquarefeet12             186\n",
       "taxamount                         71\n",
       "regionidzip                       64\n",
       "structuretaxvaluedollarcnt        62\n",
       "yearbuilt                         27\n",
       "calculatedbathnbr                 20\n",
       "fullbathcnt                       20\n",
       "bathroomcnt                        0\n",
       "bedroomcnt                         0\n",
       "id                                 0\n",
       "bathrooms                          0\n",
       "parcelid                           0\n",
       "bedrooms                           0\n",
       "calculatedfinishedsquarefeet       0\n",
       "tax_value                          0\n",
       "sqft                               0\n",
       "id                                 0\n",
       "latitude                           0\n",
       "fips                               0\n",
       "longitude                          0\n",
       "propertycountylandusecode          0\n",
       "propertylandusetypeid              0\n",
       "rawcensustractandblock             0\n",
       "regionidcounty                     0\n",
       "roomcnt                            0\n",
       "taxvaluedollarcnt                  0\n",
       "assessmentyear                     0\n",
       "landtaxvaluedollarcnt              0\n",
       "transactiondate                    0\n",
       "dtype: int64"
      ]
     },
     "execution_count": 7,
     "metadata": {},
     "output_type": "execute_result"
    }
   ],
   "source": [
    "df.isnull().sum().sort_values(ascending=False)"
   ]
  },
  {
   "cell_type": "code",
   "execution_count": 14,
   "metadata": {},
   "outputs": [
    {
     "data": {
      "text/html": [
       "<div>\n",
       "<style scoped>\n",
       "    .dataframe tbody tr th:only-of-type {\n",
       "        vertical-align: middle;\n",
       "    }\n",
       "\n",
       "    .dataframe tbody tr th {\n",
       "        vertical-align: top;\n",
       "    }\n",
       "\n",
       "    .dataframe thead th {\n",
       "        text-align: right;\n",
       "    }\n",
       "</style>\n",
       "<table border=\"1\" class=\"dataframe\">\n",
       "  <thead>\n",
       "    <tr style=\"text-align: right;\">\n",
       "      <th></th>\n",
       "      <th>landtaxvaluedollarcnt</th>\n",
       "      <th>lotsizesquarefeet</th>\n",
       "    </tr>\n",
       "  </thead>\n",
       "  <tbody>\n",
       "    <tr>\n",
       "      <th>0</th>\n",
       "      <td>74104.0</td>\n",
       "      <td>9826.0</td>\n",
       "    </tr>\n",
       "    <tr>\n",
       "      <th>1</th>\n",
       "      <td>508238.0</td>\n",
       "      <td>NaN</td>\n",
       "    </tr>\n",
       "    <tr>\n",
       "      <th>2</th>\n",
       "      <td>436568.0</td>\n",
       "      <td>6490.0</td>\n",
       "    </tr>\n",
       "    <tr>\n",
       "      <th>3</th>\n",
       "      <td>61431.0</td>\n",
       "      <td>6021.0</td>\n",
       "    </tr>\n",
       "    <tr>\n",
       "      <th>4</th>\n",
       "      <td>155851.0</td>\n",
       "      <td>4917.0</td>\n",
       "    </tr>\n",
       "  </tbody>\n",
       "</table>\n",
       "</div>"
      ],
      "text/plain": [
       "   landtaxvaluedollarcnt  lotsizesquarefeet\n",
       "0                74104.0             9826.0\n",
       "1               508238.0                NaN\n",
       "2               436568.0             6490.0\n",
       "3                61431.0             6021.0\n",
       "4               155851.0             4917.0"
      ]
     },
     "execution_count": 14,
     "metadata": {},
     "output_type": "execute_result"
    }
   ],
   "source": [
    "df[['landtaxvaluedollarcnt','lotsizesquarefeet']].head()"
   ]
  },
  {
   "cell_type": "code",
   "execution_count": 37,
   "metadata": {},
   "outputs": [
    {
     "data": {
      "text/plain": [
       "39.52847814507253"
      ]
     },
     "execution_count": 37,
     "metadata": {},
     "output_type": "execute_result"
    }
   ],
   "source": [
    "df['tax_value_per_foot'] = df.landtaxvaluedollarcnt/df.lotsizesquarefeet\n",
    "df.tax_value_per_foot.mean()"
   ]
  },
  {
   "cell_type": "code",
   "execution_count": 38,
   "metadata": {},
   "outputs": [],
   "source": []
  },
  {
   "cell_type": "code",
   "execution_count": 32,
   "metadata": {},
   "outputs": [],
   "source": []
  },
  {
   "cell_type": "code",
   "execution_count": 39,
   "metadata": {},
   "outputs": [
    {
     "data": {
      "text/plain": [
       "0     9826.000000\n",
       "1    12857.514983\n",
       "2     6490.000000\n",
       "3     6021.000000\n",
       "4     4917.000000\n",
       "Name: lotsizesquarefeet, dtype: float64"
      ]
     },
     "execution_count": 39,
     "metadata": {},
     "output_type": "execute_result"
    }
   ],
   "source": [
    "df.lotsizesquarefeet.head()"
   ]
  },
  {
   "cell_type": "code",
   "execution_count": 20,
   "metadata": {},
   "outputs": [
    {
     "data": {
      "text/plain": [
       "0          1874.699039\n",
       "1         12857.514983\n",
       "2         11044.391803\n",
       "3          1554.094741\n",
       "4          3942.752348\n",
       "5          4367.812982\n",
       "6         17721.957254\n",
       "7          6888.223700\n",
       "8          6320.076353\n",
       "9         11521.769149\n",
       "10        19440.718086\n",
       "11        10918.988543\n",
       "12        25667.013951\n",
       "13        11702.373117\n",
       "14        22134.168606\n",
       "15        15340.383148\n",
       "16        14784.050068\n",
       "17         9132.479087\n",
       "18        10581.940404\n",
       "19          432.220030\n",
       "20       101192.866199\n",
       "21          373.831746\n",
       "22          644.370874\n",
       "23         5855.955272\n",
       "24         1086.001840\n",
       "25         2285.213199\n",
       "26         2770.154712\n",
       "27         6549.404686\n",
       "28         7805.410541\n",
       "29         8631.624996\n",
       "             ...      \n",
       "55656       522.762347\n",
       "55657       651.555567\n",
       "55658       990.450476\n",
       "55659       851.386180\n",
       "55660      1373.693159\n",
       "55661       765.119261\n",
       "55662      1674.741936\n",
       "55663       764.967472\n",
       "55664       146.071902\n",
       "55665       719.152402\n",
       "55666       307.853997\n",
       "55667       521.826313\n",
       "55668       193.177182\n",
       "55669       718.444052\n",
       "55670       413.701735\n",
       "55671       438.038620\n",
       "55672       587.702869\n",
       "55673      1262.381006\n",
       "55674       499.235005\n",
       "55675       590.485672\n",
       "55676       660.713522\n",
       "55677       963.103104\n",
       "55678       969.124080\n",
       "55679      2464.046292\n",
       "55680       643.864909\n",
       "55681      1081.852933\n",
       "55682       821.003022\n",
       "55683       636.983795\n",
       "55684      1258.510379\n",
       "55685       659.195629\n",
       "Name: landtaxvaluedollarcnt, Length: 55686, dtype: float64"
      ]
     },
     "execution_count": 20,
     "metadata": {},
     "output_type": "execute_result"
    }
   ],
   "source": [
    "df.landtaxvaluedollarcnt /df.tax_value_per_foot.mean()"
   ]
  },
  {
   "cell_type": "code",
   "execution_count": null,
   "metadata": {},
   "outputs": [],
   "source": []
  }
 ],
 "metadata": {
  "kernelspec": {
   "display_name": "Python 3",
   "language": "python",
   "name": "python3"
  },
  "language_info": {
   "codemirror_mode": {
    "name": "ipython",
    "version": 3
   },
   "file_extension": ".py",
   "mimetype": "text/x-python",
   "name": "python",
   "nbconvert_exporter": "python",
   "pygments_lexer": "ipython3",
   "version": "3.7.3"
  }
 },
 "nbformat": 4,
 "nbformat_minor": 2
}

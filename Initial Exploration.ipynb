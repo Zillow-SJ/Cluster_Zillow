{
 "cells": [
  {
   "cell_type": "code",
   "execution_count": 1,
   "metadata": {},
   "outputs": [
    {
     "name": "stdout",
     "output_type": "stream",
     "text": [
      "   transactiondate   id  bathrooms  bedrooms    sqft  tax_value  \\\n",
      "0       2017-01-02   20        2.0       4.0  3633.0   296425.0   \n",
      "1       2017-01-02   31        4.0       3.0  1620.0   847770.0   \n",
      "2       2017-01-02   33        2.0       3.0  2077.0   646760.0   \n",
      "3       2017-01-03  110        1.0       3.0  1244.0   169471.0   \n",
      "4       2017-01-03  111        2.0       3.0  1300.0   233266.0   \n",
      "\n",
      "  architecturalstyledesc  architecturalstyletypeid architecturalstyledesc  \\\n",
      "0                   None                       NaN                   None   \n",
      "1                   None                       NaN                   None   \n",
      "2                   None                       NaN                   None   \n",
      "3                   None                       NaN                   None   \n",
      "4                   None                       NaN                   None   \n",
      "\n",
      "    id  ...  taxamount  taxdelinquencyflag  taxdelinquencyyear  \\\n",
      "0   20  ...    6941.39                None                 NaN   \n",
      "1   31  ...   10244.94                None                 NaN   \n",
      "2   33  ...    7924.68                None                 NaN   \n",
      "3  110  ...    2532.88                None                 NaN   \n",
      "4  111  ...    3110.99                None                 NaN   \n",
      "\n",
      "   censustractandblock  typeconstructiontypeid  typeconstructiondesc   id  \\\n",
      "0                  NaN                     NaN                  None   20   \n",
      "1                  NaN                     NaN                  None   31   \n",
      "2                  NaN                     NaN                  None   33   \n",
      "3                  NaN                     NaN                  None  110   \n",
      "4                  NaN                     NaN                  None  111   \n",
      "\n",
      "   parcelid  logerror  transactiondate  \n",
      "0  12325145  0.042463       2017-01-02  \n",
      "1  14338242 -0.019546       2017-01-02  \n",
      "2  12155445 -0.040807       2017-01-02  \n",
      "3  14724525  0.042412       2017-01-03  \n",
      "4  14179809 -0.000908       2017-01-03  \n",
      "\n",
      "[5 rows x 74 columns]\n"
     ]
    }
   ],
   "source": [
    "import warnings\n",
    "warnings.filterwarnings(\"ignore\")\n",
    "\n",
    "import pandas as pd\n",
    "import numpy as np\n",
    "from sklearn.preprocessing import StandardScaler, MinMaxScaler\n",
    "#import wrangle\n",
    "import env\n",
    "import seaborn as sns\n",
    "import acquire\n",
    "import prep\n",
    "import scipy.stats as stats"
   ]
  },
  {
   "cell_type": "code",
   "execution_count": 2,
   "metadata": {},
   "outputs": [],
   "source": [
    "#single family residence from zillow DB\n",
    "df = prep.prep_df()"
   ]
  },
  {
   "cell_type": "code",
   "execution_count": null,
   "metadata": {},
   "outputs": [],
   "source": [
    "df.isnull().sum().sort_values(ascending=False)"
   ]
  },
  {
   "cell_type": "code",
   "execution_count": null,
   "metadata": {},
   "outputs": [],
   "source": [
    "#drops columns with < 80% of values filled in\n",
    "df = prep.impute_values(df)\n",
    "df = prep.drop_columns(df)"
   ]
  },
  {
   "cell_type": "code",
   "execution_count": null,
   "metadata": {
    "scrolled": true
   },
   "outputs": [],
   "source": [
    "df = df.dropna(how='any')"
   ]
  },
  {
   "cell_type": "code",
   "execution_count": null,
   "metadata": {},
   "outputs": [],
   "source": [
    "test = df[(df.propertycountylandusecode != \"010G\") & ((df.propertycountylandusecode != \"010M\"))]\n",
    "\n",
    "test.propertycountylandusecode.astype(float)"
   ]
  },
  {
   "cell_type": "code",
   "execution_count": null,
   "metadata": {
    "scrolled": false
   },
   "outputs": [],
   "source": [
    "test = df[(df.propertycountylandusecode == \"010G\") | ((df.propertycountylandusecode == \"010M\"))]\n",
    "\n",
    "test.shape"
   ]
  },
  {
   "cell_type": "code",
   "execution_count": null,
   "metadata": {},
   "outputs": [],
   "source": [
    "df[['landtaxvaluedollarcnt','lotsizesquarefeet']].head()"
   ]
  },
  {
   "cell_type": "code",
   "execution_count": null,
   "metadata": {},
   "outputs": [],
   "source": [
    "df['tax_value_per_foot'] = df.landtaxvaluedollarcnt/df.lotsizesquarefeet\n",
    "df.tax_value_per_foot.mean()"
   ]
  },
  {
   "cell_type": "code",
   "execution_count": null,
   "metadata": {},
   "outputs": [],
   "source": [
    "(df.structuretaxvaluedollarcnt/df.tax_value).mean()"
   ]
  },
  {
   "cell_type": "code",
   "execution_count": null,
   "metadata": {},
   "outputs": [],
   "source": [
    "df.head().T"
   ]
  },
  {
   "cell_type": "code",
   "execution_count": null,
   "metadata": {},
   "outputs": [],
   "source": [
    "df.lotsizesquarefeet.head()"
   ]
  },
  {
   "cell_type": "code",
   "execution_count": null,
   "metadata": {},
   "outputs": [],
   "source": [
    "df.landtaxvaluedollarcnt /df.tax_value_per_foot.mean()"
   ]
  },
  {
   "cell_type": "code",
   "execution_count": null,
   "metadata": {},
   "outputs": [],
   "source": [
    "df_nulls_r = pd.DataFrame(df.apply(lambda x: df.shape[1] -x.count(),axis=1))\n",
    "df_nulls_r['pct_rows_missing'] = df_nulls_r[0] / df.shape[1]\n",
    "row_drops = df_nulls_r[df_nulls_r['pct_rows_missing'] >.2]\n",
    "row_drops['column_names'] = row_drops.index\n",
    "row_drops = list(row_drops.column_names)\n",
    "#df_new = df.drop(row_drops,axis=0)\n",
    "\n",
    "df_nulls_r.max()\n"
   ]
  },
  {
   "cell_type": "code",
   "execution_count": null,
   "metadata": {},
   "outputs": [],
   "source": [
    "Q1 = df.quantile(.25)\n",
    "Q3 = df.quantile(.75)\n",
    "IQR = Q3-Q1"
   ]
  },
  {
   "cell_type": "code",
   "execution_count": null,
   "metadata": {},
   "outputs": [],
   "source": [
    "IQR = Q3-Q1\n",
    "Q1"
   ]
  },
  {
   "cell_type": "code",
   "execution_count": null,
   "metadata": {},
   "outputs": [],
   "source": [
    "df[~((df < (Q1 - 1.5 * IQR)) |(df > (Q3 + 1.5 * IQR))).any(axis=1)]"
   ]
  },
  {
   "cell_type": "code",
   "execution_count": null,
   "metadata": {},
   "outputs": [],
   "source": [
    "def outlier(series):\n",
    "    Q1 = series.quantile(.25)\n",
    "    Q3 = series.quantile(.75)\n",
    "    IQR = Q3-Q1\n",
    "    \n",
    "    series = series[((series < (Q1 - 3 * IQR)) |(series > (Q3 + 3 * IQR)))]\n",
    "    return series"
   ]
  },
  {
   "cell_type": "code",
   "execution_count": null,
   "metadata": {},
   "outputs": [],
   "source": [
    "def remove_outliers_iqr(df, columns):\n",
    "    for col in columns:\n",
    "        q75, q25 = np.percentile(df[col], [75,25])\n",
    "        ub = 3*stats.iqr(df[col]) + q75\n",
    "        lb = q25 - 3*stats.iqr(df[col])\n",
    "        print(len(df[df[col] <= ub]))\n",
    "        df = df[df[col] <= ub]\n",
    "        df = df[df[col] >= lb]\n",
    "    return df"
   ]
  },
  {
   "cell_type": "code",
   "execution_count": null,
   "metadata": {},
   "outputs": [],
   "source": [
    "len(remove_outliers_iqr(df,['tax_value','sqft','lotsizesquarefeet','structuretaxvaluedollarcnt']))"
   ]
  },
  {
   "cell_type": "code",
   "execution_count": null,
   "metadata": {},
   "outputs": [],
   "source": [
    "df.shape"
   ]
  },
  {
   "cell_type": "code",
   "execution_count": null,
   "metadata": {},
   "outputs": [],
   "source": []
  },
  {
   "cell_type": "code",
   "execution_count": 3,
   "metadata": {},
   "outputs": [],
   "source": [
    "from sklearn.linear_model import LinearRegression\n",
    "\n",
    "from sklearn.model_selection import train_test_split\n",
    "\n",
    "import numpy as np\n",
    "import pandas as pd\n",
    "\n",
    "import prep\n",
    "import seaborn as sns\n",
    "from sklearn.cluster import KMeans\n",
    " "
   ]
  },
  {
   "cell_type": "code",
   "execution_count": 4,
   "metadata": {},
   "outputs": [],
   "source": [
    "train, test = train_test_split(df, train_size = .75, random_state = 123)"
   ]
  },
  {
   "cell_type": "code",
   "execution_count": null,
   "metadata": {},
   "outputs": [],
   "source": [
    "train.head()"
   ]
  },
  {
   "cell_type": "code",
   "execution_count": 5,
   "metadata": {},
   "outputs": [],
   "source": [
    "X_train = train.drop(columns=['logerror','fips','latitude','longitude','regionidcity','regionidcounty','regionidzip'])\n",
    "y_train = train[['logerror']]\n",
    "X_test = test.drop(columns=['logerror','fips','latitude','longitude','regionidcity','regionidcounty','regionidzip'])\n",
    "y_test = test[['logerror']]\n",
    "X_train.tax_value = X_train.tax_value /1000\n",
    "X_train.structuretaxvaluedollarcnt = X_train.structuretaxvaluedollarcnt/1000"
   ]
  },
  {
   "cell_type": "code",
   "execution_count": null,
   "metadata": {},
   "outputs": [],
   "source": [
    "kmeans = KMeans(n_clusters=5)\n",
    "kmeans.fit(X_train)\n",
    "kmeans.predict(X_train)\n",
    "#X_train['cluster'] = kmeans.predict(X_train)"
   ]
  },
  {
   "cell_type": "code",
   "execution_count": null,
   "metadata": {
    "scrolled": true
   },
   "outputs": [],
   "source": [
    "pd.DataFrame(kmeans.cluster_centers_, columns=X_train.columns)\\\n",
    "    .reset_index()\\\n",
    "    .rename({'index': 'cluster'}, axis=1)\\\n",
    "    .set_index('cluster')"
   ]
  },
  {
   "cell_type": "code",
   "execution_count": null,
   "metadata": {},
   "outputs": [],
   "source": [
    "X_train['cluster'] = kmeans.predict(X_train)\n",
    "X_train.head()"
   ]
  },
  {
   "cell_type": "code",
   "execution_count": null,
   "metadata": {},
   "outputs": [],
   "source": [
    "sns.pairplot(X_train,vars=['sqft','bedrooms','bathrooms','tax_value','lotsizesquarefeet'])"
   ]
  },
  {
   "cell_type": "code",
   "execution_count": null,
   "metadata": {},
   "outputs": [],
   "source": [
    "X_train.describe()"
   ]
  },
  {
   "cell_type": "code",
   "execution_count": null,
   "metadata": {},
   "outputs": [],
   "source": [
    "from sklearn.linear_model import LassoCV\n",
    "\n",
    "reg = LassoCV()\n",
    "reg.fit(X_train, y_train)\n",
    "\n",
    "print(\"Best alpha using built-in LassoCV: %f\" % reg.alpha_)\n",
    "print(\"Best score using built-in LassoCV: %f\" %reg.score(X_train,y_train))\n",
    "coef = pd.Series(reg.coef_, index = X_train.columns)\n",
    "\n",
    "\n",
    "print(\"Lasso picked \" + str(sum(coef != 0)) + \" variables and eliminated the other \" +  str(sum(coef == 0)) + \" variables\")"
   ]
  },
  {
   "cell_type": "code",
   "execution_count": null,
   "metadata": {},
   "outputs": [],
   "source": [
    "coef.sort_values()"
   ]
  },
  {
   "cell_type": "code",
   "execution_count": null,
   "metadata": {},
   "outputs": [],
   "source": [
    "import pandas as pd\n",
    "import numpy as np\n",
    "import matplotlib.pyplot as plt\n",
    "import seaborn as sns\n",
    "from sklearn.model_selection import train_test_split\n",
    "from sklearn.preprocessing import StandardScaler, MinMaxScaler\n",
    "from sklearn.metrics import mean_squared_error, r2_score, explained_variance_score\n",
    "from math import sqrt\n",
    "import warnings"
   ]
  },
  {
   "cell_type": "code",
   "execution_count": null,
   "metadata": {},
   "outputs": [],
   "source": [
    "from sklearn.linear_model import LinearRegression\n",
    "\n",
    "lm1 = LinearRegression()\n",
    "\n",
    "print(lm1)"
   ]
  },
  {
   "cell_type": "code",
   "execution_count": null,
   "metadata": {},
   "outputs": [],
   "source": [
    "lm1.fit(X_train, y_train)\n",
    "print(\"Linear Model:\", lm1)\n",
    "\n",
    "lm1_y_intercept = lm1.intercept_\n",
    "print(\"intercept: \", lm1_y_intercept)\n",
    "\n",
    "lm1_coefficients = lm1.coef_\n",
    "print(\"coefficients: \", lm1_coefficients)"
   ]
  },
  {
   "cell_type": "code",
   "execution_count": null,
   "metadata": {},
   "outputs": [],
   "source": [
    "y_pred_lm1 = lm1.predict(X_train)"
   ]
  },
  {
   "cell_type": "code",
   "execution_count": null,
   "metadata": {},
   "outputs": [],
   "source": [
    "train.describe()"
   ]
  },
  {
   "cell_type": "code",
   "execution_count": null,
   "metadata": {},
   "outputs": [],
   "source": [
    "    kmeans = KMeans(n_clusters=5)\n",
    "    kmeans.fit(X_train['sqft','tax_value'])\n",
    "    y_train['cluster'] = kmeans.predict(y_train)"
   ]
  },
  {
   "cell_type": "code",
   "execution_count": 6,
   "metadata": {},
   "outputs": [],
   "source": [
    "def target_cluster(y_train,X_train):\n",
    "    kmeans = KMeans(n_clusters=5)\n",
    "    kmeans.fit(y_train)\n",
    "    y_train['cluster'] = kmeans.predict(y_train)\n",
    "    train = X_train.merge(y_train,left_index=True,right_index=True)\n",
    "    return train"
   ]
  },
  {
   "cell_type": "code",
   "execution_count": 8,
   "metadata": {},
   "outputs": [],
   "source": [
    "train = target_cluster(y_train,X_train)"
   ]
  },
  {
   "cell_type": "code",
   "execution_count": 17,
   "metadata": {},
   "outputs": [
    {
     "data": {
      "text/plain": [
       "(40908, 10)"
      ]
     },
     "execution_count": 17,
     "metadata": {},
     "output_type": "execute_result"
    }
   ],
   "source": [
    "train.shape"
   ]
  },
  {
   "cell_type": "code",
   "execution_count": null,
   "metadata": {},
   "outputs": [],
   "source": [
    "y_train['cluster'] = kmeans.predict(y_train)\n"
   ]
  },
  {
   "cell_type": "code",
   "execution_count": 16,
   "metadata": {},
   "outputs": [
    {
     "data": {
      "text/html": [
       "<div>\n",
       "<style scoped>\n",
       "    .dataframe tbody tr th:only-of-type {\n",
       "        vertical-align: middle;\n",
       "    }\n",
       "\n",
       "    .dataframe tbody tr th {\n",
       "        vertical-align: top;\n",
       "    }\n",
       "\n",
       "    .dataframe thead tr th {\n",
       "        text-align: left;\n",
       "    }\n",
       "\n",
       "    .dataframe thead tr:last-of-type th {\n",
       "        text-align: right;\n",
       "    }\n",
       "</style>\n",
       "<table border=\"1\" class=\"dataframe\">\n",
       "  <thead>\n",
       "    <tr>\n",
       "      <th></th>\n",
       "      <th colspan=\"8\" halign=\"left\">bathrooms</th>\n",
       "      <th colspan=\"2\" halign=\"left\">bedrooms</th>\n",
       "      <th>...</th>\n",
       "      <th colspan=\"2\" halign=\"left\">structuretaxvaluedollarcnt</th>\n",
       "      <th colspan=\"8\" halign=\"left\">logerror</th>\n",
       "    </tr>\n",
       "    <tr>\n",
       "      <th></th>\n",
       "      <th>count</th>\n",
       "      <th>mean</th>\n",
       "      <th>std</th>\n",
       "      <th>min</th>\n",
       "      <th>25%</th>\n",
       "      <th>50%</th>\n",
       "      <th>75%</th>\n",
       "      <th>max</th>\n",
       "      <th>count</th>\n",
       "      <th>mean</th>\n",
       "      <th>...</th>\n",
       "      <th>75%</th>\n",
       "      <th>max</th>\n",
       "      <th>count</th>\n",
       "      <th>mean</th>\n",
       "      <th>std</th>\n",
       "      <th>min</th>\n",
       "      <th>25%</th>\n",
       "      <th>50%</th>\n",
       "      <th>75%</th>\n",
       "      <th>max</th>\n",
       "    </tr>\n",
       "    <tr>\n",
       "      <th>cluster</th>\n",
       "      <th></th>\n",
       "      <th></th>\n",
       "      <th></th>\n",
       "      <th></th>\n",
       "      <th></th>\n",
       "      <th></th>\n",
       "      <th></th>\n",
       "      <th></th>\n",
       "      <th></th>\n",
       "      <th></th>\n",
       "      <th></th>\n",
       "      <th></th>\n",
       "      <th></th>\n",
       "      <th></th>\n",
       "      <th></th>\n",
       "      <th></th>\n",
       "      <th></th>\n",
       "      <th></th>\n",
       "      <th></th>\n",
       "      <th></th>\n",
       "      <th></th>\n",
       "    </tr>\n",
       "  </thead>\n",
       "  <tbody>\n",
       "    <tr>\n",
       "      <th>0</th>\n",
       "      <td>3438.0</td>\n",
       "      <td>2.213642</td>\n",
       "      <td>0.990254</td>\n",
       "      <td>1.0</td>\n",
       "      <td>2.0</td>\n",
       "      <td>2.0</td>\n",
       "      <td>3.0</td>\n",
       "      <td>19.5</td>\n",
       "      <td>3438.0</td>\n",
       "      <td>3.291158</td>\n",
       "      <td>...</td>\n",
       "      <td>197.95400</td>\n",
       "      <td>7340.827</td>\n",
       "      <td>3438.0</td>\n",
       "      <td>-0.177691</td>\n",
       "      <td>0.116648</td>\n",
       "      <td>-0.761094</td>\n",
       "      <td>-0.206640</td>\n",
       "      <td>-0.134660</td>\n",
       "      <td>-0.101999</td>\n",
       "      <td>-0.081219</td>\n",
       "    </tr>\n",
       "    <tr>\n",
       "      <th>1</th>\n",
       "      <td>1751.0</td>\n",
       "      <td>2.295260</td>\n",
       "      <td>1.074736</td>\n",
       "      <td>1.0</td>\n",
       "      <td>2.0</td>\n",
       "      <td>2.0</td>\n",
       "      <td>3.0</td>\n",
       "      <td>10.0</td>\n",
       "      <td>1751.0</td>\n",
       "      <td>3.336379</td>\n",
       "      <td>...</td>\n",
       "      <td>207.76550</td>\n",
       "      <td>4044.552</td>\n",
       "      <td>1751.0</td>\n",
       "      <td>0.367658</td>\n",
       "      <td>0.187471</td>\n",
       "      <td>0.191269</td>\n",
       "      <td>0.231516</td>\n",
       "      <td>0.301110</td>\n",
       "      <td>0.438014</td>\n",
       "      <td>1.119803</td>\n",
       "    </tr>\n",
       "    <tr>\n",
       "      <th>2</th>\n",
       "      <td>35523.0</td>\n",
       "      <td>2.249106</td>\n",
       "      <td>0.980436</td>\n",
       "      <td>1.0</td>\n",
       "      <td>2.0</td>\n",
       "      <td>2.0</td>\n",
       "      <td>3.0</td>\n",
       "      <td>13.0</td>\n",
       "      <td>35523.0</td>\n",
       "      <td>3.308673</td>\n",
       "      <td>...</td>\n",
       "      <td>204.16050</td>\n",
       "      <td>8225.708</td>\n",
       "      <td>35523.0</td>\n",
       "      <td>0.014371</td>\n",
       "      <td>0.048106</td>\n",
       "      <td>-0.081186</td>\n",
       "      <td>-0.016094</td>\n",
       "      <td>0.008502</td>\n",
       "      <td>0.036776</td>\n",
       "      <td>0.191098</td>\n",
       "    </tr>\n",
       "    <tr>\n",
       "      <th>3</th>\n",
       "      <td>120.0</td>\n",
       "      <td>2.229167</td>\n",
       "      <td>0.914165</td>\n",
       "      <td>1.0</td>\n",
       "      <td>2.0</td>\n",
       "      <td>2.0</td>\n",
       "      <td>3.0</td>\n",
       "      <td>6.0</td>\n",
       "      <td>120.0</td>\n",
       "      <td>3.341667</td>\n",
       "      <td>...</td>\n",
       "      <td>165.11325</td>\n",
       "      <td>1111.899</td>\n",
       "      <td>120.0</td>\n",
       "      <td>1.872766</td>\n",
       "      <td>0.500100</td>\n",
       "      <td>1.132791</td>\n",
       "      <td>1.368893</td>\n",
       "      <td>1.877454</td>\n",
       "      <td>2.304599</td>\n",
       "      <td>3.123634</td>\n",
       "    </tr>\n",
       "    <tr>\n",
       "      <th>4</th>\n",
       "      <td>76.0</td>\n",
       "      <td>2.236842</td>\n",
       "      <td>0.943305</td>\n",
       "      <td>1.0</td>\n",
       "      <td>2.0</td>\n",
       "      <td>2.0</td>\n",
       "      <td>3.0</td>\n",
       "      <td>7.0</td>\n",
       "      <td>76.0</td>\n",
       "      <td>3.184211</td>\n",
       "      <td>...</td>\n",
       "      <td>216.34975</td>\n",
       "      <td>2073.630</td>\n",
       "      <td>76.0</td>\n",
       "      <td>-1.365637</td>\n",
       "      <td>0.633114</td>\n",
       "      <td>-3.737018</td>\n",
       "      <td>-1.874492</td>\n",
       "      <td>-1.065844</td>\n",
       "      <td>-0.864283</td>\n",
       "      <td>-0.777944</td>\n",
       "    </tr>\n",
       "  </tbody>\n",
       "</table>\n",
       "<p>5 rows × 64 columns</p>\n",
       "</div>"
      ],
      "text/plain": [
       "        bathrooms                                               bedrooms  \\\n",
       "            count      mean       std  min  25%  50%  75%   max    count   \n",
       "cluster                                                                    \n",
       "0          3438.0  2.213642  0.990254  1.0  2.0  2.0  3.0  19.5   3438.0   \n",
       "1          1751.0  2.295260  1.074736  1.0  2.0  2.0  3.0  10.0   1751.0   \n",
       "2         35523.0  2.249106  0.980436  1.0  2.0  2.0  3.0  13.0  35523.0   \n",
       "3           120.0  2.229167  0.914165  1.0  2.0  2.0  3.0   6.0    120.0   \n",
       "4            76.0  2.236842  0.943305  1.0  2.0  2.0  3.0   7.0     76.0   \n",
       "\n",
       "                   ... structuretaxvaluedollarcnt           logerror  \\\n",
       "             mean  ...                        75%       max    count   \n",
       "cluster            ...                                                 \n",
       "0        3.291158  ...                  197.95400  7340.827   3438.0   \n",
       "1        3.336379  ...                  207.76550  4044.552   1751.0   \n",
       "2        3.308673  ...                  204.16050  8225.708  35523.0   \n",
       "3        3.341667  ...                  165.11325  1111.899    120.0   \n",
       "4        3.184211  ...                  216.34975  2073.630     76.0   \n",
       "\n",
       "                                                                               \n",
       "             mean       std       min       25%       50%       75%       max  \n",
       "cluster                                                                        \n",
       "0       -0.177691  0.116648 -0.761094 -0.206640 -0.134660 -0.101999 -0.081219  \n",
       "1        0.367658  0.187471  0.191269  0.231516  0.301110  0.438014  1.119803  \n",
       "2        0.014371  0.048106 -0.081186 -0.016094  0.008502  0.036776  0.191098  \n",
       "3        1.872766  0.500100  1.132791  1.368893  1.877454  2.304599  3.123634  \n",
       "4       -1.365637  0.633114 -3.737018 -1.874492 -1.065844 -0.864283 -0.777944  \n",
       "\n",
       "[5 rows x 64 columns]"
      ]
     },
     "execution_count": 16,
     "metadata": {},
     "output_type": "execute_result"
    }
   ],
   "source": [
    "train.groupby('cluster').describe()"
   ]
  },
  {
   "cell_type": "code",
   "execution_count": null,
   "metadata": {},
   "outputs": [],
   "source": []
  },
  {
   "cell_type": "code",
   "execution_count": null,
   "metadata": {},
   "outputs": [],
   "source": [
    "pd.DataFrame(.cluster_centers_, columns=train_c.columns)\\\n",
    "    .reset_index()\\\n",
    "    .rename({'index': 'cluster'}, axis=1)\\\n",
    "    .set_index('cluster')"
   ]
  },
  {
   "cell_type": "code",
   "execution_count": null,
   "metadata": {},
   "outputs": [],
   "source": [
    "train_c.groupby('cluster').mean().sort_values(by='logerror')"
   ]
  },
  {
   "cell_type": "code",
   "execution_count": null,
   "metadata": {},
   "outputs": [],
   "source": [
    "train_c.shape"
   ]
  },
  {
   "cell_type": "code",
   "execution_count": null,
   "metadata": {},
   "outputs": [],
   "source": [
    "ax = sns.swarmplot(x='cluster',y='sqft',data=train_c)"
   ]
  },
  {
   "cell_type": "code",
   "execution_count": null,
   "metadata": {},
   "outputs": [],
   "source": []
  }
 ],
 "metadata": {
  "kernelspec": {
   "display_name": "Python 3",
   "language": "python",
   "name": "python3"
  },
  "language_info": {
   "codemirror_mode": {
    "name": "ipython",
    "version": 3
   },
   "file_extension": ".py",
   "mimetype": "text/x-python",
   "name": "python",
   "nbconvert_exporter": "python",
   "pygments_lexer": "ipython3",
   "version": "3.7.3"
  }
 },
 "nbformat": 4,
 "nbformat_minor": 2
}

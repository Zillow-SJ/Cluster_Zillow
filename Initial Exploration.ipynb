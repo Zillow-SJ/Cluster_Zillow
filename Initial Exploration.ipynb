{
 "cells": [
  {
   "cell_type": "code",
   "execution_count": 43,
   "metadata": {},
   "outputs": [],
   "source": [
    "import warnings\n",
    "warnings.filterwarnings(\"ignore\")\n",
    "\n",
    "import pandas as pd\n",
    "import numpy as np\n",
    "from sklearn.preprocessing import StandardScaler, MinMaxScaler\n",
    "#import wrangle\n",
    "import env\n",
    "import seaborn as sns\n",
    "import acquire\n",
    "import prep\n",
    "import scipy.stats as stats\n",
    "import matplotlib.pyplot as plt"
   ]
  },
  {
   "cell_type": "code",
   "execution_count": 2,
   "metadata": {},
   "outputs": [],
   "source": [
    "#single family residence from zillow DB\n",
    "df = prep.prep_df()"
   ]
  },
  {
   "cell_type": "code",
   "execution_count": null,
   "metadata": {},
   "outputs": [],
   "source": [
    "df.isnull().sum().sort_values(ascending=False)"
   ]
  },
  {
   "cell_type": "code",
   "execution_count": null,
   "metadata": {},
   "outputs": [],
   "source": [
    "#drops columns with < 80% of values filled in\n",
    "df = prep.impute_values(df)\n",
    "df = prep.drop_columns(df)"
   ]
  },
  {
   "cell_type": "code",
   "execution_count": null,
   "metadata": {
    "scrolled": true
   },
   "outputs": [],
   "source": [
    "df = df.dropna(how='any')"
   ]
  },
  {
   "cell_type": "code",
   "execution_count": null,
   "metadata": {},
   "outputs": [],
   "source": [
    "test = df[(df.propertycountylandusecode != \"010G\") & ((df.propertycountylandusecode != \"010M\"))]\n",
    "\n",
    "test.propertycountylandusecode.astype(float)"
   ]
  },
  {
   "cell_type": "code",
   "execution_count": null,
   "metadata": {
    "scrolled": false
   },
   "outputs": [],
   "source": [
    "test = df[(df.propertycountylandusecode == \"010G\") | ((df.propertycountylandusecode == \"010M\"))]\n",
    "\n",
    "test.shape"
   ]
  },
  {
   "cell_type": "code",
   "execution_count": null,
   "metadata": {},
   "outputs": [],
   "source": [
    "df[['landtaxvaluedollarcnt','lotsizesquarefeet']].head()"
   ]
  },
  {
   "cell_type": "code",
   "execution_count": null,
   "metadata": {},
   "outputs": [],
   "source": [
    "df['tax_value_per_foot'] = df.landtaxvaluedollarcnt/df.lotsizesquarefeet\n",
    "df.tax_value_per_foot.mean()"
   ]
  },
  {
   "cell_type": "code",
   "execution_count": null,
   "metadata": {},
   "outputs": [],
   "source": [
    "(df.structuretaxvaluedollarcnt/df.tax_value).mean()"
   ]
  },
  {
   "cell_type": "code",
   "execution_count": null,
   "metadata": {},
   "outputs": [],
   "source": [
    "df.head().T"
   ]
  },
  {
   "cell_type": "code",
   "execution_count": null,
   "metadata": {},
   "outputs": [],
   "source": [
    "df.lotsizesquarefeet.head()"
   ]
  },
  {
   "cell_type": "code",
   "execution_count": null,
   "metadata": {},
   "outputs": [],
   "source": [
    "df.landtaxvaluedollarcnt /df.tax_value_per_foot.mean()"
   ]
  },
  {
   "cell_type": "code",
   "execution_count": null,
   "metadata": {},
   "outputs": [],
   "source": [
    "df_nulls_r = pd.DataFrame(df.apply(lambda x: df.shape[1] -x.count(),axis=1))\n",
    "df_nulls_r['pct_rows_missing'] = df_nulls_r[0] / df.shape[1]\n",
    "row_drops = df_nulls_r[df_nulls_r['pct_rows_missing'] >.2]\n",
    "row_drops['column_names'] = row_drops.index\n",
    "row_drops = list(row_drops.column_names)\n",
    "#df_new = df.drop(row_drops,axis=0)\n",
    "\n",
    "df_nulls_r.max()\n"
   ]
  },
  {
   "cell_type": "code",
   "execution_count": null,
   "metadata": {},
   "outputs": [],
   "source": [
    "Q1 = df.quantile(.25)\n",
    "Q3 = df.quantile(.75)\n",
    "IQR = Q3-Q1"
   ]
  },
  {
   "cell_type": "code",
   "execution_count": null,
   "metadata": {},
   "outputs": [],
   "source": [
    "IQR = Q3-Q1\n",
    "Q1"
   ]
  },
  {
   "cell_type": "code",
   "execution_count": null,
   "metadata": {},
   "outputs": [],
   "source": [
    "df[~((df < (Q1 - 1.5 * IQR)) |(df > (Q3 + 1.5 * IQR))).any(axis=1)]"
   ]
  },
  {
   "cell_type": "code",
   "execution_count": null,
   "metadata": {},
   "outputs": [],
   "source": [
    "def outlier(series):\n",
    "    Q1 = series.quantile(.25)\n",
    "    Q3 = series.quantile(.75)\n",
    "    IQR = Q3-Q1\n",
    "    \n",
    "    series = series[((series < (Q1 - 3 * IQR)) |(series > (Q3 + 3 * IQR)))]\n",
    "    return series"
   ]
  },
  {
   "cell_type": "code",
   "execution_count": null,
   "metadata": {},
   "outputs": [],
   "source": [
    "def remove_outliers_iqr(df, columns):\n",
    "    for col in columns:\n",
    "        q75, q25 = np.percentile(df[col], [75,25])\n",
    "        ub = 3*stats.iqr(df[col]) + q75\n",
    "        lb = q25 - 3*stats.iqr(df[col])\n",
    "        print(len(df[df[col] <= ub]))\n",
    "        df = df[df[col] <= ub]\n",
    "        df = df[df[col] >= lb]\n",
    "    return df"
   ]
  },
  {
   "cell_type": "code",
   "execution_count": null,
   "metadata": {},
   "outputs": [],
   "source": [
    "len(remove_outliers_iqr(df,['tax_value','sqft','lotsizesquarefeet','structuretaxvaluedollarcnt']))"
   ]
  },
  {
   "cell_type": "code",
   "execution_count": null,
   "metadata": {},
   "outputs": [],
   "source": [
    "df.shape"
   ]
  },
  {
   "cell_type": "code",
   "execution_count": null,
   "metadata": {},
   "outputs": [],
   "source": []
  },
  {
   "cell_type": "code",
   "execution_count": 3,
   "metadata": {},
   "outputs": [],
   "source": [
    "from sklearn.linear_model import LinearRegression\n",
    "\n",
    "from sklearn.model_selection import train_test_split\n",
    "\n",
    "import numpy as np\n",
    "import pandas as pd\n",
    "\n",
    "import prep\n",
    "import seaborn as sns\n",
    "from sklearn.cluster import KMeans\n",
    " "
   ]
  },
  {
   "cell_type": "code",
   "execution_count": 4,
   "metadata": {},
   "outputs": [],
   "source": [
    "train, test = train_test_split(df, train_size = .75, random_state = 123)"
   ]
  },
  {
   "cell_type": "code",
   "execution_count": null,
   "metadata": {},
   "outputs": [],
   "source": [
    "train.head()"
   ]
  },
  {
   "cell_type": "code",
   "execution_count": 5,
   "metadata": {},
   "outputs": [],
   "source": [
    "X_train = train.drop(columns=['logerror','fips','latitude','longitude','regionidcity','regionidcounty','regionidzip'])\n",
    "y_train = train[['logerror']]\n",
    "X_test = test.drop(columns=['logerror','fips','latitude','longitude','regionidcity','regionidcounty','regionidzip'])\n",
    "y_test = test[['logerror']]\n",
    "X_train.tax_value = X_train.tax_value /1000\n",
    "X_train.structuretaxvaluedollarcnt = X_train.structuretaxvaluedollarcnt/1000"
   ]
  },
  {
   "cell_type": "code",
   "execution_count": null,
   "metadata": {},
   "outputs": [],
   "source": [
    "kmeans = KMeans(n_clusters=5)\n",
    "kmeans.fit(X_train)\n",
    "kmeans.predict(X_train)\n",
    "#X_train['cluster'] = kmeans.predict(X_train)"
   ]
  },
  {
   "cell_type": "code",
   "execution_count": null,
   "metadata": {
    "scrolled": true
   },
   "outputs": [],
   "source": [
    "pd.DataFrame(kmeans.cluster_centers_, columns=X_train.columns)\\\n",
    "    .reset_index()\\\n",
    "    .rename({'index': 'cluster'}, axis=1)\\\n",
    "    .set_index('cluster')"
   ]
  },
  {
   "cell_type": "code",
   "execution_count": null,
   "metadata": {},
   "outputs": [],
   "source": [
    "X_train['cluster'] = kmeans.predict(X_train)\n",
    "X_train.head()"
   ]
  },
  {
   "cell_type": "code",
   "execution_count": null,
   "metadata": {},
   "outputs": [],
   "source": [
    "sns.pairplot(X_train,vars=['sqft','bedrooms','bathrooms','tax_value','lotsizesquarefeet'])"
   ]
  },
  {
   "cell_type": "code",
   "execution_count": null,
   "metadata": {},
   "outputs": [],
   "source": [
    "X_train.describe()"
   ]
  },
  {
   "cell_type": "code",
   "execution_count": null,
   "metadata": {},
   "outputs": [],
   "source": [
    "from sklearn.linear_model import LassoCV\n",
    "\n",
    "reg = LassoCV()\n",
    "reg.fit(X_train, y_train)\n",
    "\n",
    "print(\"Best alpha using built-in LassoCV: %f\" % reg.alpha_)\n",
    "print(\"Best score using built-in LassoCV: %f\" %reg.score(X_train,y_train))\n",
    "coef = pd.Series(reg.coef_, index = X_train.columns)\n",
    "\n",
    "\n",
    "print(\"Lasso picked \" + str(sum(coef != 0)) + \" variables and eliminated the other \" +  str(sum(coef == 0)) + \" variables\")"
   ]
  },
  {
   "cell_type": "code",
   "execution_count": null,
   "metadata": {},
   "outputs": [],
   "source": [
    "coef.sort_values()"
   ]
  },
  {
   "cell_type": "code",
   "execution_count": null,
   "metadata": {},
   "outputs": [],
   "source": [
    "import pandas as pd\n",
    "import numpy as np\n",
    "import matplotlib.pyplot as plt\n",
    "import seaborn as sns\n",
    "from sklearn.model_selection import train_test_split\n",
    "from sklearn.preprocessing import StandardScaler, MinMaxScaler\n",
    "from sklearn.metrics import mean_squared_error, r2_score, explained_variance_score\n",
    "from math import sqrt\n",
    "import warnings"
   ]
  },
  {
   "cell_type": "code",
   "execution_count": null,
   "metadata": {},
   "outputs": [],
   "source": [
    "from sklearn.linear_model import LinearRegression\n",
    "\n",
    "lm1 = LinearRegression()\n",
    "\n",
    "print(lm1)"
   ]
  },
  {
   "cell_type": "code",
   "execution_count": null,
   "metadata": {},
   "outputs": [],
   "source": [
    "lm1.fit(X_train, y_train)\n",
    "print(\"Linear Model:\", lm1)\n",
    "\n",
    "lm1_y_intercept = lm1.intercept_\n",
    "print(\"intercept: \", lm1_y_intercept)\n",
    "\n",
    "lm1_coefficients = lm1.coef_\n",
    "print(\"coefficients: \", lm1_coefficients)"
   ]
  },
  {
   "cell_type": "code",
   "execution_count": null,
   "metadata": {},
   "outputs": [],
   "source": [
    "y_pred_lm1 = lm1.predict(X_train)"
   ]
  },
  {
   "cell_type": "code",
   "execution_count": null,
   "metadata": {},
   "outputs": [],
   "source": [
    "train.describe()"
   ]
  },
  {
   "cell_type": "code",
   "execution_count": null,
   "metadata": {},
   "outputs": [],
   "source": [
    "    kmeans = KMeans(n_clusters=5)\n",
    "    kmeans.fit(X_train['sqft','tax_value'])\n",
    "    y_train['cluster'] = kmeans.predict(y_train)"
   ]
  },
  {
   "cell_type": "code",
   "execution_count": 6,
   "metadata": {},
   "outputs": [],
   "source": [
    "def target_cluster(y_train,X_train):\n",
    "    kmeans = KMeans(n_clusters=5)\n",
    "    kmeans.fit(y_train)\n",
    "    y_train['cluster'] = kmeans.predict(y_train)\n",
    "    train = X_train.merge(y_train,left_index=True,right_index=True)\n",
    "    return train"
   ]
  },
  {
   "cell_type": "code",
   "execution_count": 8,
   "metadata": {},
   "outputs": [],
   "source": [
    "train = target_cluster(y_train,X_train)"
   ]
  },
  {
   "cell_type": "code",
   "execution_count": 24,
   "metadata": {},
   "outputs": [
    {
     "data": {
      "text/plain": [
       "2537.5"
      ]
     },
     "execution_count": 24,
     "metadata": {},
     "output_type": "execute_result"
    }
   ],
   "source": [
    "20300/8"
   ]
  },
  {
   "cell_type": "code",
   "execution_count": null,
   "metadata": {},
   "outputs": [],
   "source": [
    "y_train['cluster'] = kmeans.predict(y_train)\n"
   ]
  },
  {
   "cell_type": "code",
   "execution_count": 25,
   "metadata": {},
   "outputs": [
    {
     "data": {
      "text/html": [
       "<div>\n",
       "<style scoped>\n",
       "    .dataframe tbody tr th:only-of-type {\n",
       "        vertical-align: middle;\n",
       "    }\n",
       "\n",
       "    .dataframe tbody tr th {\n",
       "        vertical-align: top;\n",
       "    }\n",
       "\n",
       "    .dataframe thead th {\n",
       "        text-align: right;\n",
       "    }\n",
       "</style>\n",
       "<table border=\"1\" class=\"dataframe\">\n",
       "  <thead>\n",
       "    <tr style=\"text-align: right;\">\n",
       "      <th></th>\n",
       "      <th>bathrooms</th>\n",
       "      <th>bedrooms</th>\n",
       "      <th>sqft</th>\n",
       "      <th>tax_value</th>\n",
       "      <th>lotsizesquarefeet</th>\n",
       "      <th>yearbuilt</th>\n",
       "      <th>structuretaxvaluedollarcnt</th>\n",
       "      <th>logerror</th>\n",
       "    </tr>\n",
       "    <tr>\n",
       "      <th>cluster</th>\n",
       "      <th></th>\n",
       "      <th></th>\n",
       "      <th></th>\n",
       "      <th></th>\n",
       "      <th></th>\n",
       "      <th></th>\n",
       "      <th></th>\n",
       "      <th></th>\n",
       "    </tr>\n",
       "  </thead>\n",
       "  <tbody>\n",
       "    <tr>\n",
       "      <th>4</th>\n",
       "      <td>2.236842</td>\n",
       "      <td>3.184211</td>\n",
       "      <td>1900.657895</td>\n",
       "      <td>530.876658</td>\n",
       "      <td>9861.578947</td>\n",
       "      <td>1956.210526</td>\n",
       "      <td>182.679276</td>\n",
       "      <td>-1.365637</td>\n",
       "    </tr>\n",
       "    <tr>\n",
       "      <th>0</th>\n",
       "      <td>2.213642</td>\n",
       "      <td>3.291158</td>\n",
       "      <td>1849.058173</td>\n",
       "      <td>443.084847</td>\n",
       "      <td>10560.522219</td>\n",
       "      <td>1960.540430</td>\n",
       "      <td>172.793398</td>\n",
       "      <td>-0.177691</td>\n",
       "    </tr>\n",
       "    <tr>\n",
       "      <th>2</th>\n",
       "      <td>2.249106</td>\n",
       "      <td>3.308673</td>\n",
       "      <td>1862.851617</td>\n",
       "      <td>455.815622</td>\n",
       "      <td>9960.799561</td>\n",
       "      <td>1961.015539</td>\n",
       "      <td>176.942214</td>\n",
       "      <td>0.014371</td>\n",
       "    </tr>\n",
       "    <tr>\n",
       "      <th>1</th>\n",
       "      <td>2.295260</td>\n",
       "      <td>3.336379</td>\n",
       "      <td>1900.987436</td>\n",
       "      <td>461.442537</td>\n",
       "      <td>9847.506027</td>\n",
       "      <td>1961.200457</td>\n",
       "      <td>188.270842</td>\n",
       "      <td>0.367658</td>\n",
       "    </tr>\n",
       "    <tr>\n",
       "      <th>3</th>\n",
       "      <td>2.229167</td>\n",
       "      <td>3.341667</td>\n",
       "      <td>1789.233333</td>\n",
       "      <td>379.317992</td>\n",
       "      <td>7550.738089</td>\n",
       "      <td>1958.075000</td>\n",
       "      <td>147.098533</td>\n",
       "      <td>1.872766</td>\n",
       "    </tr>\n",
       "  </tbody>\n",
       "</table>\n",
       "</div>"
      ],
      "text/plain": [
       "         bathrooms  bedrooms         sqft   tax_value  lotsizesquarefeet  \\\n",
       "cluster                                                                    \n",
       "4         2.236842  3.184211  1900.657895  530.876658        9861.578947   \n",
       "0         2.213642  3.291158  1849.058173  443.084847       10560.522219   \n",
       "2         2.249106  3.308673  1862.851617  455.815622        9960.799561   \n",
       "1         2.295260  3.336379  1900.987436  461.442537        9847.506027   \n",
       "3         2.229167  3.341667  1789.233333  379.317992        7550.738089   \n",
       "\n",
       "           yearbuilt  structuretaxvaluedollarcnt  logerror  \n",
       "cluster                                                     \n",
       "4        1956.210526                  182.679276 -1.365637  \n",
       "0        1960.540430                  172.793398 -0.177691  \n",
       "2        1961.015539                  176.942214  0.014371  \n",
       "1        1961.200457                  188.270842  0.367658  \n",
       "3        1958.075000                  147.098533  1.872766  "
      ]
     },
     "execution_count": 25,
     "metadata": {},
     "output_type": "execute_result"
    }
   ],
   "source": [
    "train.groupby('cluster').mean().sort_values(by='logerror')"
   ]
  },
  {
   "cell_type": "code",
   "execution_count": 58,
   "metadata": {},
   "outputs": [
    {
     "data": {
      "text/html": [
       "<div>\n",
       "<style scoped>\n",
       "    .dataframe tbody tr th:only-of-type {\n",
       "        vertical-align: middle;\n",
       "    }\n",
       "\n",
       "    .dataframe tbody tr th {\n",
       "        vertical-align: top;\n",
       "    }\n",
       "\n",
       "    .dataframe thead th {\n",
       "        text-align: right;\n",
       "    }\n",
       "</style>\n",
       "<table border=\"1\" class=\"dataframe\">\n",
       "  <thead>\n",
       "    <tr style=\"text-align: right;\">\n",
       "      <th></th>\n",
       "      <th>bathrooms</th>\n",
       "      <th>bedrooms</th>\n",
       "      <th>sqft</th>\n",
       "      <th>tax_value</th>\n",
       "      <th>lotsizesquarefeet</th>\n",
       "      <th>propertycountylandusecode</th>\n",
       "      <th>yearbuilt</th>\n",
       "      <th>structuretaxvaluedollarcnt</th>\n",
       "      <th>logerror_x</th>\n",
       "      <th>cluster</th>\n",
       "      <th>qcut</th>\n",
       "      <th>0_x</th>\n",
       "      <th>0_y</th>\n",
       "      <th>logerror_y</th>\n",
       "      <th>scaled_logerror</th>\n",
       "    </tr>\n",
       "  </thead>\n",
       "  <tbody>\n",
       "    <tr>\n",
       "      <th>12854</th>\n",
       "      <td>2.0</td>\n",
       "      <td>3.0</td>\n",
       "      <td>1838.0</td>\n",
       "      <td>216.159</td>\n",
       "      <td>9796.0</td>\n",
       "      <td>0100</td>\n",
       "      <td>1999.0</td>\n",
       "      <td>172.934</td>\n",
       "      <td>0.051355</td>\n",
       "      <td>2</td>\n",
       "      <td>3</td>\n",
       "      <td>0.468572</td>\n",
       "      <td>0.468572</td>\n",
       "      <td>0.051355</td>\n",
       "      <td>0.468572</td>\n",
       "    </tr>\n",
       "    <tr>\n",
       "      <th>6103</th>\n",
       "      <td>2.0</td>\n",
       "      <td>3.0</td>\n",
       "      <td>2306.0</td>\n",
       "      <td>181.378</td>\n",
       "      <td>10306.0</td>\n",
       "      <td>0100</td>\n",
       "      <td>1968.0</td>\n",
       "      <td>109.124</td>\n",
       "      <td>0.005659</td>\n",
       "      <td>2</td>\n",
       "      <td>4</td>\n",
       "      <td>0.466979</td>\n",
       "      <td>0.466979</td>\n",
       "      <td>0.005659</td>\n",
       "      <td>0.466979</td>\n",
       "    </tr>\n",
       "    <tr>\n",
       "      <th>46884</th>\n",
       "      <td>2.0</td>\n",
       "      <td>3.0</td>\n",
       "      <td>1482.0</td>\n",
       "      <td>304.562</td>\n",
       "      <td>6461.0</td>\n",
       "      <td>0101</td>\n",
       "      <td>1924.0</td>\n",
       "      <td>196.565</td>\n",
       "      <td>0.052020</td>\n",
       "      <td>2</td>\n",
       "      <td>2</td>\n",
       "      <td>0.471910</td>\n",
       "      <td>0.471910</td>\n",
       "      <td>0.052020</td>\n",
       "      <td>0.471910</td>\n",
       "    </tr>\n",
       "    <tr>\n",
       "      <th>33177</th>\n",
       "      <td>3.0</td>\n",
       "      <td>4.0</td>\n",
       "      <td>1548.0</td>\n",
       "      <td>220.704</td>\n",
       "      <td>7113.0</td>\n",
       "      <td>0100</td>\n",
       "      <td>1954.0</td>\n",
       "      <td>122.037</td>\n",
       "      <td>0.093799</td>\n",
       "      <td>2</td>\n",
       "      <td>2</td>\n",
       "      <td>0.467743</td>\n",
       "      <td>0.467743</td>\n",
       "      <td>0.093799</td>\n",
       "      <td>0.467743</td>\n",
       "    </tr>\n",
       "    <tr>\n",
       "      <th>43799</th>\n",
       "      <td>2.0</td>\n",
       "      <td>3.0</td>\n",
       "      <td>1338.0</td>\n",
       "      <td>354.795</td>\n",
       "      <td>5998.0</td>\n",
       "      <td>0100</td>\n",
       "      <td>1950.0</td>\n",
       "      <td>89.675</td>\n",
       "      <td>-0.066423</td>\n",
       "      <td>2</td>\n",
       "      <td>2</td>\n",
       "      <td>0.463667</td>\n",
       "      <td>0.463667</td>\n",
       "      <td>-0.066423</td>\n",
       "      <td>0.463667</td>\n",
       "    </tr>\n",
       "  </tbody>\n",
       "</table>\n",
       "</div>"
      ],
      "text/plain": [
       "       bathrooms  bedrooms    sqft  tax_value  lotsizesquarefeet  \\\n",
       "12854        2.0       3.0  1838.0    216.159             9796.0   \n",
       "6103         2.0       3.0  2306.0    181.378            10306.0   \n",
       "46884        2.0       3.0  1482.0    304.562             6461.0   \n",
       "33177        3.0       4.0  1548.0    220.704             7113.0   \n",
       "43799        2.0       3.0  1338.0    354.795             5998.0   \n",
       "\n",
       "      propertycountylandusecode  yearbuilt  structuretaxvaluedollarcnt  \\\n",
       "12854                      0100     1999.0                     172.934   \n",
       "6103                       0100     1968.0                     109.124   \n",
       "46884                      0101     1924.0                     196.565   \n",
       "33177                      0100     1954.0                     122.037   \n",
       "43799                      0100     1950.0                      89.675   \n",
       "\n",
       "       logerror_x  cluster qcut       0_x       0_y  logerror_y  \\\n",
       "12854    0.051355        2    3  0.468572  0.468572    0.051355   \n",
       "6103     0.005659        2    4  0.466979  0.466979    0.005659   \n",
       "46884    0.052020        2    2  0.471910  0.471910    0.052020   \n",
       "33177    0.093799        2    2  0.467743  0.467743    0.093799   \n",
       "43799   -0.066423        2    2  0.463667  0.463667   -0.066423   \n",
       "\n",
       "       scaled_logerror  \n",
       "12854         0.468572  \n",
       "6103          0.466979  \n",
       "46884         0.471910  \n",
       "33177         0.467743  \n",
       "43799         0.463667  "
      ]
     },
     "execution_count": 58,
     "metadata": {},
     "output_type": "execute_result"
    }
   ],
   "source": [
    "from sklearn.preprocessing import MinMaxScaler\n",
    "scaler = MinMaxScaler()\n",
    "#train = pd.DataFrame(scaler.fit_transform(train),columns=train.logerror)\n",
    "scaled_logerror = df[['logerror']]\n",
    "scaled_logerror['scaled_logerror'] = pd.DataFrame(scaler.fit_transform(scaled_logerror))\n",
    "train = train.merge(scaled_logerror,left_index=True,right_index=True)\n",
    "\n",
    "train.head()"
   ]
  },
  {
   "cell_type": "code",
   "execution_count": 69,
   "metadata": {},
   "outputs": [
    {
     "data": {
      "text/plain": [
       "Ttest_indResult(statistic=3.0172822393920056, pvalue=0.002553711726178663)"
      ]
     },
     "execution_count": 69,
     "metadata": {},
     "output_type": "execute_result"
    }
   ],
   "source": [
    "train['qcut']= pd.qcut(df['tax_value'],q=4,labels=[1,2,3,4])\n",
    "#train.groupby('qcut')\n",
    "\n",
    "#from scipy.stats import ttest_ind, norm\n",
    "train.head()\n",
    "ttest_ind(train[train.qcut == 3].logerror_x,train[train.qcut == 4].logerror_x)"
   ]
  },
  {
   "cell_type": "code",
   "execution_count": null,
   "metadata": {},
   "outputs": [],
   "source": [
    "pd.DataFrame(.cluster_centers_, columns=train_c.columns)\\\n",
    "    .reset_index()\\\n",
    "    .rename({'index': 'cluster'}, axis=1)\\\n",
    "    .set_index('cluster')"
   ]
  },
  {
   "cell_type": "code",
   "execution_count": null,
   "metadata": {},
   "outputs": [],
   "source": [
    "train_c.groupby('cluster').mean().sort_values(by='logerror')"
   ]
  },
  {
   "cell_type": "code",
   "execution_count": null,
   "metadata": {},
   "outputs": [],
   "source": [
    "train_c.shape"
   ]
  },
  {
   "cell_type": "code",
   "execution_count": null,
   "metadata": {},
   "outputs": [],
   "source": [
    "ax = sns.swarmplot(x='cluster',y='sqft',data=train_c)"
   ]
  },
  {
   "cell_type": "code",
   "execution_count": 46,
   "metadata": {},
   "outputs": [
    {
     "data": {
      "image/png": "[encoded data removed]",
      "text/plain": [
       "<Figure size 432x288 with 1 Axes>"
      ]
     },
     "metadata": {
      "needs_background": "light"
     },
     "output_type": "display_data"
    }
   ],
   "source": [
    "for i in train['qcut'].unique().tolist():\n",
    "    mean = train[train['qcut'] == i].logerror.mean()\n",
    "    std = train[train['qcut'] == i].logerror.std()\n",
    "    x = np.linspace(mean-.5,mean+.5,1000)\n",
    "    y = norm.pdf(x, loc=mean, scale=std)    # for example\n",
    "    plt.plot(x,y, label = i)"
   ]
  },
  {
   "cell_type": "code",
   "execution_count": null,
   "metadata": {},
   "outputs": [],
   "source": []
  }
 ],
 "metadata": {
  "kernelspec": {
   "display_name": "Python 3",
   "language": "python",
   "name": "python3"
  },
  "language_info": {
   "codemirror_mode": {
    "name": "ipython",
    "version": 3
   },
   "file_extension": ".py",
   "mimetype": "text/x-python",
   "name": "python",
   "nbconvert_exporter": "python",
   "pygments_lexer": "ipython3",
   "version": "3.7.3"
  }
 },
 "nbformat": 4,
 "nbformat_minor": 2
}

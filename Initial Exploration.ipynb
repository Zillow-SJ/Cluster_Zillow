{
 "cells": [
  {
   "cell_type": "code",
   "execution_count": 1,
   "metadata": {},
   "outputs": [
    {
     "name": "stdout",
     "output_type": "stream",
     "text": [
      "   transactiondate   id  bathrooms  bedrooms    sqft  tax_value  \\\n",
      "0       2017-01-02   20        2.0       4.0  3633.0   296425.0   \n",
      "1       2017-01-02   31        4.0       3.0  1620.0   847770.0   \n",
      "2       2017-01-02   33        2.0       3.0  2077.0   646760.0   \n",
      "3       2017-01-03  110        1.0       3.0  1244.0   169471.0   \n",
      "4       2017-01-03  111        2.0       3.0  1300.0   233266.0   \n",
      "\n",
      "  architecturalstyledesc  architecturalstyletypeid architecturalstyledesc  \\\n",
      "0                   None                       NaN                   None   \n",
      "1                   None                       NaN                   None   \n",
      "2                   None                       NaN                   None   \n",
      "3                   None                       NaN                   None   \n",
      "4                   None                       NaN                   None   \n",
      "\n",
      "    id  ...  taxamount  taxdelinquencyflag  taxdelinquencyyear  \\\n",
      "0   20  ...    6941.39                None                 NaN   \n",
      "1   31  ...   10244.94                None                 NaN   \n",
      "2   33  ...    7924.68                None                 NaN   \n",
      "3  110  ...    2532.88                None                 NaN   \n",
      "4  111  ...    3110.99                None                 NaN   \n",
      "\n",
      "   censustractandblock  typeconstructiontypeid  typeconstructiondesc   id  \\\n",
      "0                  NaN                     NaN                  None   20   \n",
      "1                  NaN                     NaN                  None   31   \n",
      "2                  NaN                     NaN                  None   33   \n",
      "3                  NaN                     NaN                  None  110   \n",
      "4                  NaN                     NaN                  None  111   \n",
      "\n",
      "   parcelid  logerror  transactiondate  \n",
      "0  12325145  0.042463       2017-01-02  \n",
      "1  14338242 -0.019546       2017-01-02  \n",
      "2  12155445 -0.040807       2017-01-02  \n",
      "3  14724525  0.042412       2017-01-03  \n",
      "4  14179809 -0.000908       2017-01-03  \n",
      "\n",
      "[5 rows x 74 columns]\n"
     ]
    }
   ],
   "source": [
    "import warnings\n",
    "warnings.filterwarnings(\"ignore\")\n",
    "\n",
    "import pandas as pd\n",
    "import numpy as np\n",
    "from sklearn.preprocessing import StandardScaler, MinMaxScaler\n",
    "#import wrangle\n",
    "import env\n",
    "import seaborn as sns\n",
    "import acquire\n",
    "import prep\n",
    "import scipy.stats as stats"
   ]
  },
  {
   "cell_type": "code",
   "execution_count": null,
   "metadata": {},
   "outputs": [],
   "source": [
    "#single family residence from zillow DB\n",
    "df = prep.prep_df()"
   ]
  },
  {
   "cell_type": "code",
   "execution_count": null,
   "metadata": {},
   "outputs": [],
   "source": [
    "df.isnull().sum().sort_values(ascending=False)"
   ]
  },
  {
   "cell_type": "code",
   "execution_count": null,
   "metadata": {},
   "outputs": [],
   "source": [
    "#drops columns with < 80% of values filled in\n",
    "df = prep.impute_values(df)\n",
    "df = prep.drop_columns(df)"
   ]
  },
  {
   "cell_type": "code",
   "execution_count": null,
   "metadata": {
    "scrolled": true
   },
   "outputs": [],
   "source": [
    "df = df.dropna(how='any')"
   ]
  },
  {
   "cell_type": "code",
   "execution_count": null,
   "metadata": {},
   "outputs": [],
   "source": [
    "test = df[(df.propertycountylandusecode != \"010G\") & ((df.propertycountylandusecode != \"010M\"))]\n",
    "\n",
    "test.propertycountylandusecode.astype(float)"
   ]
  },
  {
   "cell_type": "code",
   "execution_count": null,
   "metadata": {
    "scrolled": false
   },
   "outputs": [],
   "source": [
    "test = df[(df.propertycountylandusecode == \"010G\") | ((df.propertycountylandusecode == \"010M\"))]\n",
    "\n",
    "test.shape"
   ]
  },
  {
   "cell_type": "code",
   "execution_count": null,
   "metadata": {},
   "outputs": [],
   "source": [
    "df[['landtaxvaluedollarcnt','lotsizesquarefeet']].head()"
   ]
  },
  {
   "cell_type": "code",
   "execution_count": null,
   "metadata": {},
   "outputs": [],
   "source": [
    "df['tax_value_per_foot'] = df.landtaxvaluedollarcnt/df.lotsizesquarefeet\n",
    "df.tax_value_per_foot.mean()"
   ]
  },
  {
   "cell_type": "code",
   "execution_count": null,
   "metadata": {},
   "outputs": [],
   "source": [
    "(df.structuretaxvaluedollarcnt/df.tax_value).mean()"
   ]
  },
  {
   "cell_type": "code",
   "execution_count": null,
   "metadata": {},
   "outputs": [],
   "source": [
    "df.head().T"
   ]
  },
  {
   "cell_type": "code",
   "execution_count": null,
   "metadata": {},
   "outputs": [],
   "source": [
    "df.lotsizesquarefeet.head()"
   ]
  },
  {
   "cell_type": "code",
   "execution_count": null,
   "metadata": {},
   "outputs": [],
   "source": [
    "df.landtaxvaluedollarcnt /df.tax_value_per_foot.mean()"
   ]
  },
  {
   "cell_type": "code",
   "execution_count": null,
   "metadata": {},
   "outputs": [],
   "source": [
    "df_nulls_r = pd.DataFrame(df.apply(lambda x: df.shape[1] -x.count(),axis=1))\n",
    "df_nulls_r['pct_rows_missing'] = df_nulls_r[0] / df.shape[1]\n",
    "row_drops = df_nulls_r[df_nulls_r['pct_rows_missing'] >.2]\n",
    "row_drops['column_names'] = row_drops.index\n",
    "row_drops = list(row_drops.column_names)\n",
    "#df_new = df.drop(row_drops,axis=0)\n",
    "\n",
    "df_nulls_r.max()\n"
   ]
  },
  {
   "cell_type": "code",
   "execution_count": null,
   "metadata": {},
   "outputs": [],
   "source": [
    "Q1 = df.quantile(.25)\n",
    "Q3 = df.quantile(.75)\n",
    "IQR = Q3-Q1"
   ]
  },
  {
   "cell_type": "code",
   "execution_count": null,
   "metadata": {},
   "outputs": [],
   "source": [
    "IQR = Q3-Q1\n",
    "Q1"
   ]
  },
  {
   "cell_type": "code",
   "execution_count": null,
   "metadata": {},
   "outputs": [],
   "source": [
    "df[~((df < (Q1 - 1.5 * IQR)) |(df > (Q3 + 1.5 * IQR))).any(axis=1)]"
   ]
  },
  {
   "cell_type": "code",
   "execution_count": null,
   "metadata": {},
   "outputs": [],
   "source": [
    "def outlier(series):\n",
    "    Q1 = series.quantile(.25)\n",
    "    Q3 = series.quantile(.75)\n",
    "    IQR = Q3-Q1\n",
    "    \n",
    "    series = series[((series < (Q1 - 3 * IQR)) |(series > (Q3 + 3 * IQR)))]\n",
    "    return series"
   ]
  },
  {
   "cell_type": "code",
   "execution_count": null,
   "metadata": {},
   "outputs": [],
   "source": [
    "def remove_outliers_iqr(df, columns):\n",
    "    for col in columns:\n",
    "        q75, q25 = np.percentile(df[col], [75,25])\n",
    "        ub = 3*stats.iqr(df[col]) + q75\n",
    "        lb = q25 - 3*stats.iqr(df[col])\n",
    "        print(len(df[df[col] <= ub]))\n",
    "        df = df[df[col] <= ub]\n",
    "        df = df[df[col] >= lb]\n",
    "    return df"
   ]
  },
  {
   "cell_type": "code",
   "execution_count": null,
   "metadata": {},
   "outputs": [],
   "source": [
    "len(remove_outliers_iqr(df,['tax_value','sqft','lotsizesquarefeet','structuretaxvaluedollarcnt']))"
   ]
  },
  {
   "cell_type": "code",
   "execution_count": null,
   "metadata": {},
   "outputs": [],
   "source": [
    "df.shape"
   ]
  },
  {
   "cell_type": "code",
   "execution_count": null,
   "metadata": {},
   "outputs": [],
   "source": []
  },
  {
   "cell_type": "code",
   "execution_count": null,
   "metadata": {},
   "outputs": [],
   "source": [
    "from sklearn.linear_model import LinearRegression\n",
    "\n",
    "from sklearn.model_selection import train_test_split\n",
    "\n",
    "import numpy as np\n",
    "import pandas as pd\n",
    "\n",
    "import prep\n",
    "import seaborn as sns\n",
    "from sklearn.cluster import KMeans\n",
    " "
   ]
  },
  {
   "cell_type": "code",
   "execution_count": null,
   "metadata": {},
   "outputs": [],
   "source": [
    "train, test = train_test_split(df, train_size = .75, random_state = 123)"
   ]
  },
  {
   "cell_type": "code",
   "execution_count": null,
   "metadata": {},
   "outputs": [],
   "source": [
    "train.head()"
   ]
  },
  {
   "cell_type": "code",
   "execution_count": null,
   "metadata": {},
   "outputs": [],
   "source": [
    "X_train = train.drop(columns=['logerror','fips','latitude','longitude','regionidcity','regionidcounty','regionidzip'])\n",
    "y_train = train[['logerror']]\n",
    "X_test = test.drop(columns=['logerror','fips','latitude','longitude','regionidcity','regionidcounty','regionidzip'])\n",
    "y_test = test[['logerror']]\n",
    "X_train.tax_value = X_train.tax_value /1000\n",
    "X_train.structuretaxvaluedollarcnt = X_train.structuretaxvaluedollarcnt/1000"
   ]
  },
  {
   "cell_type": "code",
   "execution_count": null,
   "metadata": {},
   "outputs": [],
   "source": [
    "kmeans = KMeans(n_clusters=5)\n",
    "kmeans.fit(X_train)\n",
    "kmeans.predict(X_train)\n",
    "#X_train['cluster'] = kmeans.predict(X_train)"
   ]
  },
  {
   "cell_type": "code",
   "execution_count": null,
   "metadata": {
    "scrolled": true
   },
   "outputs": [],
   "source": [
    "pd.DataFrame(kmeans.cluster_centers_, columns=X_train.columns)\\\n",
    "    .reset_index()\\\n",
    "    .rename({'index': 'cluster'}, axis=1)\\\n",
    "    .set_index('cluster')"
   ]
  },
  {
   "cell_type": "code",
   "execution_count": null,
   "metadata": {},
   "outputs": [],
   "source": [
    "X_train['cluster'] = kmeans.predict(X_train)\n",
    "X_train.head()"
   ]
  },
  {
   "cell_type": "code",
   "execution_count": null,
   "metadata": {},
   "outputs": [],
   "source": [
    "sns.pairplot(X_train,vars=['sqft','bedrooms','bathrooms','tax_value','lotsizesquarefeet'])"
   ]
  },
  {
   "cell_type": "code",
   "execution_count": null,
   "metadata": {},
   "outputs": [],
   "source": [
    "X_train.describe()"
   ]
  },
  {
   "cell_type": "code",
   "execution_count": null,
   "metadata": {},
   "outputs": [],
   "source": [
    "from sklearn.linear_model import LassoCV\n",
    "\n",
    "reg = LassoCV()\n",
    "reg.fit(X_train, y_train)\n",
    "\n",
    "print(\"Best alpha using built-in LassoCV: %f\" % reg.alpha_)\n",
    "print(\"Best score using built-in LassoCV: %f\" %reg.score(X_train,y_train))\n",
    "coef = pd.Series(reg.coef_, index = X_train.columns)\n",
    "\n",
    "\n",
    "print(\"Lasso picked \" + str(sum(coef != 0)) + \" variables and eliminated the other \" +  str(sum(coef == 0)) + \" variables\")"
   ]
  },
  {
   "cell_type": "code",
   "execution_count": null,
   "metadata": {},
   "outputs": [],
   "source": [
    "coef.sort_values()"
   ]
  },
  {
   "cell_type": "code",
   "execution_count": null,
   "metadata": {},
   "outputs": [],
   "source": [
    "import pandas as pd\n",
    "import numpy as np\n",
    "import matplotlib.pyplot as plt\n",
    "import seaborn as sns\n",
    "from sklearn.model_selection import train_test_split\n",
    "from sklearn.preprocessing import StandardScaler, MinMaxScaler\n",
    "from sklearn.metrics import mean_squared_error, r2_score, explained_variance_score\n",
    "from math import sqrt\n",
    "import warnings"
   ]
  },
  {
   "cell_type": "code",
   "execution_count": null,
   "metadata": {},
   "outputs": [],
   "source": [
    "from sklearn.linear_model import LinearRegression\n",
    "\n",
    "lm1 = LinearRegression()\n",
    "\n",
    "print(lm1)"
   ]
  },
  {
   "cell_type": "code",
   "execution_count": null,
   "metadata": {},
   "outputs": [],
   "source": [
    "lm1.fit(X_train, y_train)\n",
    "print(\"Linear Model:\", lm1)\n",
    "\n",
    "lm1_y_intercept = lm1.intercept_\n",
    "print(\"intercept: \", lm1_y_intercept)\n",
    "\n",
    "lm1_coefficients = lm1.coef_\n",
    "print(\"coefficients: \", lm1_coefficients)"
   ]
  },
  {
   "cell_type": "code",
   "execution_count": null,
   "metadata": {},
   "outputs": [],
   "source": [
    "y_pred_lm1 = lm1.predict(X_train)"
   ]
  },
  {
   "cell_type": "code",
   "execution_count": null,
   "metadata": {},
   "outputs": [],
   "source": [
    "train.describe()"
   ]
  },
  {
   "cell_type": "code",
   "execution_count": null,
   "metadata": {},
   "outputs": [],
   "source": []
  },
  {
   "cell_type": "code",
   "execution_count": null,
   "metadata": {},
   "outputs": [],
   "source": [
    "def target_cluster(y_train,X_train):\n",
    "    kmeans = KMeans(n_clusters=5)\n",
    "    kmeans.fit(y_train)\n",
    "    y_train['cluster'] = kmeans.predict(y_train)\n",
    "    train = X_train.merge(y_train,left_index=True,right_index=True)\n",
    "    return train"
   ]
  },
  {
   "cell_type": "code",
   "execution_count": null,
   "metadata": {},
   "outputs": [],
   "source": [
    "y_train['cluster'] = kmeans.predict(y_train)\n"
   ]
  },
  {
   "cell_type": "code",
   "execution_count": null,
   "metadata": {},
   "outputs": [],
   "source": [
    "train = X_train.merge(y_train,left_index=True,right_index=True)"
   ]
  },
  {
   "cell_type": "code",
   "execution_count": null,
   "metadata": {},
   "outputs": [],
   "source": [
    "train_c.head(12)"
   ]
  },
  {
   "cell_type": "code",
   "execution_count": null,
   "metadata": {},
   "outputs": [],
   "source": [
    "pd.DataFrame(.cluster_centers_, columns=train_c.columns)\\\n",
    "    .reset_index()\\\n",
    "    .rename({'index': 'cluster'}, axis=1)\\\n",
    "    .set_index('cluster')"
   ]
  },
  {
   "cell_type": "code",
   "execution_count": null,
   "metadata": {},
   "outputs": [],
   "source": [
    "train_c.groupby('cluster').mean().sort_values(by='logerror')"
   ]
  },
  {
   "cell_type": "code",
   "execution_count": null,
   "metadata": {},
   "outputs": [],
   "source": [
    "train_c.shape"
   ]
  },
  {
   "cell_type": "code",
   "execution_count": null,
   "metadata": {},
   "outputs": [],
   "source": [
    "ax = sns.swarmplot(x='cluster',y='sqft',data=train_c)"
   ]
  },
  {
   "cell_type": "code",
   "execution_count": null,
   "metadata": {},
   "outputs": [],
   "source": []
  }
 ],
 "metadata": {
  "kernelspec": {
   "display_name": "Python 3",
   "language": "python",
   "name": "python3"
  },
  "language_info": {
   "codemirror_mode": {
    "name": "ipython",
    "version": 3
   },
   "file_extension": ".py",
   "mimetype": "text/x-python",
   "name": "python",
   "nbconvert_exporter": "python",
   "pygments_lexer": "ipython3",
   "version": "3.7.3"
  }
 },
 "nbformat": 4,
 "nbformat_minor": 2
}

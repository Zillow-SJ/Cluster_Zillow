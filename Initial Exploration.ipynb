{
 "cells": [
  {
   "cell_type": "code",
   "execution_count": 1,
   "metadata": {},
   "outputs": [],
   "source": [
    "import warnings\n",
    "warnings.filterwarnings(\"ignore\")\n",
    "\n",
    "import pandas as pd\n",
    "import numpy as np\n",
    "from sklearn.preprocessing import StandardScaler, MinMaxScaler\n",
    "#import wrangle\n",
    "import env\n",
    "import seaborn as sns\n",
    "import acquire\n",
    "import prep"
   ]
  },
  {
   "cell_type": "code",
   "execution_count": 2,
   "metadata": {},
   "outputs": [],
   "source": [
    "#single family residence from zillow DB\n",
    "df = prep.prep_df()"
   ]
  },
  {
   "cell_type": "code",
   "execution_count": null,
   "metadata": {},
   "outputs": [],
   "source": [
    "df.isnull().sum().sort_values(ascending=False)"
   ]
  },
  {
   "cell_type": "code",
   "execution_count": null,
   "metadata": {},
   "outputs": [],
   "source": [
    "#drops columns with < 80% of values filled in\n",
    "df = prep.impute_values(df)\n",
    "df = prep.drop_columns(df)"
   ]
  },
  {
   "cell_type": "code",
   "execution_count": null,
   "metadata": {
    "scrolled": true
   },
   "outputs": [],
   "source": [
    "df = df.dropna(how='any')"
   ]
  },
  {
   "cell_type": "code",
   "execution_count": 3,
   "metadata": {},
   "outputs": [
    {
     "data": {
      "text/plain": [
       "0         100.0\n",
       "1         100.0\n",
       "2         100.0\n",
       "3         100.0\n",
       "4         100.0\n",
       "5         101.0\n",
       "6         100.0\n",
       "7           1.0\n",
       "8           1.0\n",
       "9           1.0\n",
       "13          1.0\n",
       "14          1.0\n",
       "15          1.0\n",
       "16          1.0\n",
       "17          1.0\n",
       "18          1.0\n",
       "19          1.0\n",
       "30       1110.0\n",
       "31       1110.0\n",
       "32       1110.0\n",
       "33       1110.0\n",
       "34       1110.0\n",
       "35       1111.0\n",
       "36       1111.0\n",
       "37       1111.0\n",
       "38       1111.0\n",
       "39       1110.0\n",
       "40       1110.0\n",
       "41       1110.0\n",
       "42       1110.0\n",
       "          ...  \n",
       "55549     100.0\n",
       "55550     100.0\n",
       "55551     100.0\n",
       "55552     100.0\n",
       "55553     100.0\n",
       "55554     101.0\n",
       "55555     101.0\n",
       "55556     100.0\n",
       "55557     100.0\n",
       "55558     100.0\n",
       "55559     100.0\n",
       "55560     100.0\n",
       "55561     100.0\n",
       "55562     100.0\n",
       "55563     100.0\n",
       "55564     100.0\n",
       "55565     100.0\n",
       "55566     100.0\n",
       "55567     101.0\n",
       "55568     100.0\n",
       "55569     100.0\n",
       "55570     100.0\n",
       "55571     101.0\n",
       "55572     101.0\n",
       "55573     100.0\n",
       "55574     100.0\n",
       "55575     100.0\n",
       "55576     100.0\n",
       "55577     100.0\n",
       "55578     100.0\n",
       "Name: propertycountylandusecode, Length: 54544, dtype: float64"
      ]
     },
     "execution_count": 3,
     "metadata": {},
     "output_type": "execute_result"
    }
   ],
   "source": [
    "test = df[(df.propertycountylandusecode != \"010G\") & ((df.propertycountylandusecode != \"010M\"))]\n",
    "\n",
    "test.propertycountylandusecode.astype(float)"
   ]
  },
  {
   "cell_type": "code",
   "execution_count": null,
   "metadata": {
    "scrolled": false
   },
   "outputs": [],
   "source": [
    "test = df[(df.propertycountylandusecode == \"010G\") | ((df.propertycountylandusecode == \"010M\"))]\n",
    "\n",
    "test.shape"
   ]
  },
  {
   "cell_type": "code",
   "execution_count": null,
   "metadata": {},
   "outputs": [],
   "source": [
    "df[['landtaxvaluedollarcnt','lotsizesquarefeet']].head()"
   ]
  },
  {
   "cell_type": "code",
   "execution_count": null,
   "metadata": {},
   "outputs": [],
   "source": [
    "df['tax_value_per_foot'] = df.landtaxvaluedollarcnt/df.lotsizesquarefeet\n",
    "df.tax_value_per_foot.mean()"
   ]
  },
  {
   "cell_type": "code",
   "execution_count": null,
   "metadata": {},
   "outputs": [],
   "source": [
    "(df.structuretaxvaluedollarcnt/df.tax_value).mean()"
   ]
  },
  {
   "cell_type": "code",
   "execution_count": 4,
   "metadata": {},
   "outputs": [
    {
     "data": {
      "text/html": [
       "<div>\n",
       "<style scoped>\n",
       "    .dataframe tbody tr th:only-of-type {\n",
       "        vertical-align: middle;\n",
       "    }\n",
       "\n",
       "    .dataframe tbody tr th {\n",
       "        vertical-align: top;\n",
       "    }\n",
       "\n",
       "    .dataframe thead th {\n",
       "        text-align: right;\n",
       "    }\n",
       "</style>\n",
       "<table border=\"1\" class=\"dataframe\">\n",
       "  <thead>\n",
       "    <tr style=\"text-align: right;\">\n",
       "      <th></th>\n",
       "      <th>0</th>\n",
       "      <th>1</th>\n",
       "      <th>2</th>\n",
       "      <th>3</th>\n",
       "      <th>4</th>\n",
       "    </tr>\n",
       "  </thead>\n",
       "  <tbody>\n",
       "    <tr>\n",
       "      <th>bathrooms</th>\n",
       "      <td>2</td>\n",
       "      <td>4</td>\n",
       "      <td>2</td>\n",
       "      <td>1</td>\n",
       "      <td>2</td>\n",
       "    </tr>\n",
       "    <tr>\n",
       "      <th>bedrooms</th>\n",
       "      <td>4</td>\n",
       "      <td>3</td>\n",
       "      <td>3</td>\n",
       "      <td>3</td>\n",
       "      <td>3</td>\n",
       "    </tr>\n",
       "    <tr>\n",
       "      <th>sqft</th>\n",
       "      <td>3633</td>\n",
       "      <td>1620</td>\n",
       "      <td>2077</td>\n",
       "      <td>1244</td>\n",
       "      <td>1300</td>\n",
       "    </tr>\n",
       "    <tr>\n",
       "      <th>tax_value</th>\n",
       "      <td>296425</td>\n",
       "      <td>847770</td>\n",
       "      <td>646760</td>\n",
       "      <td>169471</td>\n",
       "      <td>233266</td>\n",
       "    </tr>\n",
       "    <tr>\n",
       "      <th>fips</th>\n",
       "      <td>6037</td>\n",
       "      <td>6037</td>\n",
       "      <td>6037</td>\n",
       "      <td>6037</td>\n",
       "      <td>6037</td>\n",
       "    </tr>\n",
       "    <tr>\n",
       "      <th>latitude</th>\n",
       "      <td>3.456e+07</td>\n",
       "      <td>3.39962e+07</td>\n",
       "      <td>3.4013e+07</td>\n",
       "      <td>3.39536e+07</td>\n",
       "      <td>3.38971e+07</td>\n",
       "    </tr>\n",
       "    <tr>\n",
       "      <th>longitude</th>\n",
       "      <td>-1.1817e+08</td>\n",
       "      <td>-1.18438e+08</td>\n",
       "      <td>-1.18479e+08</td>\n",
       "      <td>-1.18084e+08</td>\n",
       "      <td>-1.18103e+08</td>\n",
       "    </tr>\n",
       "    <tr>\n",
       "      <th>lotsizesquarefeet</th>\n",
       "      <td>9826</td>\n",
       "      <td>12842.7</td>\n",
       "      <td>6490</td>\n",
       "      <td>6021</td>\n",
       "      <td>4917</td>\n",
       "    </tr>\n",
       "    <tr>\n",
       "      <th>propertycountylandusecode</th>\n",
       "      <td>0100</td>\n",
       "      <td>0100</td>\n",
       "      <td>0100</td>\n",
       "      <td>0100</td>\n",
       "      <td>0100</td>\n",
       "    </tr>\n",
       "    <tr>\n",
       "      <th>regionidcity</th>\n",
       "      <td>40227</td>\n",
       "      <td>12447</td>\n",
       "      <td>26964</td>\n",
       "      <td>13716</td>\n",
       "      <td>53636</td>\n",
       "    </tr>\n",
       "    <tr>\n",
       "      <th>regionidcounty</th>\n",
       "      <td>3101</td>\n",
       "      <td>3101</td>\n",
       "      <td>3101</td>\n",
       "      <td>3101</td>\n",
       "      <td>3101</td>\n",
       "    </tr>\n",
       "    <tr>\n",
       "      <th>regionidzip</th>\n",
       "      <td>97329</td>\n",
       "      <td>96047</td>\n",
       "      <td>96152</td>\n",
       "      <td>96201</td>\n",
       "      <td>96193</td>\n",
       "    </tr>\n",
       "    <tr>\n",
       "      <th>yearbuilt</th>\n",
       "      <td>2005</td>\n",
       "      <td>2011</td>\n",
       "      <td>1926</td>\n",
       "      <td>1950</td>\n",
       "      <td>1950</td>\n",
       "    </tr>\n",
       "    <tr>\n",
       "      <th>structuretaxvaluedollarcnt</th>\n",
       "      <td>222321</td>\n",
       "      <td>339532</td>\n",
       "      <td>210192</td>\n",
       "      <td>108040</td>\n",
       "      <td>77415</td>\n",
       "    </tr>\n",
       "    <tr>\n",
       "      <th>assessmentyear</th>\n",
       "      <td>2016</td>\n",
       "      <td>2016</td>\n",
       "      <td>2016</td>\n",
       "      <td>2016</td>\n",
       "      <td>2016</td>\n",
       "    </tr>\n",
       "    <tr>\n",
       "      <th>logerror</th>\n",
       "      <td>0.0424629</td>\n",
       "      <td>-0.0195456</td>\n",
       "      <td>-0.0408066</td>\n",
       "      <td>0.0424121</td>\n",
       "      <td>-0.000908077</td>\n",
       "    </tr>\n",
       "  </tbody>\n",
       "</table>\n",
       "</div>"
      ],
      "text/plain": [
       "                                     0            1            2            3  \\\n",
       "bathrooms                            2            4            2            1   \n",
       "bedrooms                             4            3            3            3   \n",
       "sqft                              3633         1620         2077         1244   \n",
       "tax_value                       296425       847770       646760       169471   \n",
       "fips                              6037         6037         6037         6037   \n",
       "latitude                     3.456e+07  3.39962e+07   3.4013e+07  3.39536e+07   \n",
       "longitude                  -1.1817e+08 -1.18438e+08 -1.18479e+08 -1.18084e+08   \n",
       "lotsizesquarefeet                 9826      12842.7         6490         6021   \n",
       "propertycountylandusecode         0100         0100         0100         0100   \n",
       "regionidcity                     40227        12447        26964        13716   \n",
       "regionidcounty                    3101         3101         3101         3101   \n",
       "regionidzip                      97329        96047        96152        96201   \n",
       "yearbuilt                         2005         2011         1926         1950   \n",
       "structuretaxvaluedollarcnt      222321       339532       210192       108040   \n",
       "assessmentyear                    2016         2016         2016         2016   \n",
       "logerror                     0.0424629   -0.0195456   -0.0408066    0.0424121   \n",
       "\n",
       "                                      4  \n",
       "bathrooms                             2  \n",
       "bedrooms                              3  \n",
       "sqft                               1300  \n",
       "tax_value                        233266  \n",
       "fips                               6037  \n",
       "latitude                    3.38971e+07  \n",
       "longitude                  -1.18103e+08  \n",
       "lotsizesquarefeet                  4917  \n",
       "propertycountylandusecode          0100  \n",
       "regionidcity                      53636  \n",
       "regionidcounty                     3101  \n",
       "regionidzip                       96193  \n",
       "yearbuilt                          1950  \n",
       "structuretaxvaluedollarcnt        77415  \n",
       "assessmentyear                     2016  \n",
       "logerror                   -0.000908077  "
      ]
     },
     "execution_count": 4,
     "metadata": {},
     "output_type": "execute_result"
    }
   ],
   "source": [
    "df.head().T"
   ]
  },
  {
   "cell_type": "code",
   "execution_count": null,
   "metadata": {},
   "outputs": [],
   "source": [
    "df.lotsizesquarefeet.head()"
   ]
  },
  {
   "cell_type": "code",
   "execution_count": null,
   "metadata": {},
   "outputs": [],
   "source": [
    "df.landtaxvaluedollarcnt /df.tax_value_per_foot.mean()"
   ]
  },
  {
   "cell_type": "code",
   "execution_count": null,
   "metadata": {},
   "outputs": [],
   "source": [
    "df_nulls_r = pd.DataFrame(df.apply(lambda x: df.shape[1] -x.count(),axis=1))\n",
    "df_nulls_r['pct_rows_missing'] = df_nulls_r[0] / df.shape[1]\n",
    "row_drops = df_nulls_r[df_nulls_r['pct_rows_missing'] >.2]\n",
    "row_drops['column_names'] = row_drops.index\n",
    "row_drops = list(row_drops.column_names)\n",
    "#df_new = df.drop(row_drops,axis=0)\n",
    "\n",
    "df_nulls_r.max()\n"
   ]
  },
  {
   "cell_type": "code",
   "execution_count": null,
   "metadata": {},
   "outputs": [],
   "source": []
  }
 ],
 "metadata": {
  "kernelspec": {
   "display_name": "Python 3",
   "language": "python",
   "name": "python3"
  },
  "language_info": {
   "codemirror_mode": {
    "name": "ipython",
    "version": 3
   },
   "file_extension": ".py",
   "mimetype": "text/x-python",
   "name": "python",
   "nbconvert_exporter": "python",
   "pygments_lexer": "ipython3",
   "version": "3.7.3"
  }
 },
 "nbformat": 4,
 "nbformat_minor": 2
}

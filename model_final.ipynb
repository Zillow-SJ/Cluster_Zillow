{
 "cells": [
  {
   "cell_type": "code",
   "execution_count": 4,
   "metadata": {},
   "outputs": [],
   "source": [
    "import warnings\n",
    "warnings.filterwarnings(\"ignore\")\n",
    "\n",
    "import pandas as pd\n",
    "import numpy as np\n",
    "import seaborn as sns\n",
    "from math import sqrt\n",
    "import pandas_profiling\n",
    "\n",
    "import env\n",
    "import acquire\n",
    "import prep\n",
    "import explore_final\n",
    "import scipy.stats as stats\n",
    "import matplotlib.pyplot as plt\n",
    "\n",
    "from sklearn.linear_model import LinearRegression\n",
    "from sklearn.model_selection import train_test_split\n",
    "from sklearn.cluster import KMeans\n",
    "import matplotlib.pyplot as plt\n",
    "from sklearn.preprocessing import StandardScaler, MinMaxScaler\n",
    "from sklearn.metrics import mean_squared_error, r2_score, explained_variance_score\n",
    "from statsmodels.formula.api import ols"
   ]
  },
  {
   "cell_type": "markdown",
   "metadata": {},
   "source": [
    "## Planning and Initial Hypothesis"
   ]
  },
  {
   "cell_type": "markdown",
   "metadata": {},
   "source": [
    "##### Initial Hypothesis: Square footage and home value extremes are leading drivers of log error.\n",
    "\n",
    "##### Goal\n",
    "\n",
    "- Improve model to be better than baseline for log error. \n",
    "- Find key drivers of log error.\n",
    "\n",
    "##### Planning\n",
    "\n",
    "Discussed possibly strong drivers of log error. Initial assumptions were tax value.\n",
    "\n",
    "Outlined rough work split between partners."
   ]
  },
  {
   "cell_type": "markdown",
   "metadata": {},
   "source": [
    "## Acquire and summarize data\n",
    "\n",
    "Initial Dataframe included single family residence homes with 40+ initial fields brought in.\n",
    "\n",
    "After reviewing the data for missing values, multicollinearity, and low correlation we dropped our data down to 14 columns and 54,000 rows. 300 values were imputed on lotsizesquarefeet with the mean in order to maintain the column."
   ]
  },
  {
   "cell_type": "code",
   "execution_count": 5,
   "metadata": {},
   "outputs": [],
   "source": [
    "#nmysql query single family residence from zillow DB\n",
    "df = prep.prep_df_initial()"
   ]
  },
  {
   "cell_type": "code",
   "execution_count": 6,
   "metadata": {},
   "outputs": [
    {
     "data": {
      "text/html": [
       "<div>\n",
       "<style scoped>\n",
       "    .dataframe tbody tr th:only-of-type {\n",
       "        vertical-align: middle;\n",
       "    }\n",
       "\n",
       "    .dataframe tbody tr th {\n",
       "        vertical-align: top;\n",
       "    }\n",
       "\n",
       "    .dataframe thead th {\n",
       "        text-align: right;\n",
       "    }\n",
       "</style>\n",
       "<table border=\"1\" class=\"dataframe\">\n",
       "  <thead>\n",
       "    <tr style=\"text-align: right;\">\n",
       "      <th></th>\n",
       "      <th>bathrooms</th>\n",
       "      <th>bedrooms</th>\n",
       "      <th>sqft</th>\n",
       "      <th>tax_value</th>\n",
       "      <th>latitude</th>\n",
       "      <th>longitude</th>\n",
       "      <th>lotsizesquarefeet</th>\n",
       "      <th>structuretaxvaluedollarcnt</th>\n",
       "      <th>logerror</th>\n",
       "    </tr>\n",
       "  </thead>\n",
       "  <tbody>\n",
       "    <tr>\n",
       "      <td>0</td>\n",
       "      <td>2.0</td>\n",
       "      <td>4.0</td>\n",
       "      <td>3633.0</td>\n",
       "      <td>296425.0</td>\n",
       "      <td>34560018.0</td>\n",
       "      <td>-118169806.0</td>\n",
       "      <td>9826.000000</td>\n",
       "      <td>222321.0</td>\n",
       "      <td>0.042463</td>\n",
       "    </tr>\n",
       "    <tr>\n",
       "      <td>1</td>\n",
       "      <td>4.0</td>\n",
       "      <td>3.0</td>\n",
       "      <td>1620.0</td>\n",
       "      <td>847770.0</td>\n",
       "      <td>33996200.0</td>\n",
       "      <td>-118438000.0</td>\n",
       "      <td>12842.749037</td>\n",
       "      <td>339532.0</td>\n",
       "      <td>-0.019546</td>\n",
       "    </tr>\n",
       "  </tbody>\n",
       "</table>\n",
       "</div>"
      ],
      "text/plain": [
       "   bathrooms  bedrooms    sqft  tax_value    latitude    longitude  \\\n",
       "0        2.0       4.0  3633.0   296425.0  34560018.0 -118169806.0   \n",
       "1        4.0       3.0  1620.0   847770.0  33996200.0 -118438000.0   \n",
       "\n",
       "   lotsizesquarefeet  structuretaxvaluedollarcnt  logerror  \n",
       "0        9826.000000                    222321.0  0.042463  \n",
       "1       12842.749037                    339532.0 -0.019546  "
      ]
     },
     "execution_count": 6,
     "metadata": {},
     "output_type": "execute_result"
    }
   ],
   "source": [
    "df.head(2)"
   ]
  },
  {
   "cell_type": "markdown",
   "metadata": {},
   "source": [
    "## Data prep and test/train split\n",
    "\n",
    "Our initial dataframe was split into 70/30 train/test adding a tax_per_sqft field. Random State 123 was used."
   ]
  },
  {
   "cell_type": "code",
   "execution_count": 7,
   "metadata": {},
   "outputs": [],
   "source": [
    "#train test split and adding a tax_per_sqft field\n",
    "train, test = prep.get_train_and_test(df)"
   ]
  },
  {
   "cell_type": "code",
   "execution_count": 8,
   "metadata": {},
   "outputs": [
    {
     "data": {
      "text/html": [
       "<div>\n",
       "<style scoped>\n",
       "    .dataframe tbody tr th:only-of-type {\n",
       "        vertical-align: middle;\n",
       "    }\n",
       "\n",
       "    .dataframe tbody tr th {\n",
       "        vertical-align: top;\n",
       "    }\n",
       "\n",
       "    .dataframe thead th {\n",
       "        text-align: right;\n",
       "    }\n",
       "</style>\n",
       "<table border=\"1\" class=\"dataframe\">\n",
       "  <thead>\n",
       "    <tr style=\"text-align: right;\">\n",
       "      <th></th>\n",
       "      <th>bathrooms</th>\n",
       "      <th>bedrooms</th>\n",
       "      <th>sqft</th>\n",
       "      <th>tax_value</th>\n",
       "      <th>latitude</th>\n",
       "      <th>longitude</th>\n",
       "      <th>lotsizesquarefeet</th>\n",
       "      <th>structuretaxvaluedollarcnt</th>\n",
       "      <th>logerror</th>\n",
       "      <th>tax_per_sqft</th>\n",
       "    </tr>\n",
       "  </thead>\n",
       "  <tbody>\n",
       "    <tr>\n",
       "      <td>45911</td>\n",
       "      <td>4.0</td>\n",
       "      <td>3.0</td>\n",
       "      <td>3400.0</td>\n",
       "      <td>1621085.0</td>\n",
       "      <td>34115399.0</td>\n",
       "      <td>-118428166.0</td>\n",
       "      <td>17050.0</td>\n",
       "      <td>324211.0</td>\n",
       "      <td>0.041261</td>\n",
       "      <td>476.789706</td>\n",
       "    </tr>\n",
       "    <tr>\n",
       "      <td>11373</td>\n",
       "      <td>3.0</td>\n",
       "      <td>4.0</td>\n",
       "      <td>2805.0</td>\n",
       "      <td>621455.0</td>\n",
       "      <td>34200510.0</td>\n",
       "      <td>-118920525.0</td>\n",
       "      <td>7067.0</td>\n",
       "      <td>372876.0</td>\n",
       "      <td>-0.409181</td>\n",
       "      <td>221.552585</td>\n",
       "    </tr>\n",
       "  </tbody>\n",
       "</table>\n",
       "</div>"
      ],
      "text/plain": [
       "       bathrooms  bedrooms    sqft  tax_value    latitude    longitude  \\\n",
       "45911        4.0       3.0  3400.0  1621085.0  34115399.0 -118428166.0   \n",
       "11373        3.0       4.0  2805.0   621455.0  34200510.0 -118920525.0   \n",
       "\n",
       "       lotsizesquarefeet  structuretaxvaluedollarcnt  logerror  tax_per_sqft  \n",
       "45911            17050.0                    324211.0  0.041261    476.789706  \n",
       "11373             7067.0                    372876.0 -0.409181    221.552585  "
      ]
     },
     "execution_count": 8,
     "metadata": {},
     "output_type": "execute_result"
    }
   ],
   "source": [
    "train.head(2)"
   ]
  },
  {
   "cell_type": "markdown",
   "metadata": {},
   "source": [
    "## Initial exploration and feature selection"
   ]
  },
  {
   "cell_type": "code",
   "execution_count": 9,
   "metadata": {},
   "outputs": [],
   "source": [
    "#adding a baseline yhat as mean of log error and residual amt based off that.\n",
    "train['mean_logerror'] = train.logerror.mean()\n",
    "train['residual'] = train['logerror']- train['mean_logerror']"
   ]
  },
  {
   "cell_type": "code",
   "execution_count": 10,
   "metadata": {},
   "outputs": [
    {
     "data": {
      "text/html": [
       "<div>\n",
       "<style scoped>\n",
       "    .dataframe tbody tr th:only-of-type {\n",
       "        vertical-align: middle;\n",
       "    }\n",
       "\n",
       "    .dataframe tbody tr th {\n",
       "        vertical-align: top;\n",
       "    }\n",
       "\n",
       "    .dataframe thead th {\n",
       "        text-align: right;\n",
       "    }\n",
       "</style>\n",
       "<table border=\"1\" class=\"dataframe\">\n",
       "  <thead>\n",
       "    <tr style=\"text-align: right;\">\n",
       "      <th></th>\n",
       "      <th>bathrooms</th>\n",
       "      <th>bedrooms</th>\n",
       "      <th>sqft</th>\n",
       "      <th>tax_value</th>\n",
       "      <th>latitude</th>\n",
       "      <th>longitude</th>\n",
       "      <th>lotsizesquarefeet</th>\n",
       "      <th>structuretaxvaluedollarcnt</th>\n",
       "      <th>logerror</th>\n",
       "      <th>tax_per_sqft</th>\n",
       "      <th>mean_logerror</th>\n",
       "      <th>residual</th>\n",
       "    </tr>\n",
       "  </thead>\n",
       "  <tbody>\n",
       "    <tr>\n",
       "      <td>45911</td>\n",
       "      <td>4.0</td>\n",
       "      <td>3.0</td>\n",
       "      <td>3400.0</td>\n",
       "      <td>1621085.0</td>\n",
       "      <td>34115399.0</td>\n",
       "      <td>-118428166.0</td>\n",
       "      <td>17050.0</td>\n",
       "      <td>324211.0</td>\n",
       "      <td>0.041261</td>\n",
       "      <td>476.789706</td>\n",
       "      <td>0.016716</td>\n",
       "      <td>0.024546</td>\n",
       "    </tr>\n",
       "    <tr>\n",
       "      <td>11373</td>\n",
       "      <td>3.0</td>\n",
       "      <td>4.0</td>\n",
       "      <td>2805.0</td>\n",
       "      <td>621455.0</td>\n",
       "      <td>34200510.0</td>\n",
       "      <td>-118920525.0</td>\n",
       "      <td>7067.0</td>\n",
       "      <td>372876.0</td>\n",
       "      <td>-0.409181</td>\n",
       "      <td>221.552585</td>\n",
       "      <td>0.016716</td>\n",
       "      <td>-0.425896</td>\n",
       "    </tr>\n",
       "  </tbody>\n",
       "</table>\n",
       "</div>"
      ],
      "text/plain": [
       "       bathrooms  bedrooms    sqft  tax_value    latitude    longitude  \\\n",
       "45911        4.0       3.0  3400.0  1621085.0  34115399.0 -118428166.0   \n",
       "11373        3.0       4.0  2805.0   621455.0  34200510.0 -118920525.0   \n",
       "\n",
       "       lotsizesquarefeet  structuretaxvaluedollarcnt  logerror  tax_per_sqft  \\\n",
       "45911            17050.0                    324211.0  0.041261    476.789706   \n",
       "11373             7067.0                    372876.0 -0.409181    221.552585   \n",
       "\n",
       "       mean_logerror  residual  \n",
       "45911       0.016716  0.024546  \n",
       "11373       0.016716 -0.425896  "
      ]
     },
     "execution_count": 10,
     "metadata": {},
     "output_type": "execute_result"
    }
   ],
   "source": [
    "train.head(2)"
   ]
  },
  {
   "cell_type": "code",
   "execution_count": 11,
   "metadata": {},
   "outputs": [
    {
     "data": {
      "image/png": "[encoded data removed]",
      "text/plain": [
       "<Figure size 864x720 with 2 Axes>"
      ]
     },
     "metadata": {
      "needs_background": "light"
     },
     "output_type": "display_data"
    }
   ],
   "source": [
    "# Heatmap of possible initial features\n",
    "plt.figure(figsize=(12,10))\n",
    "subset = df[['bathrooms','bedrooms','sqft','tax_value']]\n",
    "cor = subset.corr()\n",
    "sns.heatmap(cor,annot=True,cmap=plt.cm.Blues)\n",
    "plt.show()"
   ]
  },
  {
   "cell_type": "code",
   "execution_count": 12,
   "metadata": {},
   "outputs": [],
   "source": [
    "X_train, y_train, X_test, y_test = prep.get_baseline_train_test_split(df)"
   ]
  },
  {
   "cell_type": "code",
   "execution_count": 13,
   "metadata": {},
   "outputs": [
    {
     "data": {
      "text/html": [
       "<div>\n",
       "<style scoped>\n",
       "    .dataframe tbody tr th:only-of-type {\n",
       "        vertical-align: middle;\n",
       "    }\n",
       "\n",
       "    .dataframe tbody tr th {\n",
       "        vertical-align: top;\n",
       "    }\n",
       "\n",
       "    .dataframe thead th {\n",
       "        text-align: right;\n",
       "    }\n",
       "</style>\n",
       "<table border=\"1\" class=\"dataframe\">\n",
       "  <thead>\n",
       "    <tr style=\"text-align: right;\">\n",
       "      <th></th>\n",
       "      <th>bathrooms</th>\n",
       "      <th>bedrooms</th>\n",
       "      <th>sqft</th>\n",
       "      <th>tax_value</th>\n",
       "      <th>latitude</th>\n",
       "      <th>longitude</th>\n",
       "      <th>lotsizesquarefeet</th>\n",
       "      <th>structuretaxvaluedollarcnt</th>\n",
       "    </tr>\n",
       "  </thead>\n",
       "  <tbody>\n",
       "    <tr>\n",
       "      <td>45911</td>\n",
       "      <td>4.0</td>\n",
       "      <td>3.0</td>\n",
       "      <td>3400.0</td>\n",
       "      <td>1621085.0</td>\n",
       "      <td>34115399.0</td>\n",
       "      <td>-118428166.0</td>\n",
       "      <td>17050.0</td>\n",
       "      <td>324211.0</td>\n",
       "    </tr>\n",
       "    <tr>\n",
       "      <td>11373</td>\n",
       "      <td>3.0</td>\n",
       "      <td>4.0</td>\n",
       "      <td>2805.0</td>\n",
       "      <td>621455.0</td>\n",
       "      <td>34200510.0</td>\n",
       "      <td>-118920525.0</td>\n",
       "      <td>7067.0</td>\n",
       "      <td>372876.0</td>\n",
       "    </tr>\n",
       "  </tbody>\n",
       "</table>\n",
       "</div>"
      ],
      "text/plain": [
       "       bathrooms  bedrooms    sqft  tax_value    latitude    longitude  \\\n",
       "45911        4.0       3.0  3400.0  1621085.0  34115399.0 -118428166.0   \n",
       "11373        3.0       4.0  2805.0   621455.0  34200510.0 -118920525.0   \n",
       "\n",
       "       lotsizesquarefeet  structuretaxvaluedollarcnt  \n",
       "45911            17050.0                    324211.0  \n",
       "11373             7067.0                    372876.0  "
      ]
     },
     "execution_count": 13,
     "metadata": {},
     "output_type": "execute_result"
    }
   ],
   "source": [
    "X_train.head(2)"
   ]
  },
  {
   "cell_type": "markdown",
   "metadata": {},
   "source": [
    "## Initial Baseline Model"
   ]
  },
  {
   "cell_type": "code",
   "execution_count": 14,
   "metadata": {},
   "outputs": [
    {
     "name": "stdout",
     "output_type": "stream",
     "text": [
      "0.02860151953645495\n"
     ]
    }
   ],
   "source": [
    "baseline = mean_squared_error(train.logerror,train.mean_logerror)\n",
    "print(baseline)"
   ]
  },
  {
   "cell_type": "markdown",
   "metadata": {},
   "source": [
    "## MVP\n",
    "\n",
    "After some basic feature engineering and selection we trained the new model on just sqft and bedrooms. This model performed slightly better than our baseline."
   ]
  },
  {
   "cell_type": "code",
   "execution_count": 15,
   "metadata": {},
   "outputs": [],
   "source": [
    "#MSE of sqft and bedrooms as x variables\n",
    "x = train[['sqft','bedrooms']]\n",
    "y = train[['logerror']]\n",
    "ols_model = ols('y ~ x', data=train).fit()\n",
    "train['yhat'] = ols_model.predict(x)"
   ]
  },
  {
   "cell_type": "code",
   "execution_count": 16,
   "metadata": {},
   "outputs": [
    {
     "name": "stdout",
     "output_type": "stream",
     "text": [
      "0.028601320888745733\n"
     ]
    },
    {
     "data": {
      "text/plain": [
       "True"
      ]
     },
     "execution_count": 16,
     "metadata": {},
     "output_type": "execute_result"
    }
   ],
   "source": [
    "model1 = mean_squared_error(train.logerror,train.yhat)\n",
    "print(model1)\n",
    "model1 < baseline"
   ]
  },
  {
   "cell_type": "markdown",
   "metadata": {},
   "source": [
    "## Exploration\n",
    "\n",
    "We began our exploration by clustering on the y variable."
   ]
  },
  {
   "cell_type": "code",
   "execution_count": 17,
   "metadata": {},
   "outputs": [
    {
     "name": "stdout",
     "output_type": "stream",
     "text": [
      "   k          sse\n",
      "0  1  1112.742118\n",
      "1  2   676.526617\n",
      "2  3   480.191056\n",
      "3  4   332.522982\n",
      "4  5   249.059727\n",
      "5  6   181.793991\n",
      "6  7   138.442603\n",
      "7  8   109.108907\n",
      "8  9    89.916273\n"
     ]
    },
    {
     "data": {
      "image/png": "[encoded data removed]",
      "text/plain": [
       "<Figure size 432x288 with 1 Axes>"
      ]
     },
     "metadata": {
      "needs_background": "light"
     },
     "output_type": "display_data"
    }
   ],
   "source": [
    "y_train = pd.DataFrame(y_train)\n",
    "explore_final.elbow_plot(y_train)"
   ]
  },
  {
   "cell_type": "code",
   "execution_count": 18,
   "metadata": {},
   "outputs": [],
   "source": [
    "#Logerror clusters. Function takes y,X, and num_clusters\n",
    "train = explore_final.target_cluster(y_train,X_train,6)"
   ]
  },
  {
   "cell_type": "code",
   "execution_count": 19,
   "metadata": {
    "scrolled": true
   },
   "outputs": [
    {
     "data": {
      "text/html": [
       "<div>\n",
       "<style scoped>\n",
       "    .dataframe tbody tr th:only-of-type {\n",
       "        vertical-align: middle;\n",
       "    }\n",
       "\n",
       "    .dataframe tbody tr th {\n",
       "        vertical-align: top;\n",
       "    }\n",
       "\n",
       "    .dataframe thead th {\n",
       "        text-align: right;\n",
       "    }\n",
       "</style>\n",
       "<table border=\"1\" class=\"dataframe\">\n",
       "  <thead>\n",
       "    <tr style=\"text-align: right;\">\n",
       "      <th></th>\n",
       "      <th>bathrooms</th>\n",
       "      <th>bedrooms</th>\n",
       "      <th>sqft</th>\n",
       "      <th>tax_value</th>\n",
       "      <th>latitude</th>\n",
       "      <th>longitude</th>\n",
       "      <th>lotsizesquarefeet</th>\n",
       "      <th>structuretaxvaluedollarcnt</th>\n",
       "      <th>logerror</th>\n",
       "    </tr>\n",
       "    <tr>\n",
       "      <th>cluster</th>\n",
       "      <th></th>\n",
       "      <th></th>\n",
       "      <th></th>\n",
       "      <th></th>\n",
       "      <th></th>\n",
       "      <th></th>\n",
       "      <th></th>\n",
       "      <th></th>\n",
       "      <th></th>\n",
       "    </tr>\n",
       "  </thead>\n",
       "  <tbody>\n",
       "    <tr>\n",
       "      <td>3</td>\n",
       "      <td>2.321429</td>\n",
       "      <td>3.257143</td>\n",
       "      <td>1914.757143</td>\n",
       "      <td>526014.442857</td>\n",
       "      <td>3.400837e+07</td>\n",
       "      <td>-1.181988e+08</td>\n",
       "      <td>9661.785714</td>\n",
       "      <td>173839.628571</td>\n",
       "      <td>-1.342703</td>\n",
       "    </tr>\n",
       "    <tr>\n",
       "      <td>4</td>\n",
       "      <td>2.221580</td>\n",
       "      <td>3.294376</td>\n",
       "      <td>1849.234543</td>\n",
       "      <td>449086.332669</td>\n",
       "      <td>3.401206e+07</td>\n",
       "      <td>-1.182025e+08</td>\n",
       "      <td>9747.370848</td>\n",
       "      <td>175550.031451</td>\n",
       "      <td>-0.200052</td>\n",
       "    </tr>\n",
       "    <tr>\n",
       "      <td>0</td>\n",
       "      <td>2.254198</td>\n",
       "      <td>3.313136</td>\n",
       "      <td>1868.177417</td>\n",
       "      <td>455560.867239</td>\n",
       "      <td>3.401610e+07</td>\n",
       "      <td>-1.182080e+08</td>\n",
       "      <td>10236.831560</td>\n",
       "      <td>177814.897657</td>\n",
       "      <td>0.001617</td>\n",
       "    </tr>\n",
       "    <tr>\n",
       "      <td>5</td>\n",
       "      <td>2.252853</td>\n",
       "      <td>3.301188</td>\n",
       "      <td>1865.979967</td>\n",
       "      <td>458251.298393</td>\n",
       "      <td>3.401718e+07</td>\n",
       "      <td>-1.182040e+08</td>\n",
       "      <td>9645.372114</td>\n",
       "      <td>178685.061193</td>\n",
       "      <td>0.159751</td>\n",
       "    </tr>\n",
       "    <tr>\n",
       "      <td>2</td>\n",
       "      <td>2.265226</td>\n",
       "      <td>3.371316</td>\n",
       "      <td>1916.074656</td>\n",
       "      <td>444777.779961</td>\n",
       "      <td>3.401322e+07</td>\n",
       "      <td>-1.181832e+08</td>\n",
       "      <td>12169.161321</td>\n",
       "      <td>185846.665858</td>\n",
       "      <td>0.636107</td>\n",
       "    </tr>\n",
       "    <tr>\n",
       "      <td>1</td>\n",
       "      <td>2.308140</td>\n",
       "      <td>3.209302</td>\n",
       "      <td>1776.465116</td>\n",
       "      <td>402307.674419</td>\n",
       "      <td>3.404162e+07</td>\n",
       "      <td>-1.182328e+08</td>\n",
       "      <td>13551.971752</td>\n",
       "      <td>158912.166935</td>\n",
       "      <td>2.155776</td>\n",
       "    </tr>\n",
       "  </tbody>\n",
       "</table>\n",
       "</div>"
      ],
      "text/plain": [
       "         bathrooms  bedrooms         sqft      tax_value      latitude  \\\n",
       "cluster                                                                  \n",
       "3         2.321429  3.257143  1914.757143  526014.442857  3.400837e+07   \n",
       "4         2.221580  3.294376  1849.234543  449086.332669  3.401206e+07   \n",
       "0         2.254198  3.313136  1868.177417  455560.867239  3.401610e+07   \n",
       "5         2.252853  3.301188  1865.979967  458251.298393  3.401718e+07   \n",
       "2         2.265226  3.371316  1916.074656  444777.779961  3.401322e+07   \n",
       "1         2.308140  3.209302  1776.465116  402307.674419  3.404162e+07   \n",
       "\n",
       "            longitude  lotsizesquarefeet  structuretaxvaluedollarcnt  logerror  \n",
       "cluster                                                                         \n",
       "3       -1.181988e+08        9661.785714               173839.628571 -1.342703  \n",
       "4       -1.182025e+08        9747.370848               175550.031451 -0.200052  \n",
       "0       -1.182080e+08       10236.831560               177814.897657  0.001617  \n",
       "5       -1.182040e+08        9645.372114               178685.061193  0.159751  \n",
       "2       -1.181832e+08       12169.161321               185846.665858  0.636107  \n",
       "1       -1.182328e+08       13551.971752               158912.166935  2.155776  "
      ]
     },
     "execution_count": 19,
     "metadata": {},
     "output_type": "execute_result"
    }
   ],
   "source": [
    "train.groupby('cluster').mean().sort_values(by='logerror')"
   ]
  },
  {
   "cell_type": "markdown",
   "metadata": {},
   "source": [
    "### Target clustering\n",
    "\n",
    "The crosstab above shows the clusters sorted by lowest average log error to highest. The summary data shows that the largest/most expensive, and smallest/least expensive houses had the largest absolute value logerrors.\n",
    "\n",
    "Unfortunately...this was due to our clusters being very disproportionate in size.\n",
    "\n",
    "This outcome still gave us valuable insight that the logerror was less accurate the further it moved from the median price/sqft."
   ]
  },
  {
   "cell_type": "code",
   "execution_count": 20,
   "metadata": {},
   "outputs": [
    {
     "data": {
      "text/plain": [
       "0    31440\n",
       "5     4293\n",
       "4     2507\n",
       "2      509\n",
       "1       86\n",
       "3       70\n",
       "Name: cluster, dtype: int64"
      ]
     },
     "execution_count": 20,
     "metadata": {},
     "output_type": "execute_result"
    }
   ],
   "source": [
    "train.cluster.value_counts()"
   ]
  },
  {
   "cell_type": "markdown",
   "metadata": {},
   "source": [
    "### Variable clustering\n",
    "\n",
    "After exploring bedrooms and bathrooms differences with ttests we discovered they were not providing value and were dropped. \n",
    "\n",
    "The decision was also made to drop region based location variables (city, zipcode, etc) from this model in order to isolate only on features related to the houses specfically. "
   ]
  },
  {
   "cell_type": "code",
   "execution_count": 21,
   "metadata": {},
   "outputs": [],
   "source": [
    "#updated dataframe to only include final x variables\n",
    "df = prep.prep_df()\n",
    "df = df.drop(columns=['latitude','longitude'])"
   ]
  },
  {
   "cell_type": "markdown",
   "metadata": {},
   "source": [
    "df.head(2).T"
   ]
  },
  {
   "cell_type": "code",
   "execution_count": 22,
   "metadata": {},
   "outputs": [],
   "source": [
    "train, test = prep.get_train_and_test(df)\n",
    "train = train.drop(columns='tax_value')\n",
    "test = test.drop(columns='tax_value')\n",
    "X_train, y_train, X_test, y_test = prep.get_train_test_split(train, test)"
   ]
  },
  {
   "cell_type": "code",
   "execution_count": 23,
   "metadata": {},
   "outputs": [
    {
     "data": {
      "text/html": [
       "<div>\n",
       "<style scoped>\n",
       "    .dataframe tbody tr th:only-of-type {\n",
       "        vertical-align: middle;\n",
       "    }\n",
       "\n",
       "    .dataframe tbody tr th {\n",
       "        vertical-align: top;\n",
       "    }\n",
       "\n",
       "    .dataframe thead th {\n",
       "        text-align: right;\n",
       "    }\n",
       "</style>\n",
       "<table border=\"1\" class=\"dataframe\">\n",
       "  <thead>\n",
       "    <tr style=\"text-align: right;\">\n",
       "      <th></th>\n",
       "      <th>sqft</th>\n",
       "      <th>lotsizesquarefeet</th>\n",
       "      <th>structuretaxvaluedollarcnt</th>\n",
       "      <th>tax_per_sqft</th>\n",
       "    </tr>\n",
       "  </thead>\n",
       "  <tbody>\n",
       "    <tr>\n",
       "      <td>45911</td>\n",
       "      <td>3400.0</td>\n",
       "      <td>17050.0</td>\n",
       "      <td>324211.0</td>\n",
       "      <td>476.789706</td>\n",
       "    </tr>\n",
       "    <tr>\n",
       "      <td>11373</td>\n",
       "      <td>2805.0</td>\n",
       "      <td>7067.0</td>\n",
       "      <td>372876.0</td>\n",
       "      <td>221.552585</td>\n",
       "    </tr>\n",
       "  </tbody>\n",
       "</table>\n",
       "</div>"
      ],
      "text/plain": [
       "         sqft  lotsizesquarefeet  structuretaxvaluedollarcnt  tax_per_sqft\n",
       "45911  3400.0            17050.0                    324211.0    476.789706\n",
       "11373  2805.0             7067.0                    372876.0    221.552585"
      ]
     },
     "execution_count": 23,
     "metadata": {},
     "output_type": "execute_result"
    }
   ],
   "source": [
    "X_train.head(2)"
   ]
  },
  {
   "cell_type": "code",
   "execution_count": 24,
   "metadata": {
    "scrolled": false
   },
   "outputs": [
    {
     "name": "stdout",
     "output_type": "stream",
     "text": [
      "   k           sse\n",
      "0  1  2.195648e+15\n",
      "1  2  1.242823e+15\n",
      "2  3  7.435168e+14\n",
      "3  4  4.972920e+14\n",
      "4  5  3.724151e+14\n",
      "5  6  2.752070e+14\n",
      "6  7  2.143372e+14\n",
      "7  8  1.675892e+14\n",
      "8  9  1.337725e+14\n"
     ]
    },
    {
     "data": {
      "image/png": "[encoded data removed]",
      "text/plain": [
       "<Figure size 432x288 with 1 Axes>"
      ]
     },
     "metadata": {
      "needs_background": "light"
     },
     "output_type": "display_data"
    }
   ],
   "source": [
    "explore_final.elbow_plot(X_train)"
   ]
  },
  {
   "cell_type": "code",
   "execution_count": 25,
   "metadata": {},
   "outputs": [],
   "source": [
    "X_train, X_test, kmeans = explore_final.x_cluster(X_train,X_test,6)"
   ]
  },
  {
   "cell_type": "code",
   "execution_count": 26,
   "metadata": {},
   "outputs": [
    {
     "data": {
      "text/plain": [
       "0    26164\n",
       "4    10280\n",
       "1     2042\n",
       "3      363\n",
       "2       51\n",
       "5        5\n",
       "Name: x_cluster, dtype: int64"
      ]
     },
     "execution_count": 26,
     "metadata": {},
     "output_type": "execute_result"
    }
   ],
   "source": [
    "X_train.x_cluster.value_counts()"
   ]
  },
  {
   "cell_type": "code",
   "execution_count": 27,
   "metadata": {},
   "outputs": [],
   "source": [
    "#updated model with x_cluster as variable, only use 4 largest clusters- Jeff"
   ]
  },
  {
   "cell_type": "markdown",
   "metadata": {},
   "source": [
    "### Visualizing Distribution\n",
    "During exploration we had noticed that the distribution of data between our train and test was not aligned and therefore would not propery train and test future models. In order to solve this issue we decided by using a stratified sampeling technique."
   ]
  },
  {
   "cell_type": "code",
   "execution_count": 28,
   "metadata": {},
   "outputs": [
    {
     "data": {
      "image/png": "[encoded data removed]",
      "text/plain": [
       "<Figure size 432x288 with 1 Axes>"
      ]
     },
     "metadata": {
      "needs_background": "light"
     },
     "output_type": "display_data"
    },
    {
     "data": {
      "image/png": "[encoded data removed]",
      "text/plain": [
       "<Figure size 432x288 with 1 Axes>"
      ]
     },
     "metadata": {
      "needs_background": "light"
     },
     "output_type": "display_data"
    }
   ],
   "source": [
    "x,y = explore_final.bad_dist()"
   ]
  },
  {
   "cell_type": "markdown",
   "metadata": {},
   "source": [
    "### Stratified model"
   ]
  },
  {
   "cell_type": "code",
   "execution_count": 29,
   "metadata": {},
   "outputs": [
    {
     "data": {
      "image/png": "[encoded data removed]",
      "text/plain": [
       "<Figure size 432x288 with 1 Axes>"
      ]
     },
     "metadata": {
      "needs_background": "light"
     },
     "output_type": "display_data"
    },
    {
     "data": {
      "image/png": "[encoded data removed]",
      "text/plain": [
       "<Figure size 432x288 with 1 Axes>"
      ]
     },
     "metadata": {
      "needs_background": "light"
     },
     "output_type": "display_data"
    }
   ],
   "source": [
    "a,b = explore_final.strat()"
   ]
  },
  {
   "cell_type": "markdown",
   "metadata": {},
   "source": [
    "### Stratification process\n",
    "Split log error into groups by decimal, then used the stratify option on the train and test split to stratify data. "
   ]
  },
  {
   "cell_type": "markdown",
   "metadata": {},
   "source": [
    "### Final Feature - Engineering\n",
    "We decided to take a look at the extremes of the log errors, as we expected to see features that were affected by inaccurate log error to be more apparent at said extremes. As a result we were able to drop the bathroom, bedroom, latitude, and longitude features, while also consolidating the square feet and tax value features into a price per square feet feature. "
   ]
  },
  {
   "cell_type": "code",
   "execution_count": 30,
   "metadata": {},
   "outputs": [
    {
     "data": {
      "text/html": [
       "<div>\n",
       "<style scoped>\n",
       "    .dataframe tbody tr th:only-of-type {\n",
       "        vertical-align: middle;\n",
       "    }\n",
       "\n",
       "    .dataframe tbody tr th {\n",
       "        vertical-align: top;\n",
       "    }\n",
       "\n",
       "    .dataframe thead th {\n",
       "        text-align: right;\n",
       "    }\n",
       "</style>\n",
       "<table border=\"1\" class=\"dataframe\">\n",
       "  <thead>\n",
       "    <tr style=\"text-align: right;\">\n",
       "      <th></th>\n",
       "      <th>bathrooms</th>\n",
       "      <th>bedrooms</th>\n",
       "      <th>sqft</th>\n",
       "      <th>tax_value</th>\n",
       "      <th>latitude</th>\n",
       "      <th>longitude</th>\n",
       "      <th>lotsizesquarefeet</th>\n",
       "      <th>structuretaxvaluedollarcnt</th>\n",
       "      <th>logerror</th>\n",
       "      <th>price_sqft</th>\n",
       "    </tr>\n",
       "  </thead>\n",
       "  <tbody>\n",
       "    <tr>\n",
       "      <td>logerrors&lt;1</td>\n",
       "      <td>2.240602</td>\n",
       "      <td>3.203008</td>\n",
       "      <td>1759.398496</td>\n",
       "      <td>399364.142857</td>\n",
       "      <td>3.403817e+07</td>\n",
       "      <td>-1.182078e+08</td>\n",
       "      <td>11421.244892</td>\n",
       "      <td>156248.701928</td>\n",
       "      <td>1.798907</td>\n",
       "      <td>226.989021</td>\n",
       "    </tr>\n",
       "    <tr>\n",
       "      <td>logerrors~0</td>\n",
       "      <td>2.252333</td>\n",
       "      <td>3.311040</td>\n",
       "      <td>1867.222002</td>\n",
       "      <td>455308.502429</td>\n",
       "      <td>3.401596e+07</td>\n",
       "      <td>-1.182069e+08</td>\n",
       "      <td>10171.600646</td>\n",
       "      <td>177821.114308</td>\n",
       "      <td>0.016716</td>\n",
       "      <td>243.842726</td>\n",
       "    </tr>\n",
       "    <tr>\n",
       "      <td>logerrors&gt;1</td>\n",
       "      <td>2.229730</td>\n",
       "      <td>3.027027</td>\n",
       "      <td>1878.243243</td>\n",
       "      <td>486917.594595</td>\n",
       "      <td>3.402754e+07</td>\n",
       "      <td>-1.182506e+08</td>\n",
       "      <td>11594.702703</td>\n",
       "      <td>164870.540541</td>\n",
       "      <td>-1.748483</td>\n",
       "      <td>259.240967</td>\n",
       "    </tr>\n",
       "  </tbody>\n",
       "</table>\n",
       "</div>"
      ],
      "text/plain": [
       "             bathrooms  bedrooms         sqft      tax_value      latitude  \\\n",
       "logerrors<1   2.240602  3.203008  1759.398496  399364.142857  3.403817e+07   \n",
       "logerrors~0   2.252333  3.311040  1867.222002  455308.502429  3.401596e+07   \n",
       "logerrors>1   2.229730  3.027027  1878.243243  486917.594595  3.402754e+07   \n",
       "\n",
       "                longitude  lotsizesquarefeet  structuretaxvaluedollarcnt  \\\n",
       "logerrors<1 -1.182078e+08       11421.244892               156248.701928   \n",
       "logerrors~0 -1.182069e+08       10171.600646               177821.114308   \n",
       "logerrors>1 -1.182506e+08       11594.702703               164870.540541   \n",
       "\n",
       "             logerror  price_sqft  \n",
       "logerrors<1  1.798907  226.989021  \n",
       "logerrors~0  0.016716  243.842726  \n",
       "logerrors>1 -1.748483  259.240967  "
      ]
     },
     "execution_count": 30,
     "metadata": {},
     "output_type": "execute_result"
    }
   ],
   "source": [
    "explore_final.logerror_outliers()"
   ]
  },
  {
   "cell_type": "markdown",
   "metadata": {},
   "source": [
    "## Final Model"
   ]
  },
  {
   "cell_type": "code",
   "execution_count": 31,
   "metadata": {},
   "outputs": [
    {
     "name": "stdout",
     "output_type": "stream",
     "text": [
      "MSE on Train:0.0009164633235822899, MSE on Test 0.0009647451923879208\n"
     ]
    },
    {
     "data": {
      "image/png": "[encoded data removed]",
      "text/plain": [
       "<Figure size 360x216 with 1 Axes>"
      ]
     },
     "metadata": {
      "needs_background": "light"
     },
     "output_type": "display_data"
    },
    {
     "data": {
      "image/png": "[encoded data removed]",
      "text/plain": [
       "<Figure size 360x216 with 1 Axes>"
      ]
     },
     "metadata": {
      "needs_background": "light"
     },
     "output_type": "display_data"
    }
   ],
   "source": [
    "explore_final.final_model()"
   ]
  },
  {
   "cell_type": "markdown",
   "metadata": {},
   "source": [
    "### Takeaways and conclusions\n",
    "\n",
    "- Hypothesis conclusion was somewhat unclear. Our derived field of price per sqft was a much better indicator of log error.\n",
    "\n",
    "- Bedrooms and sqft regression performed slightly better than baseline\n",
    "\n",
    "- Determined test/train split was not normally distributed on log error. Need to add stratification possibly to address issue.\n",
    "\n",
    "- Key drivers of log error were price per sqft and tax value. The outliers are driving higher log error. \n",
    "\n",
    "- Bedrooms were used to produce the MVP but were ultimately determined to be not a large driving factor of log error.\n"
   ]
  }
 ],
 "metadata": {
  "kernelspec": {
   "display_name": "Python 3",
   "language": "python",
   "name": "python3"
  },
  "language_info": {
   "codemirror_mode": {
    "name": "ipython",
    "version": 3
   },
   "file_extension": ".py",
   "mimetype": "text/x-python",
   "name": "python",
   "nbconvert_exporter": "python",
   "pygments_lexer": "ipython3",
   "version": "3.7.4"
  }
 },
 "nbformat": 4,
 "nbformat_minor": 2
}

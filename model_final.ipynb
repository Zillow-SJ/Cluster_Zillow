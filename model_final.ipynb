{
 "cells": [
  {
   "cell_type": "code",
   "execution_count": 20,
   "metadata": {},
   "outputs": [],
   "source": [
    "import warnings\n",
    "warnings.filterwarnings(\"ignore\")\n",
    "\n",
    "import pandas as pd\n",
    "import numpy as np\n",
    "import seaborn as sns\n",
    "from math import sqrt\n",
    "import pandas_profiling\n",
    "\n",
    "import env\n",
    "import acquire\n",
    "import prep\n",
    "import explore_final\n",
    "import scipy.stats as stats\n",
    "import matplotlib.pyplot as plt\n",
    "\n",
    "from sklearn.linear_model import LinearRegression\n",
    "from sklearn.model_selection import train_test_split\n",
    "from sklearn.cluster import KMeans\n",
    "import matplotlib.pyplot as plt\n",
    "from sklearn.preprocessing import StandardScaler, MinMaxScaler\n",
    "from sklearn.metrics import mean_squared_error, r2_score, explained_variance_score\n",
    "from statsmodels.formula.api import ols"
   ]
  },
  {
   "cell_type": "markdown",
   "metadata": {},
   "source": [
    "## Initial Hypothesis"
   ]
  },
  {
   "cell_type": "markdown",
   "metadata": {},
   "source": [
    "Square footage and home value extremes are leading drivers of log error."
   ]
  },
  {
   "cell_type": "markdown",
   "metadata": {},
   "source": [
    "## Acquire and summarize data\n",
    "\n",
    "Initial Dataframe included single family residence homes with 40+ initial fields brought in.\n",
    "\n",
    "After reviewing the data for missing values, multicollinearity, and low correlation we dropped our data down to 14 columns and 54,000 rows. 300 values were imputed on lotsizesquarefeet with the mean in order to maintain the column."
   ]
  },
  {
   "cell_type": "code",
   "execution_count": 21,
   "metadata": {},
   "outputs": [],
   "source": [
    "#nmysql query single family residence from zillow DB\n",
    "df = prep.prep_df()"
   ]
  },
  {
   "cell_type": "code",
   "execution_count": 22,
   "metadata": {},
   "outputs": [
    {
     "data": {
      "text/plain": [
       "(55553, 10)"
      ]
     },
     "execution_count": 22,
     "metadata": {},
     "output_type": "execute_result"
    }
   ],
   "source": [
    "df.shape"
   ]
  },
  {
   "cell_type": "code",
   "execution_count": 23,
   "metadata": {},
   "outputs": [
    {
     "name": "stdout",
     "output_type": "stream",
     "text": [
      "55313\n",
      "55292\n",
      "54850\n",
      "53650\n",
      "50432\n",
      "50432\n",
      "49789\n",
      "48054\n"
     ]
    }
   ],
   "source": [
    "#testing removing outliers 3 times the IQR\n",
    "df = prep.remove_outliers_iqr(df,['bathrooms', 'bedrooms', 'sqft', 'tax_value', 'lotsizesquarefeet','yearbuilt', 'structuretaxvaluedollarcnt', 'logerror'])"
   ]
  },
  {
   "cell_type": "markdown",
   "metadata": {},
   "source": [
    "## Data prep and test/train split\n",
    "\n",
    "Our initial dataframe was split into 70/30 train/test adding a tax_per_sqft field. Random State 123 was used."
   ]
  },
  {
   "cell_type": "code",
   "execution_count": 24,
   "metadata": {},
   "outputs": [],
   "source": [
    "#train test split and adding a tax_per_sqft field\n",
    "train, test = prep.get_train_and_test(df)"
   ]
  },
  {
   "cell_type": "code",
   "execution_count": 25,
   "metadata": {},
   "outputs": [
    {
     "data": {
      "text/html": [
       "<div>\n",
       "<style scoped>\n",
       "    .dataframe tbody tr th:only-of-type {\n",
       "        vertical-align: middle;\n",
       "    }\n",
       "\n",
       "    .dataframe tbody tr th {\n",
       "        vertical-align: top;\n",
       "    }\n",
       "\n",
       "    .dataframe thead th {\n",
       "        text-align: right;\n",
       "    }\n",
       "</style>\n",
       "<table border=\"1\" class=\"dataframe\">\n",
       "  <thead>\n",
       "    <tr style=\"text-align: right;\">\n",
       "      <th></th>\n",
       "      <th>bathrooms</th>\n",
       "      <th>bedrooms</th>\n",
       "      <th>sqft</th>\n",
       "      <th>tax_value</th>\n",
       "      <th>latitude</th>\n",
       "      <th>longitude</th>\n",
       "      <th>lotsizesquarefeet</th>\n",
       "      <th>yearbuilt</th>\n",
       "      <th>structuretaxvaluedollarcnt</th>\n",
       "      <th>logerror</th>\n",
       "      <th>tax_per_sqft</th>\n",
       "    </tr>\n",
       "  </thead>\n",
       "  <tbody>\n",
       "    <tr>\n",
       "      <th>50827</th>\n",
       "      <td>2.0</td>\n",
       "      <td>3.0</td>\n",
       "      <td>1724.0</td>\n",
       "      <td>122538.0</td>\n",
       "      <td>33812747.0</td>\n",
       "      <td>-117956786.0</td>\n",
       "      <td>6000.0</td>\n",
       "      <td>1968.0</td>\n",
       "      <td>85967.0</td>\n",
       "      <td>-0.002243</td>\n",
       "      <td>71.077726</td>\n",
       "    </tr>\n",
       "    <tr>\n",
       "      <th>17912</th>\n",
       "      <td>2.0</td>\n",
       "      <td>3.0</td>\n",
       "      <td>1634.0</td>\n",
       "      <td>177026.0</td>\n",
       "      <td>34122763.0</td>\n",
       "      <td>-117783893.0</td>\n",
       "      <td>9842.0</td>\n",
       "      <td>1976.0</td>\n",
       "      <td>135565.0</td>\n",
       "      <td>0.010858</td>\n",
       "      <td>108.339045</td>\n",
       "    </tr>\n",
       "  </tbody>\n",
       "</table>\n",
       "</div>"
      ],
      "text/plain": [
       "       bathrooms  bedrooms    sqft  tax_value    latitude    longitude  \\\n",
       "50827        2.0       3.0  1724.0   122538.0  33812747.0 -117956786.0   \n",
       "17912        2.0       3.0  1634.0   177026.0  34122763.0 -117783893.0   \n",
       "\n",
       "       lotsizesquarefeet  yearbuilt  structuretaxvaluedollarcnt  logerror  \\\n",
       "50827             6000.0     1968.0                     85967.0 -0.002243   \n",
       "17912             9842.0     1976.0                    135565.0  0.010858   \n",
       "\n",
       "       tax_per_sqft  \n",
       "50827     71.077726  \n",
       "17912    108.339045  "
      ]
     },
     "execution_count": 25,
     "metadata": {},
     "output_type": "execute_result"
    }
   ],
   "source": [
    "train.head(2)"
   ]
  },
  {
   "cell_type": "code",
   "execution_count": null,
   "metadata": {},
   "outputs": [],
   "source": []
  },
  {
   "cell_type": "code",
   "execution_count": 26,
   "metadata": {},
   "outputs": [],
   "source": [
    "X_train, y_train, X_test, y_test = prep.get_baseline_train_test_split(df)"
   ]
  },
  {
   "cell_type": "code",
   "execution_count": 27,
   "metadata": {},
   "outputs": [
    {
     "data": {
      "text/html": [
       "<div>\n",
       "<style scoped>\n",
       "    .dataframe tbody tr th:only-of-type {\n",
       "        vertical-align: middle;\n",
       "    }\n",
       "\n",
       "    .dataframe tbody tr th {\n",
       "        vertical-align: top;\n",
       "    }\n",
       "\n",
       "    .dataframe thead th {\n",
       "        text-align: right;\n",
       "    }\n",
       "</style>\n",
       "<table border=\"1\" class=\"dataframe\">\n",
       "  <thead>\n",
       "    <tr style=\"text-align: right;\">\n",
       "      <th></th>\n",
       "      <th>bathrooms</th>\n",
       "      <th>bedrooms</th>\n",
       "      <th>sqft</th>\n",
       "      <th>tax_value</th>\n",
       "      <th>lotsizesquarefeet</th>\n",
       "      <th>yearbuilt</th>\n",
       "      <th>structuretaxvaluedollarcnt</th>\n",
       "    </tr>\n",
       "  </thead>\n",
       "  <tbody>\n",
       "    <tr>\n",
       "      <th>50827</th>\n",
       "      <td>2.0</td>\n",
       "      <td>3.0</td>\n",
       "      <td>1724.0</td>\n",
       "      <td>122538.0</td>\n",
       "      <td>6000.0</td>\n",
       "      <td>1968.0</td>\n",
       "      <td>85967.0</td>\n",
       "    </tr>\n",
       "    <tr>\n",
       "      <th>17912</th>\n",
       "      <td>2.0</td>\n",
       "      <td>3.0</td>\n",
       "      <td>1634.0</td>\n",
       "      <td>177026.0</td>\n",
       "      <td>9842.0</td>\n",
       "      <td>1976.0</td>\n",
       "      <td>135565.0</td>\n",
       "    </tr>\n",
       "  </tbody>\n",
       "</table>\n",
       "</div>"
      ],
      "text/plain": [
       "       bathrooms  bedrooms    sqft  tax_value  lotsizesquarefeet  yearbuilt  \\\n",
       "50827        2.0       3.0  1724.0   122538.0             6000.0     1968.0   \n",
       "17912        2.0       3.0  1634.0   177026.0             9842.0     1976.0   \n",
       "\n",
       "       structuretaxvaluedollarcnt  \n",
       "50827                     85967.0  \n",
       "17912                    135565.0  "
      ]
     },
     "execution_count": 27,
     "metadata": {},
     "output_type": "execute_result"
    }
   ],
   "source": [
    "X_train.head(2)"
   ]
  },
  {
   "cell_type": "markdown",
   "metadata": {},
   "source": [
    "## Initial exploration and feature selection"
   ]
  },
  {
   "cell_type": "code",
   "execution_count": 28,
   "metadata": {},
   "outputs": [],
   "source": [
    "#adding a baseline yhat as mean of log error and residual amt based off that.\n",
    "train['mean_logerror'] = train.logerror.mean()\n",
    "train['residual'] = train['logerror']- train['mean_logerror']"
   ]
  },
  {
   "cell_type": "code",
   "execution_count": 29,
   "metadata": {},
   "outputs": [
    {
     "data": {
      "text/html": [
       "<div>\n",
       "<style scoped>\n",
       "    .dataframe tbody tr th:only-of-type {\n",
       "        vertical-align: middle;\n",
       "    }\n",
       "\n",
       "    .dataframe tbody tr th {\n",
       "        vertical-align: top;\n",
       "    }\n",
       "\n",
       "    .dataframe thead th {\n",
       "        text-align: right;\n",
       "    }\n",
       "</style>\n",
       "<table border=\"1\" class=\"dataframe\">\n",
       "  <thead>\n",
       "    <tr style=\"text-align: right;\">\n",
       "      <th></th>\n",
       "      <th>bathrooms</th>\n",
       "      <th>bedrooms</th>\n",
       "      <th>sqft</th>\n",
       "      <th>tax_value</th>\n",
       "      <th>latitude</th>\n",
       "      <th>longitude</th>\n",
       "      <th>lotsizesquarefeet</th>\n",
       "      <th>yearbuilt</th>\n",
       "      <th>structuretaxvaluedollarcnt</th>\n",
       "      <th>logerror</th>\n",
       "      <th>tax_per_sqft</th>\n",
       "      <th>mean_logerror</th>\n",
       "      <th>residual</th>\n",
       "    </tr>\n",
       "  </thead>\n",
       "  <tbody>\n",
       "    <tr>\n",
       "      <th>50827</th>\n",
       "      <td>2.0</td>\n",
       "      <td>3.0</td>\n",
       "      <td>1724.0</td>\n",
       "      <td>122538.0</td>\n",
       "      <td>33812747.0</td>\n",
       "      <td>-117956786.0</td>\n",
       "      <td>6000.0</td>\n",
       "      <td>1968.0</td>\n",
       "      <td>85967.0</td>\n",
       "      <td>-0.002243</td>\n",
       "      <td>71.077726</td>\n",
       "      <td>0.007046</td>\n",
       "      <td>-0.009289</td>\n",
       "    </tr>\n",
       "    <tr>\n",
       "      <th>17912</th>\n",
       "      <td>2.0</td>\n",
       "      <td>3.0</td>\n",
       "      <td>1634.0</td>\n",
       "      <td>177026.0</td>\n",
       "      <td>34122763.0</td>\n",
       "      <td>-117783893.0</td>\n",
       "      <td>9842.0</td>\n",
       "      <td>1976.0</td>\n",
       "      <td>135565.0</td>\n",
       "      <td>0.010858</td>\n",
       "      <td>108.339045</td>\n",
       "      <td>0.007046</td>\n",
       "      <td>0.003812</td>\n",
       "    </tr>\n",
       "  </tbody>\n",
       "</table>\n",
       "</div>"
      ],
      "text/plain": [
       "       bathrooms  bedrooms    sqft  tax_value    latitude    longitude  \\\n",
       "50827        2.0       3.0  1724.0   122538.0  33812747.0 -117956786.0   \n",
       "17912        2.0       3.0  1634.0   177026.0  34122763.0 -117783893.0   \n",
       "\n",
       "       lotsizesquarefeet  yearbuilt  structuretaxvaluedollarcnt  logerror  \\\n",
       "50827             6000.0     1968.0                     85967.0 -0.002243   \n",
       "17912             9842.0     1976.0                    135565.0  0.010858   \n",
       "\n",
       "       tax_per_sqft  mean_logerror  residual  \n",
       "50827     71.077726       0.007046 -0.009289  \n",
       "17912    108.339045       0.007046  0.003812  "
      ]
     },
     "execution_count": 29,
     "metadata": {},
     "output_type": "execute_result"
    }
   ],
   "source": [
    "train.head(2)"
   ]
  },
  {
   "cell_type": "code",
   "execution_count": 30,
   "metadata": {},
   "outputs": [
    {
     "data": {
      "image/png": "[encoded data removed]",
      "text/plain": [
       "<Figure size 864x720 with 2 Axes>"
      ]
     },
     "metadata": {
      "needs_background": "light"
     },
     "output_type": "display_data"
    }
   ],
   "source": [
    "# Heatmap of possible initial features\n",
    "plt.figure(figsize=(12,10))\n",
    "subset = train[['bathrooms','bedrooms','sqft','tax_value','logerror']]\n",
    "cor = subset.corr()\n",
    "sns.heatmap(cor,annot=True,cmap=plt.cm.Blues)\n",
    "plt.show()"
   ]
  },
  {
   "cell_type": "markdown",
   "metadata": {},
   "source": [
    "## Initial Baseline score"
   ]
  },
  {
   "cell_type": "code",
   "execution_count": 31,
   "metadata": {},
   "outputs": [
    {
     "name": "stdout",
     "output_type": "stream",
     "text": [
      "0.00394287772334053\n"
     ]
    }
   ],
   "source": [
    "baseline = mean_squared_error(train.logerror,train.mean_logerror)\n",
    "print(baseline)"
   ]
  },
  {
   "cell_type": "markdown",
   "metadata": {},
   "source": [
    "## MVP\n",
    "\n",
    "After some basic feature engineering and selection we trained the new model on just sqft and bedrooms. This model performed slightly better than our baseline."
   ]
  },
  {
   "cell_type": "code",
   "execution_count": 32,
   "metadata": {},
   "outputs": [],
   "source": [
    "#MSE of sqft and bedrooms as x variables\n",
    "x = train[['sqft','bedrooms']]\n",
    "y = train[['logerror']]\n",
    "ols_model = ols('y ~ x', data=train).fit()\n",
    "train['yhat'] = ols_model.predict(x)"
   ]
  },
  {
   "cell_type": "code",
   "execution_count": 33,
   "metadata": {},
   "outputs": [
    {
     "name": "stdout",
     "output_type": "stream",
     "text": [
      "0.003942840226501951\n"
     ]
    },
    {
     "data": {
      "text/plain": [
       "True"
      ]
     },
     "execution_count": 33,
     "metadata": {},
     "output_type": "execute_result"
    }
   ],
   "source": [
    "model1 = mean_squared_error(train.logerror,train.yhat)\n",
    "print(model1)\n",
    "model1 < baseline"
   ]
  },
  {
   "cell_type": "markdown",
   "metadata": {},
   "source": [
    "## Exploration\n",
    "\n",
    "We began our exploration by clustering on the y variable."
   ]
  },
  {
   "cell_type": "code",
   "execution_count": 34,
   "metadata": {},
   "outputs": [
    {
     "name": "stdout",
     "output_type": "stream",
     "text": [
      "   k         sse\n",
      "0  1  129.775877\n",
      "1  2   64.972226\n",
      "2  3   32.588346\n",
      "3  4   19.426789\n",
      "4  5   12.759536\n",
      "5  6    9.131377\n",
      "6  7    6.768690\n",
      "7  8    5.165860\n",
      "8  9    4.098599\n"
     ]
    },
    {
     "data": {
      "image/png": "[encoded data removed]",
      "text/plain": [
       "<Figure size 432x288 with 1 Axes>"
      ]
     },
     "metadata": {
      "needs_background": "light"
     },
     "output_type": "display_data"
    }
   ],
   "source": [
    "explore_final.elbow_plot(y_train)"
   ]
  },
  {
   "cell_type": "code",
   "execution_count": 35,
   "metadata": {},
   "outputs": [],
   "source": [
    "#Clustered by logerror. function takes in y_train,X_train, and num_clusters\n",
    "train = explore_final.target_cluster(y_train,X_train,6)"
   ]
  },
  {
   "cell_type": "code",
   "execution_count": 36,
   "metadata": {},
   "outputs": [
    {
     "data": {
      "text/html": [
       "<div>\n",
       "<style scoped>\n",
       "    .dataframe tbody tr th:only-of-type {\n",
       "        vertical-align: middle;\n",
       "    }\n",
       "\n",
       "    .dataframe tbody tr th {\n",
       "        vertical-align: top;\n",
       "    }\n",
       "\n",
       "    .dataframe thead th {\n",
       "        text-align: right;\n",
       "    }\n",
       "</style>\n",
       "<table border=\"1\" class=\"dataframe\">\n",
       "  <thead>\n",
       "    <tr style=\"text-align: right;\">\n",
       "      <th></th>\n",
       "      <th>bathrooms</th>\n",
       "      <th>bedrooms</th>\n",
       "      <th>sqft</th>\n",
       "      <th>tax_value</th>\n",
       "      <th>lotsizesquarefeet</th>\n",
       "      <th>yearbuilt</th>\n",
       "      <th>structuretaxvaluedollarcnt</th>\n",
       "      <th>logerror</th>\n",
       "    </tr>\n",
       "    <tr>\n",
       "      <th>cluster</th>\n",
       "      <th></th>\n",
       "      <th></th>\n",
       "      <th></th>\n",
       "      <th></th>\n",
       "      <th></th>\n",
       "      <th></th>\n",
       "      <th></th>\n",
       "      <th></th>\n",
       "    </tr>\n",
       "  </thead>\n",
       "  <tbody>\n",
       "    <tr>\n",
       "      <th>3</th>\n",
       "      <td>2.079221</td>\n",
       "      <td>3.207143</td>\n",
       "      <td>1688.960390</td>\n",
       "      <td>355769.251299</td>\n",
       "      <td>6909.986004</td>\n",
       "      <td>1958.977922</td>\n",
       "      <td>136166.300691</td>\n",
       "      <td>-0.143078</td>\n",
       "    </tr>\n",
       "    <tr>\n",
       "      <th>5</th>\n",
       "      <td>2.106035</td>\n",
       "      <td>3.237107</td>\n",
       "      <td>1698.640060</td>\n",
       "      <td>358081.599401</td>\n",
       "      <td>6912.691138</td>\n",
       "      <td>1959.856195</td>\n",
       "      <td>138559.857593</td>\n",
       "      <td>-0.058512</td>\n",
       "    </tr>\n",
       "    <tr>\n",
       "      <th>0</th>\n",
       "      <td>2.110939</td>\n",
       "      <td>3.248263</td>\n",
       "      <td>1704.004507</td>\n",
       "      <td>357317.288638</td>\n",
       "      <td>6975.067430</td>\n",
       "      <td>1960.271268</td>\n",
       "      <td>139024.842534</td>\n",
       "      <td>-0.010883</td>\n",
       "    </tr>\n",
       "    <tr>\n",
       "      <th>2</th>\n",
       "      <td>2.100648</td>\n",
       "      <td>3.240259</td>\n",
       "      <td>1699.026008</td>\n",
       "      <td>357561.731413</td>\n",
       "      <td>7023.033409</td>\n",
       "      <td>1959.941216</td>\n",
       "      <td>139010.854374</td>\n",
       "      <td>0.025604</td>\n",
       "    </tr>\n",
       "    <tr>\n",
       "      <th>4</th>\n",
       "      <td>2.111809</td>\n",
       "      <td>3.251389</td>\n",
       "      <td>1711.441922</td>\n",
       "      <td>357970.830717</td>\n",
       "      <td>7006.796383</td>\n",
       "      <td>1959.653224</td>\n",
       "      <td>138713.071412</td>\n",
       "      <td>0.077396</td>\n",
       "    </tr>\n",
       "    <tr>\n",
       "      <th>1</th>\n",
       "      <td>2.110083</td>\n",
       "      <td>3.204212</td>\n",
       "      <td>1693.596682</td>\n",
       "      <td>370372.281429</td>\n",
       "      <td>6940.276628</td>\n",
       "      <td>1959.433312</td>\n",
       "      <td>139552.136639</td>\n",
       "      <td>0.163531</td>\n",
       "    </tr>\n",
       "  </tbody>\n",
       "</table>\n",
       "</div>"
      ],
      "text/plain": [
       "         bathrooms  bedrooms         sqft      tax_value  lotsizesquarefeet  \\\n",
       "cluster                                                                       \n",
       "3         2.079221  3.207143  1688.960390  355769.251299        6909.986004   \n",
       "5         2.106035  3.237107  1698.640060  358081.599401        6912.691138   \n",
       "0         2.110939  3.248263  1704.004507  357317.288638        6975.067430   \n",
       "2         2.100648  3.240259  1699.026008  357561.731413        7023.033409   \n",
       "4         2.111809  3.251389  1711.441922  357970.830717        7006.796383   \n",
       "1         2.110083  3.204212  1693.596682  370372.281429        6940.276628   \n",
       "\n",
       "           yearbuilt  structuretaxvaluedollarcnt  logerror  \n",
       "cluster                                                     \n",
       "3        1958.977922               136166.300691 -0.143078  \n",
       "5        1959.856195               138559.857593 -0.058512  \n",
       "0        1960.271268               139024.842534 -0.010883  \n",
       "2        1959.941216               139010.854374  0.025604  \n",
       "4        1959.653224               138713.071412  0.077396  \n",
       "1        1959.433312               139552.136639  0.163531  "
      ]
     },
     "execution_count": 36,
     "metadata": {},
     "output_type": "execute_result"
    }
   ],
   "source": [
    "train.groupby('cluster').mean().sort_values(by='logerror')"
   ]
  },
  {
   "cell_type": "code",
   "execution_count": 37,
   "metadata": {},
   "outputs": [
    {
     "data": {
      "text/plain": [
       "0    10650\n",
       "2    10343\n",
       "5     4673\n",
       "4     4141\n",
       "1     1567\n",
       "3     1540\n",
       "Name: cluster, dtype: int64"
      ]
     },
     "execution_count": 37,
     "metadata": {},
     "output_type": "execute_result"
    }
   ],
   "source": [
    "train.cluster.value_counts()"
   ]
  },
  {
   "cell_type": "code",
   "execution_count": null,
   "metadata": {},
   "outputs": [],
   "source": []
  },
  {
   "cell_type": "code",
   "execution_count": null,
   "metadata": {},
   "outputs": [],
   "source": []
  }
 ],
 "metadata": {
  "kernelspec": {
   "display_name": "Python 3",
   "language": "python",
   "name": "python3"
  },
  "language_info": {
   "codemirror_mode": {
    "name": "ipython",
    "version": 3
   },
   "file_extension": ".py",
   "mimetype": "text/x-python",
   "name": "python",
   "nbconvert_exporter": "python",
   "pygments_lexer": "ipython3",
   "version": "3.7.3"
  }
 },
 "nbformat": 4,
 "nbformat_minor": 2
}
